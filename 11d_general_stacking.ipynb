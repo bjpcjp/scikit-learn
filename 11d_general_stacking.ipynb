{
 "cells": [
  {
   "cell_type": "markdown",
   "metadata": {},
   "source": [
    "### General Stacking [classification](https://scikit-learn.org/stable/modules/generated/sklearn.ensemble.StackingClassifier.html#sklearn.ensemble.StackingClassifier) & [regression](https://scikit-learn.org/stable/modules/generated/sklearn.ensemble.StackingRegressor.html#sklearn.ensemble.StackingRegressor)\n",
    "- A method for combining estimators to reduce bias.\n",
    "- Individual predictions are stacked and fed to a final estimator.\n",
    "- Final estimator is trained via cross-validation.\n",
    "- `estimators` controls the list of stacked estimators. It is a list of names & methods."
   ]
  },
  {
   "cell_type": "code",
   "execution_count": 2,
   "metadata": {},
   "outputs": [],
   "source": [
    "from sklearn.linear_model import RidgeCV, LassoCV\n",
    "from sklearn.neighbors import KNeighborsRegressor as KNR\n",
    "estimators = [('ridge', RidgeCV()),\n",
    "              ('lasso', LassoCV(random_state=42)),\n",
    "              ('knr', KNR(n_neighbors=20, metric='euclidean'))]"
   ]
  },
  {
   "cell_type": "code",
   "execution_count": 3,
   "metadata": {},
   "outputs": [],
   "source": [
    "# final estimator definition\n",
    "from sklearn.ensemble import GradientBoostingRegressor as GBR\n",
    "from sklearn.ensemble import StackingRegressor as SR\n",
    "\n",
    "final_estimator = GBR(\n",
    "    n_estimators=25, subsample=0.5, min_samples_leaf=25, max_features=1,\n",
    "    random_state=42)\n",
    "\n",
    "reg = SR(estimators=estimators, final_estimator=final_estimator)"
   ]
  },
  {
   "cell_type": "code",
   "execution_count": 4,
   "metadata": {},
   "outputs": [
    {
     "data": {
      "text/plain": [
       "StackingRegressor(estimators=[('ridge',\n",
       "                               RidgeCV(alphas=array([ 0.1,  1. , 10. ]))),\n",
       "                              ('lasso', LassoCV(random_state=42)),\n",
       "                              ('knr',\n",
       "                               KNeighborsRegressor(metric='euclidean',\n",
       "                                                   n_neighbors=20))],\n",
       "                  final_estimator=GradientBoostingRegressor(max_features=1,\n",
       "                                                            min_samples_leaf=25,\n",
       "                                                            n_estimators=25,\n",
       "                                                            random_state=42,\n",
       "                                                            subsample=0.5))"
      ]
     },
     "execution_count": 4,
     "metadata": {},
     "output_type": "execute_result"
    }
   ],
   "source": [
    "# training\n",
    "from sklearn.datasets import load_diabetes\n",
    "X, y = load_diabetes(return_X_y=True)\n",
    "from sklearn.model_selection import train_test_split as TTS\n",
    "X_train, X_test, y_train, y_test = TTS(X, y, random_state=42)\n",
    "reg.fit(X_train, y_train)"
   ]
  },
  {
   "cell_type": "markdown",
   "metadata": {},
   "source": [
    "- Estimators are trained on the entire training dataset (`X_train`).\n",
    "- Estimator outputs are controlled with `stack_method`. `stack_method=\"auto\"` will select a method from `predict_proba`, `decision_function`, and `predict`.\n",
    "- Stacking regressors & classifiers can be used as any other regressor or classifier. They also can provide the output of the stacked estimators via the `transform` method."
   ]
  },
  {
   "cell_type": "code",
   "execution_count": 5,
   "metadata": {},
   "outputs": [
    {
     "name": "stdout",
     "output_type": "stream",
     "text": [
      "R2 score: 0.53\n",
      "[[142.36214074 138.30765507 146.1       ]\n",
      " [179.70207217 182.90046333 151.75      ]\n",
      " [139.89924327 132.47007083 158.25      ]\n",
      " [286.94742491 292.65164781 225.4       ]\n",
      " [126.88190192 124.11964797 164.65      ]]\n"
     ]
    }
   ],
   "source": [
    "y_pred = reg.predict(X_test)\n",
    "from sklearn.metrics import r2_score\n",
    "print('R2 score: {:.2f}'.format(r2_score(y_test, y_pred)))\n",
    "\n",
    "print(reg.transform(X_test[:5]))"
   ]
  },
  {
   "cell_type": "markdown",
   "metadata": {},
   "source": [
    "- Stack multiple layers by assigning `final_estimator` to a stacking classifier or regressor."
   ]
  },
  {
   "cell_type": "code",
   "execution_count": 7,
   "metadata": {},
   "outputs": [
    {
     "name": "stdout",
     "output_type": "stream",
     "text": [
      "R2 score: 0.53\n"
     ]
    }
   ],
   "source": [
    "from sklearn.ensemble import RandomForestRegressor as RFR\n",
    "from sklearn.ensemble import GradientBoostingRegressor as GBR\n",
    "from sklearn.ensemble import StackingRegressor as SR\n",
    "from sklearn.neighbors import KNeighborsRegressor as KNR\n",
    "\n",
    "final_layer_rfr = RFR(n_estimators=10, max_features=1, max_leaf_nodes=5,random_state=42)\n",
    "final_layer_gbr = GBR(n_estimators=10, max_features=1, max_leaf_nodes=5,random_state=42)\n",
    "final_layer = SR(\n",
    "    estimators=[('rf', final_layer_rfr),\n",
    "                ('gbrt', final_layer_gbr)],\n",
    "    final_estimator=RidgeCV()\n",
    "    )\n",
    "multi_layer_regressor = SR(\n",
    "    estimators=[('ridge', RidgeCV()),\n",
    "                ('lasso', LassoCV(random_state=42)),\n",
    "                ('knr', KNR(n_neighbors=20, metric='euclidean'))],\n",
    "    final_estimator=final_layer\n",
    ")\n",
    "multi_layer_regressor.fit(X_train, y_train)\n",
    "\n",
    "print('R2 score: {:.2f}'\n",
    "      .format(multi_layer_regressor.score(X_test, y_test)))\n"
   ]
  },
  {
   "cell_type": "code",
   "execution_count": null,
   "metadata": {},
   "outputs": [],
   "source": []
  }
 ],
 "metadata": {
  "kernelspec": {
   "display_name": "Python [conda env:working] *",
   "language": "python",
   "name": "conda-env-working-py"
  },
  "language_info": {
   "codemirror_mode": {
    "name": "ipython",
    "version": 3
   },
   "file_extension": ".py",
   "mimetype": "text/x-python",
   "name": "python",
   "nbconvert_exporter": "python",
   "pygments_lexer": "ipython3",
   "version": "3.8.2"
  }
 },
 "nbformat": 4,
 "nbformat_minor": 4
}
