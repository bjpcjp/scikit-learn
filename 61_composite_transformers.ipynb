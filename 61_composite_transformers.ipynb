{
 "cells": [
  {
   "cell_type": "markdown",
   "metadata": {},
   "source": [
    "### [Pipelines & Composite Estimators](https://scikit-learn.org/stable/modules/compose.html)\n",
    "\n",
    "- Transformers are often combined with classifiers, regressors or other estimators to build a composite estimator. \n",
    "\n",
    "- [Pipeline](https://scikit-learn.org/stable/modules/generated/sklearn.pipeline.Pipeline.html#sklearn.pipeline.Pipeline), the most common tool, is combined with [FeatureUnion](https://scikit-learn.org/stable/modules/compose.html#feature-union) to concatenate transformer outputs into a composite feature space. \n",
    "\n",
    "- [TransformedTargetRegressor](https://scikit-learn.org/stable/modules/compose.html#transformed-target-regressor) deals with transforming the target (i.e. log-transform y)."
   ]
  },
  {
   "cell_type": "markdown",
   "metadata": {},
   "source": [
    "### [Pipelines](https://scikit-learn.org/stable/modules/generated/sklearn.pipeline.Pipeline.html#sklearn.pipeline.Pipeline)\n",
    "\n",
    "- Pipelines chain multiple estimators into one. This enables you to:\n",
    "\n",
    "    - Only call `fit` & `predict` once on your dataset.\n",
    "    - Use grid search over the parameters of all the estimators in the chain at once.\n",
    "    - Help prevent test data from leaking into a trained model during cross-validation.\n",
    "    \n",
    "    \n",
    "- All elements in the pipeline must be *transformers*, except the last element (which may be any type - transformer, classifier, etc.)\n",
    "\n",
    "- Built using `(key,value)` pairs. `key` is a step name (string); `value` is an estimator object.\n",
    "\n",
    "- When you call `fit` on a pipeline, you are calling `fit` on each estimator, `transform`, then passing the data to the next step."
   ]
  },
  {
   "cell_type": "code",
   "execution_count": 1,
   "metadata": {},
   "outputs": [
    {
     "name": "stdout",
     "output_type": "stream",
     "text": [
      "Pipeline(steps=[('reduce_dim', PCA()), ('clf', SVC())])\n"
     ]
    }
   ],
   "source": [
    "from sklearn.pipeline import Pipeline\n",
    "from sklearn.svm import SVC\n",
    "from sklearn.decomposition import PCA\n",
    "estimators = [('reduce_dim', PCA()), ('clf', SVC())]\n",
    "pipe = Pipeline(estimators)\n",
    "print(pipe)"
   ]
  },
  {
   "cell_type": "markdown",
   "metadata": {},
   "source": [
    "- [make_pipeline](https://scikit-learn.org/stable/modules/generated/sklearn.pipeline.make_pipeline.html#sklearn.pipeline.make_pipeline) is a shorthand constructor."
   ]
  },
  {
   "cell_type": "code",
   "execution_count": 2,
   "metadata": {},
   "outputs": [
    {
     "data": {
      "text/plain": [
       "Pipeline(steps=[('binarizer', Binarizer()), ('multinomialnb', MultinomialNB())])"
      ]
     },
     "execution_count": 2,
     "metadata": {},
     "output_type": "execute_result"
    }
   ],
   "source": [
    "from sklearn.pipeline      import make_pipeline\n",
    "from sklearn.naive_bayes   import MultinomialNB\n",
    "from sklearn.preprocessing import Binarizer\n",
    "\n",
    "make_pipeline(Binarizer(), MultinomialNB())"
   ]
  },
  {
   "cell_type": "markdown",
   "metadata": {},
   "source": [
    "- Access the list of steps via `steps`.\n",
    "- Access a specific step with an `[indexvalue]`.\n",
    "- Use `named_steps` to access a step by name.\n",
    "- Use Python slicing to access sublists."
   ]
  },
  {
   "cell_type": "code",
   "execution_count": 5,
   "metadata": {},
   "outputs": [
    {
     "name": "stdout",
     "output_type": "stream",
     "text": [
      "('reduce_dim', PCA())\n",
      "PCA()\n",
      "PCA()\n",
      "Pipeline(steps=[('reduce_dim', PCA())])\n",
      "Pipeline(steps=[('clf', SVC())])\n"
     ]
    }
   ],
   "source": [
    "print(pipe.steps[0])\n",
    "print(pipe[0])\n",
    "print(pipe['reduce_dim'])\n",
    "print(pipe[:1])\n",
    "print(pipe[-1:])"
   ]
  },
  {
   "cell_type": "markdown",
   "metadata": {},
   "source": [
    "- Use the `<estimator>_<parameter>` syntax to access params.\n",
    "- This is key for doing grid searches."
   ]
  },
  {
   "cell_type": "code",
   "execution_count": 7,
   "metadata": {},
   "outputs": [],
   "source": [
    "pipe.set_params(clf__C=10)\n",
    "\n",
    "from sklearn.model_selection import GridSearchCV\n",
    "\n",
    "param_grid = dict(reduce_dim__n_components = [2,    5,  10],\n",
    "                  clf__C                   = [0.1, 10, 100])\n",
    "\n",
    "grid_search = GridSearchCV(pipe, param_grid=param_grid)"
   ]
  },
  {
   "cell_type": "markdown",
   "metadata": {},
   "source": [
    "### Caching\n",
    "\n",
    "- Fitting transformers can be computationally expensive. With its memory parameter set, *Pipeline caches each transformer after calling fit*. This avoids computing the fit transformers if the parameters and input data are identical. \n",
    "\n",
    "- A typical example is a grid search where the transformers can be fitted only once and reused for each configuration.\n",
    "\n",
    "- The `memory` param caches the transformers. It can be a file directory (string) or a `joblib.Memory` object."
   ]
  },
  {
   "cell_type": "code",
   "execution_count": 8,
   "metadata": {},
   "outputs": [
    {
     "name": "stdout",
     "output_type": "stream",
     "text": [
      "Pipeline(memory='/tmp/tmpv1xgcubj',\n",
      "         steps=[('reduce_dim', PCA()), ('clf', SVC())])\n"
     ]
    }
   ],
   "source": [
    "from tempfile import mkdtemp\n",
    "from shutil import rmtree\n",
    "from sklearn.decomposition import PCA\n",
    "from sklearn.svm import SVC\n",
    "from sklearn.pipeline import Pipeline\n",
    "\n",
    "estimators = [('reduce_dim', PCA()), ('clf', SVC())]\n",
    "cachedir = mkdtemp()\n",
    "pipe = Pipeline(estimators, memory=cachedir)\n",
    "print(pipe)\n",
    "\n",
    "# Clear the cache directory when you don't need it anymore\n",
    "rmtree(cachedir)"
   ]
  },
  {
   "cell_type": "markdown",
   "metadata": {},
   "source": [
    "### [Example: Anova-SVM Pipeline](https://scikit-learn.org/stable/auto_examples/feature_selection/plot_feature_selection_pipeline.html#sphx-glr-auto-examples-feature-selection-plot-feature-selection-pipeline-py)\n",
    "\n",
    "- Simple usage of Pipeline that runs successively a univariate feature selection with anova, then an SVM of the selected features.\n",
    "\n",
    "- Using a sub-pipeline, the fitted coefficients can be mapped back into the original feature space."
   ]
  },
  {
   "cell_type": "code",
   "execution_count": 9,
   "metadata": {},
   "outputs": [],
   "source": [
    "from sklearn import svm\n",
    "from sklearn.datasets import make_classification\n",
    "from sklearn.feature_selection import SelectKBest, f_classif\n",
    "from sklearn.pipeline import make_pipeline\n",
    "from sklearn.model_selection import train_test_split\n",
    "from sklearn.metrics import classification_report"
   ]
  },
  {
   "cell_type": "code",
   "execution_count": 10,
   "metadata": {},
   "outputs": [
    {
     "name": "stdout",
     "output_type": "stream",
     "text": [
      "              precision    recall  f1-score   support\n",
      "\n",
      "           0       0.80      0.67      0.73         6\n",
      "           1       1.00      1.00      1.00         8\n",
      "           2       0.50      0.50      0.50         4\n",
      "           3       0.88      1.00      0.93         7\n",
      "\n",
      "    accuracy                           0.84        25\n",
      "   macro avg       0.79      0.79      0.79        25\n",
      "weighted avg       0.84      0.84      0.84        25\n",
      "\n",
      "[[ 0.          0.          0.          0.         -0.89692375  0.\n",
      "   0.          0.          0.         -0.8441991   0.          0.\n",
      "   0.          0.          0.          0.          0.          0.09327477\n",
      "   0.          0.        ]\n",
      " [ 0.          0.          0.          0.          0.25133269  0.\n",
      "   0.          0.          0.         -0.23891293  0.          0.\n",
      "   0.          0.          0.          0.          0.         -0.01275187\n",
      "   0.          0.        ]\n",
      " [ 0.          0.          0.          0.         -0.45895802  0.\n",
      "   0.          0.          0.          0.28427752  0.          0.\n",
      "   0.          0.          0.          0.          0.         -0.21902466\n",
      "   0.          0.        ]\n",
      " [ 0.          0.          0.          0.          0.76362301  0.\n",
      "   0.          0.          0.          0.61196824  0.          0.\n",
      "   0.          0.          0.          0.          0.         -0.11151014\n",
      "   0.          0.        ]]\n"
     ]
    }
   ],
   "source": [
    "X, y = make_classification(\n",
    "    n_features=20, n_informative=3, n_redundant=0, n_classes=4,\n",
    "    n_clusters_per_class=2)\n",
    "\n",
    "X_train, X_test, y_train, y_test = train_test_split(\n",
    "    X, y, random_state=42)\n",
    "\n",
    "# ANOVA SVM-C\n",
    "anova_filter = SelectKBest(f_classif, k=3)\n",
    "clf          = svm.LinearSVC()\n",
    "anova_svm    = make_pipeline(anova_filter, clf).fit(X_train, \n",
    "                                                    y_train)\n",
    "\n",
    "y_pred = anova_svm.predict(X_test)\n",
    "coef   = anova_svm[:-1].inverse_transform(anova_svm['linearsvc'].coef_)\n",
    "\n",
    "print(classification_report(y_test, y_pred))\n",
    "print(coef)"
   ]
  },
  {
   "cell_type": "markdown",
   "metadata": {},
   "source": [
    "### [Example: PCA-Logistic Regression Pipeline](https://scikit-learn.org/stable/auto_examples/compose/plot_digits_pipe.html#sphx-glr-auto-examples-compose-plot-digits-pipe-py)\n",
    "\n",
    "- PCA for unsupervised dimensionality reduction; logistic regression does the prediction. Use GridSearchCV to set the dimensionality of the PCA."
   ]
  },
  {
   "cell_type": "code",
   "execution_count": 11,
   "metadata": {},
   "outputs": [],
   "source": [
    "import numpy as np\n",
    "import matplotlib.pyplot as plt\n",
    "import pandas as pd\n",
    "\n",
    "from sklearn import datasets\n",
    "from sklearn.decomposition import PCA\n",
    "from sklearn.linear_model import LogisticRegression\n",
    "from sklearn.pipeline import Pipeline\n",
    "from sklearn.model_selection import GridSearchCV"
   ]
  },
  {
   "cell_type": "code",
   "execution_count": 13,
   "metadata": {},
   "outputs": [
    {
     "name": "stdout",
     "output_type": "stream",
     "text": [
      "Best parameter (CV score=0.920):\n",
      "{'logistic__C': 0.046415888336127774, 'pca__n_components': 45}\n"
     ]
    },
    {
     "data": {
      "text/plain": [
       "PCA()"
      ]
     },
     "execution_count": 13,
     "metadata": {},
     "output_type": "execute_result"
    }
   ],
   "source": [
    "pca  = PCA()\n",
    "lr   = LogisticRegression(max_iter=10000, tol=0.1)\n",
    "pipe = Pipeline(steps=[('pca', pca), ('logistic', lr)])\n",
    "\n",
    "X_digits, y_digits = datasets.load_digits(return_X_y=True)\n",
    "\n",
    "# Parameters of pipelines can be set using ‘__’ separated parameter names:\n",
    "param_grid = {\n",
    "    'pca__n_components': [5, 15, 30, 45, 64],\n",
    "    'logistic__C':       np.logspace(-4, 4, 4),\n",
    "}\n",
    "search = GridSearchCV(pipe, \n",
    "                      param_grid, \n",
    "                      n_jobs=-1).fit(X_digits, \n",
    "                                     y_digits)\n",
    "\n",
    "print(\"Best parameter (CV score=%0.3f):\" % search.best_score_)\n",
    "print(search.best_params_)\n",
    "pca.fit(X_digits)\n"
   ]
  },
  {
   "cell_type": "code",
   "execution_count": 14,
   "metadata": {},
   "outputs": [
    {
     "data": {
      "image/png": "[encoded data removed]",
      "text/plain": [
       "<Figure size 432x432 with 2 Axes>"
      ]
     },
     "metadata": {
      "needs_background": "light"
     },
     "output_type": "display_data"
    }
   ],
   "source": [
    "fig, (ax0, ax1) = plt.subplots(nrows=2, sharex=True, figsize=(6, 6))\n",
    "\n",
    "ax0.plot(np.arange(1, pca.n_components_ + 1),\n",
    "         pca.explained_variance_ratio_, '+', linewidth=2)\n",
    "ax0.set_ylabel('PCA explained variance ratio')\n",
    "\n",
    "ax0.axvline(search.best_estimator_.named_steps['pca'].n_components,\n",
    "            linestyle=':', label='n_components chosen')\n",
    "ax0.legend(prop=dict(size=12))\n",
    "\n",
    "results        = pd.DataFrame(search.cv_results_)\n",
    "components_col = 'param_pca__n_components'\n",
    "best_clfs      = results.groupby(components_col).apply(\n",
    "    lambda g: g.nlargest(1, 'mean_test_score'))\n",
    "\n",
    "best_clfs.plot(x=components_col, \n",
    "               y='mean_test_score', \n",
    "               yerr='std_test_score',\n",
    "               legend=False, \n",
    "               ax=ax1)\n",
    "ax1.set_ylabel('Classification accuracy (val)')\n",
    "ax1.set_xlabel('n_components')\n",
    "plt.xlim(-1, 70)\n",
    "plt.tight_layout()"
   ]
  },
  {
   "cell_type": "markdown",
   "metadata": {},
   "source": [
    "### [Example: Feature map approximation for RBF kernels](https://scikit-learn.org/stable/auto_examples/miscellaneous/plot_kernel_approximation.html#sphx-glr-auto-examples-miscellaneous-plot-kernel-approximation-py)\n",
    "\n",
    "- Shows how to use RBF Sample and Nystroem to approximate the feature map of an RBF kernel for classification with an SVM.\n",
    "\n",
    "- Compares results between a linear SVM (original space), linear SVM (approx mapping), and a kernelized SVM."
   ]
  },
  {
   "cell_type": "code",
   "execution_count": 15,
   "metadata": {},
   "outputs": [],
   "source": [
    "import matplotlib.pyplot as plt\n",
    "import numpy as np\n",
    "from time import time\n",
    "from sklearn import datasets, svm, pipeline\n",
    "from sklearn.kernel_approximation import (RBFSampler,Nystroem)\n",
    "from sklearn.decomposition import PCA\n",
    "digits = datasets.load_digits(n_class=9)"
   ]
  },
  {
   "cell_type": "code",
   "execution_count": 16,
   "metadata": {},
   "outputs": [],
   "source": [
    "n_samples = len(digits.data)\n",
    "data      = digits.data / 16.\n",
    "data     -= data.mean(axis=0)\n",
    "\n",
    "# train on 1st half of the digits\n",
    "# predict on 2nd half of digits\n",
    "data_train, targets_train = (data[:n_samples // 2],\n",
    "                             digits.target[:n_samples // 2])\n",
    "data_test, targets_test   = (data[n_samples // 2:],\n",
    "                             digits.target[n_samples // 2:])\n",
    "# data_test = scaler.transform(data_test)\n",
    "\n",
    "# Create a classifier\n",
    "kernel_svm = svm.SVC(gamma=.2)\n",
    "linear_svm = svm.LinearSVC()\n",
    "\n",
    "# create pipeline from kernel approximation and linear svm\n",
    "feature_map_fourier  = RBFSampler(gamma=.2, random_state=1)\n",
    "feature_map_nystroem = Nystroem(  gamma=.2, random_state=1)\n",
    "\n",
    "fourier_approx_svm   = pipeline.Pipeline([(\"feature_map\", \n",
    "                                           feature_map_fourier),\n",
    "                                        (\"svm\", \n",
    "                                         svm.LinearSVC())])\n",
    "nystroem_approx_svm = pipeline.Pipeline([(\"feature_map\", \n",
    "                                          feature_map_nystroem),\n",
    "                                        (\"svm\", \n",
    "                                         svm.LinearSVC())])\n",
    "\n",
    "# fit and predict\n",
    "\n",
    "kernel_svm_time = time()\n",
    "kernel_svm.fit(data_train, targets_train)\n",
    "kernel_svm_score = kernel_svm.score(data_test, targets_test)\n",
    "kernel_svm_time  = time() - kernel_svm_time\n",
    "\n",
    "linear_svm_time = time()\n",
    "linear_svm.fit(data_train, targets_train)\n",
    "linear_svm_score = linear_svm.score(data_test, targets_test)\n",
    "linear_svm_time  = time() - linear_svm_time\n",
    "\n",
    "sample_sizes = 30 * np.arange(1, 10)\n",
    "fourier_scores, nystroem_scores = [],[]\n",
    "fourier_times,  nystroem_times  = [],[]\n",
    "\n",
    "for D in sample_sizes:\n",
    "    fourier_approx_svm.set_params(feature_map__n_components=D)\n",
    "    nystroem_approx_svm.set_params(feature_map__n_components=D)\n",
    "\n",
    "    start = time()\n",
    "    nystroem_approx_svm.fit(data_train, targets_train)\n",
    "    nystroem_times.append(time() - start)\n",
    "\n",
    "    start = time()\n",
    "    fourier_approx_svm.fit(data_train, targets_train)\n",
    "    fourier_times.append(time() - start)\n",
    "\n",
    "    fourier_score = fourier_approx_svm.score(data_test, targets_test)\n",
    "    nystroem_score = nystroem_approx_svm.score(data_test, targets_test)\n",
    "    nystroem_scores.append(nystroem_score)\n",
    "    fourier_scores.append(fourier_score)"
   ]
  },
  {
   "cell_type": "code",
   "execution_count": 17,
   "metadata": {},
   "outputs": [
    {
     "data": {
      "image/png": "[encoded data removed]",
      "text/plain": [
       "<Figure size 1152x288 with 2 Axes>"
      ]
     },
     "metadata": {
      "needs_background": "light"
     },
     "output_type": "display_data"
    }
   ],
   "source": [
    "plt.figure(figsize=(16, 4))\n",
    "accuracy = plt.subplot(121)\n",
    "# second y axis for timings\n",
    "timescale = plt.subplot(122)\n",
    "\n",
    "accuracy.plot(sample_sizes, \n",
    "              nystroem_scores, \n",
    "              label=\"Nystroem approx. kernel\")\n",
    "timescale.plot(sample_sizes, \n",
    "               nystroem_times, '--',\n",
    "               label='Nystroem approx. kernel')\n",
    "\n",
    "accuracy.plot(sample_sizes, \n",
    "              fourier_scores, \n",
    "              label=\"Fourier approx. kernel\")\n",
    "timescale.plot(sample_sizes, \n",
    "               fourier_times, '--',\n",
    "               label='Fourier approx. kernel')\n",
    "\n",
    "# horizontal lines for exact rbf and linear kernels:\n",
    "accuracy.plot([sample_sizes[0], \n",
    "               sample_sizes[-1]],\n",
    "              [linear_svm_score, \n",
    "               linear_svm_score], \n",
    "              label=\"linear svm\")\n",
    "\n",
    "timescale.plot([sample_sizes[0], \n",
    "                sample_sizes[-1]],\n",
    "               [linear_svm_time, \n",
    "                linear_svm_time], '--', \n",
    "               label='linear svm')\n",
    "\n",
    "accuracy.plot([sample_sizes[0], \n",
    "               sample_sizes[-1]],\n",
    "              [kernel_svm_score, \n",
    "               kernel_svm_score], \n",
    "              label=\"rbf svm\")\n",
    "\n",
    "timescale.plot([sample_sizes[0], \n",
    "                sample_sizes[-1]],\n",
    "               [kernel_svm_time, \n",
    "                kernel_svm_time], '--', \n",
    "               label='rbf svm')\n",
    "\n",
    "# vertical line for dataset dimensionality = 64\n",
    "accuracy.plot([64, 64], [0.7, 1], label=\"n_features\")\n",
    "\n",
    "# legends and labels\n",
    "accuracy.set_title(\"Classification accuracy\")\n",
    "timescale.set_title(\"Training times\")\n",
    "accuracy.set_xlim(sample_sizes[0], sample_sizes[-1])\n",
    "accuracy.set_xticks(())\n",
    "accuracy.set_ylim(np.min(fourier_scores), 1)\n",
    "timescale.set_xlabel(\"Sampling steps = transformed feature dimension\")\n",
    "accuracy.set_ylabel(\"Classification accuracy\")\n",
    "timescale.set_ylabel(\"Training time in seconds\")\n",
    "accuracy.legend(loc='best')\n",
    "timescale.legend(loc='best')\n",
    "plt.tight_layout()"
   ]
  },
  {
   "cell_type": "markdown",
   "metadata": {},
   "source": [
    "### [Regression Target Transformer](https://scikit-learn.org/stable/modules/generated/sklearn.compose.TransformedTargetRegressor.html#sklearn.compose.TransformedTargetRegressor)\n",
    "\n",
    "- Transforms targets y before fitting a regression model. The predictions are mapped back to the original space via an inverse transform. It takes as an argument the regressor that will be used for prediction, and the transformer that will be applied to the target variable."
   ]
  },
  {
   "cell_type": "code",
   "execution_count": 18,
   "metadata": {},
   "outputs": [
    {
     "name": "stdout",
     "output_type": "stream",
     "text": [
      "R2 score: 0.61\n",
      "R2 score: 0.59\n"
     ]
    }
   ],
   "source": [
    "import numpy as np\n",
    "from sklearn.datasets import fetch_california_housing\n",
    "from sklearn.compose import TransformedTargetRegressor as TTR\n",
    "from sklearn.preprocessing import QuantileTransformer\n",
    "from sklearn.linear_model import LinearRegression\n",
    "from sklearn.model_selection import train_test_split\n",
    "\n",
    "X, y = fetch_california_housing(return_X_y=True)\n",
    "X, y = X[:2000, :], y[:2000]  # select a subset of data\n",
    "\n",
    "transformer = QuantileTransformer(output_distribution='normal')\n",
    "regressor   = LinearRegression()\n",
    "regr        = TTR(regressor=regressor,\n",
    "                  transformer=transformer)\n",
    "\n",
    "X_train, X_test, y_train, y_test = train_test_split(\n",
    "    X, y, random_state=0)\n",
    "\n",
    "regr.fit(X_train, y_train)\n",
    "\n",
    "print('R2 score: {0:.2f}'.format(regr.score(X_test, y_test)))\n",
    "\n",
    "raw_target_regr = LinearRegression().fit(X_train, y_train)\n",
    "\n",
    "print('R2 score: {0:.2f}'.format(raw_target_regr.score(X_test, y_test)))"
   ]
  },
  {
   "cell_type": "markdown",
   "metadata": {},
   "source": [
    "- If using simple transformations, you can pass a pair of functions instead. They define the transform and its inverse mapping."
   ]
  },
  {
   "cell_type": "code",
   "execution_count": 21,
   "metadata": {},
   "outputs": [
    {
     "name": "stdout",
     "output_type": "stream",
     "text": [
      "R2 score: 0.51\n"
     ]
    }
   ],
   "source": [
    "def func(x):\n",
    "    return np.log(x)\n",
    "def inverse_func(x):\n",
    "    return np.exp(x)\n",
    "\n",
    "regr = TTR(regressor=regressor,\n",
    "           func=func,\n",
    "           inverse_func=inverse_func).fit(X_train, y_train)\n",
    "\n",
    "print('R2 score: {0:.2f}'.format(regr.score(X_test, y_test)))"
   ]
  },
  {
   "cell_type": "markdown",
   "metadata": {},
   "source": [
    "- The functions are verified to be the inverse of each other during each fit. `check_inverse=False` bypasses this check."
   ]
  },
  {
   "cell_type": "code",
   "execution_count": 22,
   "metadata": {},
   "outputs": [
    {
     "name": "stdout",
     "output_type": "stream",
     "text": [
      "R2 score: -1.57\n"
     ]
    }
   ],
   "source": [
    "def inverse_func(x):\n",
    "    return x\n",
    "\n",
    "regr = TTR(regressor=regressor,\n",
    "           func=func,\n",
    "           inverse_func=inverse_func,\n",
    "           check_inverse=False).fit(X_train, y_train)\n",
    "\n",
    "print('R2 score: {0:.2f}'.format(regr.score(X_test, y_test)))"
   ]
  },
  {
   "cell_type": "markdown",
   "metadata": {},
   "source": [
    "### [Example: Target Transforms prior to Regression Learning](https://scikit-learn.org/stable/auto_examples/compose/plot_transformed_target.html#sphx-glr-auto-examples-compose-plot-transformed-target-py)\n",
    "\n",
    "- Uses two examples (one w/ synthetic data, another w/ Ames housing data.)"
   ]
  },
  {
   "cell_type": "code",
   "execution_count": 7,
   "metadata": {},
   "outputs": [],
   "source": [
    "import numpy as np\n",
    "import matplotlib\n",
    "import matplotlib.pyplot as plt\n",
    "\n",
    "from sklearn.datasets import make_regression\n",
    "from sklearn.model_selection import train_test_split\n",
    "from sklearn.linear_model import RidgeCV\n",
    "from sklearn.compose import TransformedTargetRegressor as TTR\n",
    "from sklearn.metrics import median_absolute_error, r2_score\n",
    "from sklearn.utils.fixes import parse_version"
   ]
  },
  {
   "cell_type": "code",
   "execution_count": 8,
   "metadata": {},
   "outputs": [],
   "source": [
    "# example #1 - synthetic data\n",
    "# `normed` is being deprecated in favor of `density` in histograms\n",
    "if parse_version(matplotlib.__version__) >= parse_version('2.1'):\n",
    "    density_param = {'density': True}\n",
    "else:\n",
    "    density_param = {'normed': True}"
   ]
  },
  {
   "cell_type": "markdown",
   "metadata": {},
   "source": [
    "- Generate synthetic random regression dataset\n",
    "- Translate the targets (`y`) to all non-negative\n",
    "- Add exponential function to make targets non-linear\n",
    "- Plot probability density functions before & after applying the log functions."
   ]
  },
  {
   "cell_type": "code",
   "execution_count": 9,
   "metadata": {},
   "outputs": [],
   "source": [
    "X, y = make_regression(n_samples=10000, \n",
    "                       noise=100, \n",
    "                       random_state=0)\n",
    "y       = np.expm1((y + abs(y.min())) / 200)\n",
    "y_trans = np.log1p(y)"
   ]
  },
  {
   "cell_type": "code",
   "execution_count": 10,
   "metadata": {},
   "outputs": [
    {
     "data": {
      "image/png": "[encoded data removed]",
      "text/plain": [
       "<Figure size 432x288 with 2 Axes>"
      ]
     },
     "metadata": {
      "needs_background": "light"
     },
     "output_type": "display_data"
    }
   ],
   "source": [
    "f, (ax0, ax1) = plt.subplots(1, 2)\n",
    "\n",
    "ax0.hist(y, bins=100, **density_param)\n",
    "ax0.set_xlim([0, 2000])\n",
    "ax0.set_ylabel('Probability')\n",
    "ax0.set_xlabel('Target')\n",
    "ax0.set_title('Target distribution')\n",
    "\n",
    "ax1.hist(y_trans, bins=100, **density_param)\n",
    "ax1.set_ylabel('Probability')\n",
    "ax1.set_xlabel('Target')\n",
    "ax1.set_title('Transformed target distribution')\n",
    "\n",
    "f.suptitle(\"Synthetic data\", y=0.06, x=0.53)\n",
    "f.tight_layout(rect=[0.05, 0.05, 0.95, 0.95])\n",
    "\n",
    "X_train, X_test, y_train, y_test = train_test_split(\n",
    "    X, y, random_state=0)"
   ]
  },
  {
   "cell_type": "markdown",
   "metadata": {},
   "source": [
    "- Fit linear model to original targets (Ridge regression). Fit should not be accurate due to non-linearity.\n",
    "- Apply log function to linearize targets, allowing better prediction results."
   ]
  },
  {
   "cell_type": "code",
   "execution_count": 14,
   "metadata": {},
   "outputs": [
    {
     "data": {
      "image/png": "[encoded data removed]",
      "text/plain": [
       "<Figure size 432x288 with 2 Axes>"
      ]
     },
     "metadata": {
      "needs_background": "light"
     },
     "output_type": "display_data"
    }
   ],
   "source": [
    "f, (ax0, ax1) = plt.subplots(1, 2, sharey=True)\n",
    "\n",
    "regr   = RidgeCV().fit(X_train, y_train)\n",
    "y_pred = regr.predict(X_test)\n",
    "\n",
    "ax0.scatter(y_test, y_pred)\n",
    "ax0.plot([0, 2000], [0, 2000], '--k')\n",
    "ax0.set_ylabel('Target predicted')\n",
    "ax0.set_xlabel('True Target')\n",
    "ax0.set_title('Ridge regression \\n without target transformation')\n",
    "ax0.text(100, 1750, r'$R^2$=%.2f, MAE=%.2f' % (\n",
    "    r2_score(y_test, y_pred), \n",
    "    median_absolute_error(y_test, y_pred)))\n",
    "ax0.set_xlim([0, 2000])\n",
    "ax0.set_ylim([0, 2000])\n",
    "\n",
    "regr_trans = TTR(regressor=RidgeCV(),\n",
    "                 func=np.log1p,\n",
    "                 inverse_func=np.expm1).fit(X_train, y_train)\n",
    "y_pred     = regr_trans.predict(X_test)\n",
    "\n",
    "ax1.scatter(y_test, y_pred)\n",
    "ax1.plot([0, 2000], [0, 2000], '--k')\n",
    "ax1.set_ylabel('Target predicted')\n",
    "ax1.set_xlabel('True Target')\n",
    "ax1.set_title('Ridge regression \\n with target transformation')\n",
    "ax1.text(100, 1750, r'$R^2$=%.2f, MAE=%.2f' % (\n",
    "    r2_score(y_test, y_pred), median_absolute_error(y_test, y_pred)))\n",
    "ax1.set_xlim([0, 2000])\n",
    "ax1.set_ylim([0, 2000])\n",
    "\n",
    "f.suptitle(\"Synthetic data\", y=0.035)\n",
    "f.tight_layout(rect=[0.05, 0.05, 0.95, 0.95])"
   ]
  },
  {
   "cell_type": "markdown",
   "metadata": {},
   "source": [
    "### Example #2: Ames housing data\n",
    "\n",
    "- Target variable: house sales price.\n",
    "- Use [quantile transformer](https://scikit-learn.org/stable/modules/generated/sklearn.preprocessing.QuantileTransformer.html#sklearn.preprocessing.QuantileTransformer) to normalize targets.\n",
    "- Apply a Ridge regression (CV'd) model."
   ]
  },
  {
   "cell_type": "code",
   "execution_count": 15,
   "metadata": {},
   "outputs": [],
   "source": [
    "from sklearn.datasets import fetch_openml\n",
    "from sklearn.preprocessing import QuantileTransformer, quantile_transform\n",
    "\n",
    "ames = fetch_openml(name=\"house_prices\", as_frame=True)\n",
    "\n",
    "# Keep only numeric columns, drop columns with NaN or Inf values\n",
    "X = ames.data.select_dtypes(np.number)\n",
    "X = X.drop(columns=['LotFrontage', 'GarageYrBlt', 'MasVnrArea'])\n",
    "y = ames.target\n",
    "y_trans = quantile_transform(y.to_frame(),\n",
    "                             n_quantiles=900,\n",
    "                             output_distribution='normal',\n",
    "                             copy=True).squeeze()"
   ]
  },
  {
   "cell_type": "code",
   "execution_count": 16,
   "metadata": {},
   "outputs": [
    {
     "data": {
      "image/png": "[encoded data removed]",
      "text/plain": [
       "<Figure size 432x288 with 2 Axes>"
      ]
     },
     "metadata": {
      "needs_background": "light"
     },
     "output_type": "display_data"
    }
   ],
   "source": [
    "f, (ax0, ax1) = plt.subplots(1, 2)\n",
    "\n",
    "ax0.hist(y, bins=100, **density_param)\n",
    "ax0.set_ylabel('Probability')\n",
    "ax0.set_xlabel('Target')\n",
    "ax0.text(s='Target distribution', x=1.2e5, y=9.8e-6, fontsize=12)\n",
    "ax0.ticklabel_format(axis=\"both\", style=\"sci\", scilimits=(0, 0))\n",
    "\n",
    "ax1.hist(y_trans, bins=100, **density_param)\n",
    "ax1.set_ylabel('Probability')\n",
    "ax1.set_xlabel('Target')\n",
    "ax1.text(s='Transformed target distribution', x=-6.8, y=0.479, fontsize=12)\n",
    "\n",
    "f.suptitle(\"Ames housing data: selling price\", y=0.04)\n",
    "f.tight_layout(rect=[0.05, 0.05, 0.95, 0.95])\n",
    "\n",
    "X_train, X_test, y_train, y_test = train_test_split(X, y, random_state=1)"
   ]
  },
  {
   "cell_type": "markdown",
   "metadata": {},
   "source": [
    "- Transformer effect is weaker this time - but it results in higher $R^2$ and decreased MAE.\n",
    "- Residual plot *without transformation* returns \"reverse smile\" shape - residual values varying based on predicted target value.\n",
    "- Residual plot *with transformation* is more linear - indicating better fit."
   ]
  },
  {
   "cell_type": "code",
   "execution_count": 18,
   "metadata": {},
   "outputs": [
    {
     "data": {
      "text/plain": [
       "Text(0.5, 0.035, 'Ames housing data: selling price')"
      ]
     },
     "execution_count": 18,
     "metadata": {},
     "output_type": "execute_result"
    },
    {
     "data": {
      "image/png": "[encoded data removed]",
      "text/plain": [
       "<Figure size 468x576 with 4 Axes>"
      ]
     },
     "metadata": {
      "needs_background": "light"
     },
     "output_type": "display_data"
    }
   ],
   "source": [
    "f, (ax0, ax1) = plt.subplots(2, 2, sharey='row', figsize=(6.5, 8))\n",
    "\n",
    "regr   = RidgeCV().fit(X_train, y_train)\n",
    "y_pred = regr.predict(X_test)\n",
    "\n",
    "ax0[0].scatter(y_pred, y_test, s=8)\n",
    "ax0[0].plot([0, 7e5], [0, 7e5], '--k')\n",
    "ax0[0].set_ylabel('True target')\n",
    "ax0[0].set_xlabel('Predicted target')\n",
    "ax0[0].text(s='Ridge regression \\n without target transformation', \n",
    "            x=-5e4, y=8e5, fontsize=12, \n",
    "            multialignment='center')\n",
    "\n",
    "ax0[0].text(3e4, 64e4, r'$R^2$=%.2f, MAE=%.2f' % (\n",
    "    r2_score(y_test, y_pred), \n",
    "    median_absolute_error(y_test, y_pred)))\n",
    "\n",
    "ax0[0].set_xlim([0, 7e5])\n",
    "ax0[0].set_ylim([0, 7e5])\n",
    "ax0[0].ticklabel_format(axis=\"both\", style=\"sci\", scilimits=(0, 0))\n",
    "\n",
    "ax1[0].scatter(y_pred, (y_pred - y_test), s=8)\n",
    "ax1[0].set_ylabel('Residual')\n",
    "ax1[0].set_xlabel('Predicted target')\n",
    "ax1[0].ticklabel_format(axis=\"both\", style=\"sci\", scilimits=(0, 0))\n",
    "\n",
    "regr_trans = TTR(\n",
    "    regressor=RidgeCV(),\n",
    "    transformer=QuantileTransformer(n_quantiles=900,\n",
    "                                    output_distribution='normal')).fit(\n",
    "    X_train, y_train)\n",
    "\n",
    "y_pred = regr_trans.predict(X_test)\n",
    "\n",
    "ax0[1].scatter(y_pred, y_test, s=8)\n",
    "ax0[1].plot([0, 7e5], [0, 7e5], '--k')\n",
    "ax0[1].set_ylabel('True target')\n",
    "ax0[1].set_xlabel('Predicted target')\n",
    "ax0[1].text(s='Ridge regression \\n with target transformation', x=-5e4,\n",
    "            y=8e5, fontsize=12, multialignment='center')\n",
    "ax0[1].text(3e4, 64e4, r'$R^2$=%.2f, MAE=%.2f' % (\n",
    "    r2_score(y_test, y_pred), median_absolute_error(y_test, y_pred)))\n",
    "ax0[1].set_xlim([0, 7e5])\n",
    "ax0[1].set_ylim([0, 7e5])\n",
    "ax0[1].ticklabel_format(axis=\"both\", style=\"sci\", scilimits=(0, 0))\n",
    "\n",
    "ax1[1].scatter(y_pred, (y_pred - y_test), s=8)\n",
    "ax1[1].set_ylabel('Residual')\n",
    "ax1[1].set_xlabel('Predicted target')\n",
    "ax1[1].ticklabel_format(axis=\"both\", style=\"sci\", scilimits=(0, 0))\n",
    "\n",
    "f.suptitle(\"Ames housing data: selling price\", y=0.035)"
   ]
  },
  {
   "cell_type": "markdown",
   "metadata": {},
   "source": [
    "### [Feature Unions](https://scikit-learn.org/stable/modules/generated/sklearn.pipeline.FeatureUnion.html#sklearn.pipeline.FeatureUnion)\n",
    "\n",
    "- Combines a list of transformers into a single object.\n",
    "- Each transformer is fitted *independently*.\n",
    "- Transforms are applied in *parallel*. Resulting feature matrices are merged side-by-side.\n",
    "- Feature Unions cannot check whether two transformers return identical features - only produces a union when features are disjoint.\n",
    "- Built with a list of `(key,value)` pairs: key = arbitrary name string; value = estimator object."
   ]
  },
  {
   "cell_type": "code",
   "execution_count": 20,
   "metadata": {},
   "outputs": [
    {
     "name": "stdout",
     "output_type": "stream",
     "text": [
      "FeatureUnion(transformer_list=[('linear_pca', PCA()),\n",
      "                               ('kernel_pca', KernelPCA())])\n"
     ]
    }
   ],
   "source": [
    "from sklearn.pipeline import FeatureUnion\n",
    "from sklearn.decomposition import PCA, KernelPCA\n",
    "estimators = [('linear_pca', PCA()), \n",
    "              ('kernel_pca', KernelPCA())]\n",
    "\n",
    "combined = FeatureUnion(estimators); print(combined)"
   ]
  },
  {
   "cell_type": "markdown",
   "metadata": {},
   "source": [
    "- Shorthand notation: `make_union`. (Doesn't require explicit component names.)\n",
    "- Individual steps can be replaced using `set_params`, and ignored using `drop`."
   ]
  },
  {
   "cell_type": "code",
   "execution_count": 21,
   "metadata": {},
   "outputs": [
    {
     "data": {
      "text/plain": [
       "FeatureUnion(transformer_list=[('linear_pca', PCA()), ('kernel_pca', 'drop')])"
      ]
     },
     "execution_count": 21,
     "metadata": {},
     "output_type": "execute_result"
    }
   ],
   "source": [
    "combined.set_params(kernel_pca='drop')"
   ]
  },
  {
   "cell_type": "markdown",
   "metadata": {},
   "source": [
    "### [Example: Feature Union](https://scikit-learn.org/stable/auto_examples/compose/plot_feature_union.html#sphx-glr-auto-examples-compose-plot-feature-union-py)"
   ]
  },
  {
   "cell_type": "code",
   "execution_count": 22,
   "metadata": {},
   "outputs": [],
   "source": [
    "from sklearn.pipeline import Pipeline, FeatureUnion\n",
    "from sklearn.model_selection import GridSearchCV\n",
    "from sklearn.svm import SVC\n",
    "from sklearn.datasets import load_iris\n",
    "from sklearn.decomposition import PCA\n",
    "from sklearn.feature_selection import SelectKBest"
   ]
  },
  {
   "cell_type": "code",
   "execution_count": 24,
   "metadata": {},
   "outputs": [
    {
     "name": "stdout",
     "output_type": "stream",
     "text": [
      "Combined space has 3 features\n",
      "Pipeline(steps=[('features',\n",
      "                 FeatureUnion(transformer_list=[('pca', PCA(n_components=3)),\n",
      "                                                ('univ_select',\n",
      "                                                 SelectKBest(k=1))])),\n",
      "                ('svm', SVC(C=10, kernel='linear'))])\n"
     ]
    }
   ],
   "source": [
    "iris      = load_iris()\n",
    "X, y      = iris.data, iris.target\n",
    "pca       = PCA(n_components=2)\n",
    "selection = SelectKBest(k=1)\n",
    "combined_features = FeatureUnion([(\"pca\", pca), \n",
    "                                  (\"univ_select\", selection)])\n",
    "\n",
    "X_features = combined_features.fit(X, y).transform(X)\n",
    "print(\"Combined space has\", X_features.shape[1], \"features\")\n",
    "\n",
    "svm      = SVC(kernel=\"linear\")\n",
    "pipeline = Pipeline([(\"features\", combined_features), \n",
    "                     (\"svm\", svm)])\n",
    "\n",
    "param_grid = dict(features__pca__n_components=[1, 2, 3],\n",
    "                  features__univ_select__k=[1, 2],\n",
    "                  svm__C=[0.1, 1, 10])\n",
    "\n",
    "grid_search = GridSearchCV(pipeline, \n",
    "                           param_grid=param_grid, \n",
    "                           #verbose=10).fit(X, y)\n",
    "                          ).fit(X,y)\n",
    "print(grid_search.best_estimator_)"
   ]
  },
  {
   "cell_type": "markdown",
   "metadata": {},
   "source": [
    "### [Column Transformer](https://scikit-learn.org/stable/modules/generated/sklearn.compose.ColumnTransformer.html#sklearn.compose.ColumnTransformer)\n",
    "\n",
    "- Datasets usually contain multiple feature types (floats, integers, text, dates, ...) which require individual preprocessing or feature extraction steps.\n",
    "\n",
    "- The usual method for doing this is with [pandas](https://pandas.pydata.org/), which can be problematic. (Test data statistics leaking into cross-validation, needing to include preprocessing params in a search, ...).\n",
    "\n",
    "- CT enables using per-column transforms in a leakage-safe Pipeline. It works on arrays, sparse matrices & Pandas dataframes.\n",
    "\n",
    "### Simple Example\n",
    "\n",
    "- Encode `cities` as a category with [One-Hot Encoder](https://scikit-learn.org/stable/modules/generated/sklearn.preprocessing.OneHotEncoder.html#sklearn.preprocessing.OneHotEncoder)\n",
    "- Apply a [Count Vectorizer](https://scikit-learn.org/stable/modules/generated/sklearn.feature_extraction.text.CountVectorizer.html#sklearn.feature_extraction.text.CountVectorizer) to `titles`\n",
    "- Remaining columns can be ignored (`remainder=\"drop\"`).\n",
    "- Use a *combined name* (ex: `city_category`) to define a multiple-extraction method on a given column."
   ]
  },
  {
   "cell_type": "code",
   "execution_count": 25,
   "metadata": {},
   "outputs": [],
   "source": [
    "import pandas as pd\n",
    "X = pd.DataFrame(\n",
    "    {'city': ['London', 'London', 'Paris', 'Sallisaw'],\n",
    "     'title': [\"His Last Bow\", \"How Watson Learned the Trick\",\n",
    "               \"A Moveable Feast\", \"The Grapes of Wrath\"],\n",
    "     'expert_rating': [5, 3, 4, 5],\n",
    "     'user_rating': [4, 5, 4, 3]})"
   ]
  },
  {
   "cell_type": "code",
   "execution_count": 27,
   "metadata": {},
   "outputs": [
    {
     "name": "stdout",
     "output_type": "stream",
     "text": [
      "ColumnTransformer(transformers=[('city_category', OneHotEncoder(dtype='int'),\n",
      "                                 ['city']),\n",
      "                                ('title_bow', CountVectorizer(), 'title')]) \n",
      "\n",
      "['city_category__x0_London', 'city_category__x0_Paris', 'city_category__x0_Sallisaw', 'title_bow__bow', 'title_bow__feast', 'title_bow__grapes', 'title_bow__his', 'title_bow__how', 'title_bow__last', 'title_bow__learned', 'title_bow__moveable', 'title_bow__of', 'title_bow__the', 'title_bow__trick', 'title_bow__watson', 'title_bow__wrath'] \n",
      "\n",
      "[[1 0 0 1 0 0 1 0 1 0 0 0 0 0 0 0]\n",
      " [1 0 0 0 0 0 0 1 0 1 0 0 1 1 1 0]\n",
      " [0 1 0 0 1 0 0 0 0 0 1 0 0 0 0 0]\n",
      " [0 0 1 0 0 1 0 0 0 0 0 1 1 0 0 1]]\n"
     ]
    }
   ],
   "source": [
    "from sklearn.compose import ColumnTransformer\n",
    "from sklearn.feature_extraction.text import CountVectorizer\n",
    "from sklearn.preprocessing import OneHotEncoder\n",
    "\n",
    "column_trans = ColumnTransformer(\n",
    "    [('city_category', OneHotEncoder(dtype='int'),['city']),\n",
    "     ('title_bow', CountVectorizer(), 'title')],\n",
    "    remainder='drop')\n",
    "\n",
    "print(column_trans.fit(X),\"\\n\")\n",
    "print(column_trans.get_feature_names(),\"\\n\")\n",
    "print(column_trans.transform(X).toarray())"
   ]
  },
  {
   "cell_type": "markdown",
   "metadata": {},
   "source": [
    "- Above: [Count Vecorizer]() expects a 1D array - hence the columns were specified with a string (`title`). [One Hot Encoder]() expects 2D data, so you need to specify the column as a *list of strings* (`['city]`).\n",
    "\n",
    "- Columns can be specified as a list of items, an integer array, a slice, a boolean mask, or by using [make_column_selector](https://scikit-learn.org/stable/modules/generated/sklearn.compose.make_column_selector.html#sklearn.compose.make_column_selector)."
   ]
  },
  {
   "cell_type": "code",
   "execution_count": 29,
   "metadata": {},
   "outputs": [
    {
     "name": "stdout",
     "output_type": "stream",
     "text": [
      "[[ 0.90453403  0.          1.          0.          0.        ]\n",
      " [-1.50755672  1.41421356  1.          0.          0.        ]\n",
      " [-0.30151134  0.          0.          1.          0.        ]\n",
      " [ 0.90453403 -1.41421356  0.          0.          1.        ]]\n"
     ]
    }
   ],
   "source": [
    "from sklearn.preprocessing import StandardScaler\n",
    "from sklearn.compose import make_column_selector as MCS\n",
    "\n",
    "ct = ColumnTransformer([\n",
    "      ('scale', \n",
    "       StandardScaler(), \n",
    "       MCS(dtype_include=np.number)),\n",
    "      ('onehot', \n",
    "       OneHotEncoder(), \n",
    "       MCS(pattern='city', dtype_include=object))]).fit_transform(X)\n",
    "\n",
    "print(ct)"
   ]
  },
  {
   "cell_type": "markdown",
   "metadata": {},
   "source": [
    "- Keep the remaining columns with `remainder='passthrough'`. The values are appended to the end of the result."
   ]
  },
  {
   "cell_type": "code",
   "execution_count": 30,
   "metadata": {},
   "outputs": [
    {
     "name": "stdout",
     "output_type": "stream",
     "text": [
      "[[1 0 0 1 0 0 1 0 1 0 0 0 0 0 0 0 5 4]\n",
      " [1 0 0 0 0 0 0 1 0 1 0 0 1 1 1 0 3 5]\n",
      " [0 1 0 0 1 0 0 0 0 0 1 0 0 0 0 0 4 4]\n",
      " [0 0 1 0 0 1 0 0 0 0 0 1 1 0 0 1 5 3]]\n"
     ]
    }
   ],
   "source": [
    "ct = ColumnTransformer(\n",
    "    [('city_category', \n",
    "      OneHotEncoder(dtype='int'),\n",
    "      ['city']),\n",
    "     ('title_bow', \n",
    "      CountVectorizer(), \n",
    "      'title')],\n",
    "    remainder='passthrough').fit_transform(X)\n",
    "\n",
    "print(ct)"
   ]
  },
  {
   "cell_type": "markdown",
   "metadata": {},
   "source": [
    "- `remainder` can point to an estimator to transform the remaining columns."
   ]
  },
  {
   "cell_type": "code",
   "execution_count": 31,
   "metadata": {},
   "outputs": [
    {
     "name": "stdout",
     "output_type": "stream",
     "text": [
      "[[1.  0.5]\n",
      " [0.  1. ]\n",
      " [0.5 0.5]\n",
      " [1.  0. ]]\n"
     ]
    }
   ],
   "source": [
    "from sklearn.preprocessing import MinMaxScaler\n",
    "\n",
    "ct = ColumnTransformer(\n",
    "    [('city_category', \n",
    "      OneHotEncoder(), \n",
    "      ['city']),\n",
    "     ('title_bow', \n",
    "      CountVectorizer(), \n",
    "      'title')],\n",
    "    remainder=MinMaxScaler()).fit_transform(X)[:, -2:]\n",
    "\n",
    "print(ct)"
   ]
  },
  {
   "cell_type": "markdown",
   "metadata": {},
   "source": [
    "- `make_column_transformer` creates a [Column Transformer]() object."
   ]
  },
  {
   "cell_type": "code",
   "execution_count": 32,
   "metadata": {},
   "outputs": [
    {
     "name": "stdout",
     "output_type": "stream",
     "text": [
      "ColumnTransformer(remainder=MinMaxScaler(),\n",
      "                  transformers=[('onehotencoder', OneHotEncoder(), ['city']),\n",
      "                                ('countvectorizer', CountVectorizer(),\n",
      "                                 'title')])\n"
     ]
    }
   ],
   "source": [
    "from sklearn.compose import make_column_transformer as MCT\n",
    "\n",
    "ct = MCT(\n",
    "    (OneHotEncoder(), ['city']),\n",
    "    (CountVectorizer(), 'title'),\n",
    "    remainder=MinMaxScaler())\n",
    "\n",
    "print(ct)"
   ]
  },
  {
   "cell_type": "markdown",
   "metadata": {},
   "source": [
    "### Visualization\n",
    "\n",
    "- HTML equivalents are available in Jupyter using [set_config](https://scikit-learn.org/stable/modules/generated/sklearn.set_config.html#sklearn.set_config)\n",
    "\n",
    "- HTML can also be written to a file with [estimator_html_repr](https://scikit-learn.org/stable/modules/generated/sklearn.utils.estimator_html_repr.html#sklearn.utils.estimator_html_repr)"
   ]
  },
  {
   "cell_type": "code",
   "execution_count": 33,
   "metadata": {},
   "outputs": [
    {
     "data": {
      "text/html": [
       "<style>div.sk-top-container {color: black;background-color: white;}div.sk-toggleable {background-color: white;}label.sk-toggleable__label {cursor: pointer;display: block;width: 100%;margin-bottom: 0;padding: 0.2em 0.3em;box-sizing: border-box;text-align: center;}div.sk-toggleable__content {max-height: 0;max-width: 0;overflow: hidden;text-align: left;background-color: #f0f8ff;}div.sk-toggleable__content pre {margin: 0.2em;color: black;border-radius: 0.25em;background-color: #f0f8ff;}input.sk-toggleable__control:checked~div.sk-toggleable__content {max-height: 200px;max-width: 100%;overflow: auto;}div.sk-estimator input.sk-toggleable__control:checked~label.sk-toggleable__label {background-color: #d4ebff;}div.sk-label input.sk-toggleable__control:checked~label.sk-toggleable__label {background-color: #d4ebff;}input.sk-hidden--visually {border: 0;clip: rect(1px 1px 1px 1px);clip: rect(1px, 1px, 1px, 1px);height: 1px;margin: -1px;overflow: hidden;padding: 0;position: absolute;width: 1px;}div.sk-estimator {font-family: monospace;background-color: #f0f8ff;margin: 0.25em 0.25em;border: 1px dotted black;border-radius: 0.25em;box-sizing: border-box;}div.sk-estimator:hover {background-color: #d4ebff;}div.sk-parallel-item::after {content: \"\";width: 100%;border-bottom: 1px solid gray;flex-grow: 1;}div.sk-label:hover label.sk-toggleable__label {background-color: #d4ebff;}div.sk-serial::before {content: \"\";position: absolute;border-left: 1px solid gray;box-sizing: border-box;top: 2em;bottom: 0;left: 50%;}div.sk-serial {display: flex;flex-direction: column;align-items: center;background-color: white;}div.sk-item {z-index: 1;}div.sk-parallel {display: flex;align-items: stretch;justify-content: center;background-color: white;}div.sk-parallel-item {display: flex;flex-direction: column;position: relative;background-color: white;}div.sk-parallel-item:first-child::after {align-self: flex-end;width: 50%;}div.sk-parallel-item:last-child::after {align-self: flex-start;width: 50%;}div.sk-parallel-item:only-child::after {width: 0;}div.sk-dashed-wrapped {border: 1px dashed gray;margin: 0.2em;box-sizing: border-box;padding-bottom: 0.1em;background-color: white;position: relative;}div.sk-label label {font-family: monospace;font-weight: bold;background-color: white;display: inline-block;line-height: 1.2em;}div.sk-label-container {position: relative;z-index: 2;text-align: center;}div.sk-container {display: inline-block;position: relative;}</style><div class=\"sk-top-container\"><div class=\"sk-container\"><div class=\"sk-item sk-dashed-wrapped\"><div class=\"sk-label-container\"><div class=\"sk-label sk-toggleable\"><input class=\"sk-toggleable__control sk-hidden--visually\" id=\"28d25619-b051-41e7-96e8-f6e3eddd4be6\" type=\"checkbox\" ><label class=\"sk-toggleable__label\" for=\"28d25619-b051-41e7-96e8-f6e3eddd4be6\">ColumnTransformer</label><div class=\"sk-toggleable__content\"><pre>ColumnTransformer(transformers=[('city_category', OneHotEncoder(dtype='int'),\n",
       "                                 ['city']),\n",
       "                                ('title_bow', CountVectorizer(), 'title')])</pre></div></div></div><div class=\"sk-parallel\"><div class=\"sk-parallel-item\"><div class=\"sk-item\"><div class=\"sk-label-container\"><div class=\"sk-label sk-toggleable\"><input class=\"sk-toggleable__control sk-hidden--visually\" id=\"48103ccf-eb1f-4a37-985a-baecf16b2adc\" type=\"checkbox\" ><label class=\"sk-toggleable__label\" for=\"48103ccf-eb1f-4a37-985a-baecf16b2adc\">city_category</label><div class=\"sk-toggleable__content\"><pre>['city']</pre></div></div></div><div class=\"sk-serial\"><div class=\"sk-item\"><div class=\"sk-estimator sk-toggleable\"><input class=\"sk-toggleable__control sk-hidden--visually\" id=\"dd0f7396-1646-491a-8849-82bcf4192b55\" type=\"checkbox\" ><label class=\"sk-toggleable__label\" for=\"dd0f7396-1646-491a-8849-82bcf4192b55\">OneHotEncoder</label><div class=\"sk-toggleable__content\"><pre>OneHotEncoder(dtype='int')</pre></div></div></div></div></div></div><div class=\"sk-parallel-item\"><div class=\"sk-item\"><div class=\"sk-label-container\"><div class=\"sk-label sk-toggleable\"><input class=\"sk-toggleable__control sk-hidden--visually\" id=\"e2fc1ca7-d539-460b-935c-aaf1dbaf3b11\" type=\"checkbox\" ><label class=\"sk-toggleable__label\" for=\"e2fc1ca7-d539-460b-935c-aaf1dbaf3b11\">title_bow</label><div class=\"sk-toggleable__content\"><pre>title</pre></div></div></div><div class=\"sk-serial\"><div class=\"sk-item\"><div class=\"sk-estimator sk-toggleable\"><input class=\"sk-toggleable__control sk-hidden--visually\" id=\"a4cd5ba7-b7e9-45dd-9de2-2f767712f840\" type=\"checkbox\" ><label class=\"sk-toggleable__label\" for=\"a4cd5ba7-b7e9-45dd-9de2-2f767712f840\">CountVectorizer</label><div class=\"sk-toggleable__content\"><pre>CountVectorizer()</pre></div></div></div></div></div></div></div></div></div></div>"
      ],
      "text/plain": [
       "ColumnTransformer(transformers=[('city_category', OneHotEncoder(dtype='int'),\n",
       "                                 ['city']),\n",
       "                                ('title_bow', CountVectorizer(), 'title')])"
      ]
     },
     "execution_count": 33,
     "metadata": {},
     "output_type": "execute_result"
    }
   ],
   "source": [
    "from sklearn import set_config\n",
    "set_config(display='diagram')   \n",
    "# diplays HTML representation in a jupyter context\n",
    "column_trans  "
   ]
  },
  {
   "cell_type": "code",
   "execution_count": 35,
   "metadata": {},
   "outputs": [],
   "source": [
    "from sklearn.utils import estimator_html_repr\n",
    "with open('my_estimator.html', 'w') as f:  \n",
    "    f.write(estimator_html_repr(ct))"
   ]
  },
  {
   "cell_type": "markdown",
   "metadata": {},
   "source": [
    "### [Example Column Transformer](https://scikit-learn.org/stable/auto_examples/compose/plot_column_transformer_mixed_types.html#sphx-glr-auto-examples-compose-plot-column-transformer-mixed-types-py)\n",
    "\n",
    "- Numeric data is mean-imputed, then standard-scaled.\n",
    "- Category data: missing data is replaced with 'missing', then one-hot encoded.\n",
    "- Two column dispatch mechanisms are shown: by column names, by column data types.\n",
    "- The steps are integrated into a Pipeline with a simple classifier."
   ]
  },
  {
   "cell_type": "code",
   "execution_count": 36,
   "metadata": {},
   "outputs": [],
   "source": [
    "import numpy as np\n",
    "from sklearn.compose import ColumnTransformer\n",
    "from sklearn.datasets import fetch_openml\n",
    "from sklearn.pipeline import Pipeline\n",
    "from sklearn.impute import SimpleImputer\n",
    "from sklearn.preprocessing import StandardScaler, OneHotEncoder\n",
    "from sklearn.linear_model import LogisticRegression\n",
    "from sklearn.model_selection import train_test_split, GridSearchCV"
   ]
  },
  {
   "cell_type": "code",
   "execution_count": 37,
   "metadata": {},
   "outputs": [],
   "source": [
    "np.random.seed(0)\n",
    "\n",
    "# Load data from https://www.openml.org/d/40945\n",
    "X, y = fetch_openml(\"titanic\", version=1, as_frame=True, return_X_y=True)\n",
    "\n",
    "# Alternatively X and y can be obtained directly from the frame attribute:\n",
    "# X = titanic.frame.drop('survived', axis=1)\n",
    "# y = titanic.frame['survived']"
   ]
  },
  {
   "cell_type": "code",
   "execution_count": 39,
   "metadata": {},
   "outputs": [
    {
     "name": "stdout",
     "output_type": "stream",
     "text": [
      "model score: 0.790\n"
     ]
    },
    {
     "data": {
      "text/html": [
       "<style>div.sk-top-container {color: black;background-color: white;}div.sk-toggleable {background-color: white;}label.sk-toggleable__label {cursor: pointer;display: block;width: 100%;margin-bottom: 0;padding: 0.2em 0.3em;box-sizing: border-box;text-align: center;}div.sk-toggleable__content {max-height: 0;max-width: 0;overflow: hidden;text-align: left;background-color: #f0f8ff;}div.sk-toggleable__content pre {margin: 0.2em;color: black;border-radius: 0.25em;background-color: #f0f8ff;}input.sk-toggleable__control:checked~div.sk-toggleable__content {max-height: 200px;max-width: 100%;overflow: auto;}div.sk-estimator input.sk-toggleable__control:checked~label.sk-toggleable__label {background-color: #d4ebff;}div.sk-label input.sk-toggleable__control:checked~label.sk-toggleable__label {background-color: #d4ebff;}input.sk-hidden--visually {border: 0;clip: rect(1px 1px 1px 1px);clip: rect(1px, 1px, 1px, 1px);height: 1px;margin: -1px;overflow: hidden;padding: 0;position: absolute;width: 1px;}div.sk-estimator {font-family: monospace;background-color: #f0f8ff;margin: 0.25em 0.25em;border: 1px dotted black;border-radius: 0.25em;box-sizing: border-box;}div.sk-estimator:hover {background-color: #d4ebff;}div.sk-parallel-item::after {content: \"\";width: 100%;border-bottom: 1px solid gray;flex-grow: 1;}div.sk-label:hover label.sk-toggleable__label {background-color: #d4ebff;}div.sk-serial::before {content: \"\";position: absolute;border-left: 1px solid gray;box-sizing: border-box;top: 2em;bottom: 0;left: 50%;}div.sk-serial {display: flex;flex-direction: column;align-items: center;background-color: white;}div.sk-item {z-index: 1;}div.sk-parallel {display: flex;align-items: stretch;justify-content: center;background-color: white;}div.sk-parallel-item {display: flex;flex-direction: column;position: relative;background-color: white;}div.sk-parallel-item:first-child::after {align-self: flex-end;width: 50%;}div.sk-parallel-item:last-child::after {align-self: flex-start;width: 50%;}div.sk-parallel-item:only-child::after {width: 0;}div.sk-dashed-wrapped {border: 1px dashed gray;margin: 0.2em;box-sizing: border-box;padding-bottom: 0.1em;background-color: white;position: relative;}div.sk-label label {font-family: monospace;font-weight: bold;background-color: white;display: inline-block;line-height: 1.2em;}div.sk-label-container {position: relative;z-index: 2;text-align: center;}div.sk-container {display: inline-block;position: relative;}</style><div class=\"sk-top-container\"><div class=\"sk-container\"><div class=\"sk-item sk-dashed-wrapped\"><div class=\"sk-label-container\"><div class=\"sk-label sk-toggleable\"><input class=\"sk-toggleable__control sk-hidden--visually\" id=\"451b31d2-97a0-4daf-9f61-a42b3477fae3\" type=\"checkbox\" ><label class=\"sk-toggleable__label\" for=\"451b31d2-97a0-4daf-9f61-a42b3477fae3\">Pipeline</label><div class=\"sk-toggleable__content\"><pre>Pipeline(steps=[('preprocessor',\n",
       "                 ColumnTransformer(transformers=[('num',\n",
       "                                                  Pipeline(steps=[('imputer',\n",
       "                                                                   SimpleImputer(strategy='median')),\n",
       "                                                                  ('scaler',\n",
       "                                                                   StandardScaler())]),\n",
       "                                                  ['age', 'fare']),\n",
       "                                                 ('cat',\n",
       "                                                  OneHotEncoder(handle_unknown='ignore'),\n",
       "                                                  ['embarked', 'sex',\n",
       "                                                   'pclass'])])),\n",
       "                ('classifier', LogisticRegression())])</pre></div></div></div><div class=\"sk-serial\"><div class=\"sk-item sk-dashed-wrapped\"><div class=\"sk-label-container\"><div class=\"sk-label sk-toggleable\"><input class=\"sk-toggleable__control sk-hidden--visually\" id=\"bbf28ae4-d2fe-467c-907f-952a415a3883\" type=\"checkbox\" ><label class=\"sk-toggleable__label\" for=\"bbf28ae4-d2fe-467c-907f-952a415a3883\">preprocessor: ColumnTransformer</label><div class=\"sk-toggleable__content\"><pre>ColumnTransformer(transformers=[('num',\n",
       "                                 Pipeline(steps=[('imputer',\n",
       "                                                  SimpleImputer(strategy='median')),\n",
       "                                                 ('scaler', StandardScaler())]),\n",
       "                                 ['age', 'fare']),\n",
       "                                ('cat', OneHotEncoder(handle_unknown='ignore'),\n",
       "                                 ['embarked', 'sex', 'pclass'])])</pre></div></div></div><div class=\"sk-parallel\"><div class=\"sk-parallel-item\"><div class=\"sk-item\"><div class=\"sk-label-container\"><div class=\"sk-label sk-toggleable\"><input class=\"sk-toggleable__control sk-hidden--visually\" id=\"e84eb443-bc06-484a-9c09-c2d508081fc4\" type=\"checkbox\" ><label class=\"sk-toggleable__label\" for=\"e84eb443-bc06-484a-9c09-c2d508081fc4\">num</label><div class=\"sk-toggleable__content\"><pre>['age', 'fare']</pre></div></div></div><div class=\"sk-serial\"><div class=\"sk-item\"><div class=\"sk-serial\"><div class=\"sk-item\"><div class=\"sk-estimator sk-toggleable\"><input class=\"sk-toggleable__control sk-hidden--visually\" id=\"347a37d8-4f37-4c99-bdc1-c710d4802fc9\" type=\"checkbox\" ><label class=\"sk-toggleable__label\" for=\"347a37d8-4f37-4c99-bdc1-c710d4802fc9\">SimpleImputer</label><div class=\"sk-toggleable__content\"><pre>SimpleImputer(strategy='median')</pre></div></div></div><div class=\"sk-item\"><div class=\"sk-estimator sk-toggleable\"><input class=\"sk-toggleable__control sk-hidden--visually\" id=\"1645d2dd-c38e-48c9-b7aa-50b18aa660d8\" type=\"checkbox\" ><label class=\"sk-toggleable__label\" for=\"1645d2dd-c38e-48c9-b7aa-50b18aa660d8\">StandardScaler</label><div class=\"sk-toggleable__content\"><pre>StandardScaler()</pre></div></div></div></div></div></div></div></div><div class=\"sk-parallel-item\"><div class=\"sk-item\"><div class=\"sk-label-container\"><div class=\"sk-label sk-toggleable\"><input class=\"sk-toggleable__control sk-hidden--visually\" id=\"6e007a6d-d3f8-406c-97d3-11736b7a651e\" type=\"checkbox\" ><label class=\"sk-toggleable__label\" for=\"6e007a6d-d3f8-406c-97d3-11736b7a651e\">cat</label><div class=\"sk-toggleable__content\"><pre>['embarked', 'sex', 'pclass']</pre></div></div></div><div class=\"sk-serial\"><div class=\"sk-item\"><div class=\"sk-estimator sk-toggleable\"><input class=\"sk-toggleable__control sk-hidden--visually\" id=\"ae863b04-ec8d-4722-b0e5-9de1ae92b09e\" type=\"checkbox\" ><label class=\"sk-toggleable__label\" for=\"ae863b04-ec8d-4722-b0e5-9de1ae92b09e\">OneHotEncoder</label><div class=\"sk-toggleable__content\"><pre>OneHotEncoder(handle_unknown='ignore')</pre></div></div></div></div></div></div></div></div><div class=\"sk-item\"><div class=\"sk-estimator sk-toggleable\"><input class=\"sk-toggleable__control sk-hidden--visually\" id=\"14e91cfa-ef68-46de-a244-176654fd5afb\" type=\"checkbox\" ><label class=\"sk-toggleable__label\" for=\"14e91cfa-ef68-46de-a244-176654fd5afb\">LogisticRegression</label><div class=\"sk-toggleable__content\"><pre>LogisticRegression()</pre></div></div></div></div></div></div></div>"
      ],
      "text/plain": [
       "Pipeline(steps=[('preprocessor',\n",
       "                 ColumnTransformer(transformers=[('num',\n",
       "                                                  Pipeline(steps=[('imputer',\n",
       "                                                                   SimpleImputer(strategy='median')),\n",
       "                                                                  ('scaler',\n",
       "                                                                   StandardScaler())]),\n",
       "                                                  ['age', 'fare']),\n",
       "                                                 ('cat',\n",
       "                                                  OneHotEncoder(handle_unknown='ignore'),\n",
       "                                                  ['embarked', 'sex',\n",
       "                                                   'pclass'])])),\n",
       "                ('classifier', LogisticRegression())])"
      ]
     },
     "execution_count": 39,
     "metadata": {},
     "output_type": "execute_result"
    }
   ],
   "source": [
    "numeric_features = ['age', 'fare']\n",
    "numeric_transformer = Pipeline(steps=[\n",
    "    ('imputer', SimpleImputer(strategy='median')),\n",
    "    ('scaler',  StandardScaler())])\n",
    "\n",
    "categorical_features    = ['embarked', 'sex', 'pclass']\n",
    "categorical_transformer = OneHotEncoder(handle_unknown='ignore')\n",
    "\n",
    "preprocessor = ColumnTransformer(\n",
    "    transformers=[\n",
    "        ('num', numeric_transformer,     numeric_features),\n",
    "        ('cat', categorical_transformer, categorical_features)])\n",
    "\n",
    "# Append classifier to preprocessing pipeline.\n",
    "clf = Pipeline(steps=[('preprocessor', preprocessor),\n",
    "                      ('classifier', LogisticRegression())])\n",
    "\n",
    "X_train, X_test, y_train, y_test = train_test_split(\n",
    "    X, y, test_size=0.2, random_state=0)\n",
    "\n",
    "clf.fit(X_train, y_train)\n",
    "print(\"model score: %.3f\" % clf.score(X_test, y_test))\n",
    "\n",
    "from sklearn import set_config\n",
    "set_config(display='diagram')\n",
    "clf"
   ]
  },
  {
   "cell_type": "markdown",
   "metadata": {},
   "source": [
    "- When dealing with a cleaned dataset, the preprocessing can be automatic by using the data types of the column to decide whether to treat a column as a numerical or categorical feature with [make_column_selector](https://scikit-learn.org/stable/modules/generated/sklearn.compose.make_column_selector.html#sklearn.compose.make_column_selector). \n",
    "\n",
    "- First, let’s only select a subset of columns to simplify our example."
   ]
  },
  {
   "cell_type": "code",
   "execution_count": 40,
   "metadata": {},
   "outputs": [
    {
     "name": "stdout",
     "output_type": "stream",
     "text": [
      "<class 'pandas.core.frame.DataFrame'>\n",
      "Int64Index: 1047 entries, 1118 to 684\n",
      "Data columns (total 5 columns):\n",
      " #   Column    Non-Null Count  Dtype   \n",
      "---  ------    --------------  -----   \n",
      " 0   embarked  1045 non-null   category\n",
      " 1   sex       1047 non-null   category\n",
      " 2   pclass    1047 non-null   float64 \n",
      " 3   age       841 non-null    float64 \n",
      " 4   fare      1046 non-null   float64 \n",
      "dtypes: category(2), float64(3)\n",
      "memory usage: 35.0 KB\n"
     ]
    }
   ],
   "source": [
    "subset_feature = ['embarked', 'sex', 'pclass', 'age', 'fare']\n",
    "X_train, X_test = X_train[subset_feature], X_test[subset_feature]\n",
    "\n",
    "X_train.info()"
   ]
  },
  {
   "cell_type": "markdown",
   "metadata": {},
   "source": [
    "- `embarked` and `sex` are tagged as categories when loading the data with fetch_openml. We can use this information to dispatch the categorical columns to the categorical_transformer and the remaining columns to the numerical_transformer."
   ]
  },
  {
   "cell_type": "code",
   "execution_count": 41,
   "metadata": {},
   "outputs": [
    {
     "name": "stdout",
     "output_type": "stream",
     "text": [
      "model score: 0.794\n"
     ]
    }
   ],
   "source": [
    "from sklearn.compose import make_column_selector as selector\n",
    "\n",
    "preprocessor = ColumnTransformer(transformers=[\n",
    "    ('num', numeric_transformer,     selector(dtype_exclude=\"category\")),\n",
    "    ('cat', categorical_transformer, selector(dtype_include=\"category\"))\n",
    "])\n",
    "clf = Pipeline(steps=[('preprocessor', preprocessor),\n",
    "                      ('classifier', LogisticRegression())]\n",
    "              ).fit(X_train, y_train)\n",
    "\n",
    "print(\"model score: %.3f\" % clf.score(X_test, y_test))"
   ]
  },
  {
   "cell_type": "markdown",
   "metadata": {},
   "source": [
    "- This score doesn't match the previous pipeline's score becase the dtype-based selector treats the pclass columns as a numeric features instead of a category."
   ]
  },
  {
   "cell_type": "code",
   "execution_count": 42,
   "metadata": {},
   "outputs": [
    {
     "name": "stdout",
     "output_type": "stream",
     "text": [
      "['pclass', 'age', 'fare']\n",
      "['embarked', 'sex']\n"
     ]
    }
   ],
   "source": [
    "print(selector(dtype_exclude=\"category\")(X_train))\n",
    "print(selector(dtype_include=\"category\")(X_train))"
   ]
  },
  {
   "cell_type": "markdown",
   "metadata": {},
   "source": [
    "- *Grid search* can be used on the steps defined in the `ColumnTransformer`, together with the classifier’s hyperparameters as part of the Pipeline. \n",
    "\n",
    "- Search for the best imputer strategy (for numeric preprocessing) and regularization parameter (for logistic regression) using `GridSearchCV`."
   ]
  },
  {
   "cell_type": "code",
   "execution_count": 43,
   "metadata": {},
   "outputs": [
    {
     "data": {
      "text/html": [
       "<style>div.sk-top-container {color: black;background-color: white;}div.sk-toggleable {background-color: white;}label.sk-toggleable__label {cursor: pointer;display: block;width: 100%;margin-bottom: 0;padding: 0.2em 0.3em;box-sizing: border-box;text-align: center;}div.sk-toggleable__content {max-height: 0;max-width: 0;overflow: hidden;text-align: left;background-color: #f0f8ff;}div.sk-toggleable__content pre {margin: 0.2em;color: black;border-radius: 0.25em;background-color: #f0f8ff;}input.sk-toggleable__control:checked~div.sk-toggleable__content {max-height: 200px;max-width: 100%;overflow: auto;}div.sk-estimator input.sk-toggleable__control:checked~label.sk-toggleable__label {background-color: #d4ebff;}div.sk-label input.sk-toggleable__control:checked~label.sk-toggleable__label {background-color: #d4ebff;}input.sk-hidden--visually {border: 0;clip: rect(1px 1px 1px 1px);clip: rect(1px, 1px, 1px, 1px);height: 1px;margin: -1px;overflow: hidden;padding: 0;position: absolute;width: 1px;}div.sk-estimator {font-family: monospace;background-color: #f0f8ff;margin: 0.25em 0.25em;border: 1px dotted black;border-radius: 0.25em;box-sizing: border-box;}div.sk-estimator:hover {background-color: #d4ebff;}div.sk-parallel-item::after {content: \"\";width: 100%;border-bottom: 1px solid gray;flex-grow: 1;}div.sk-label:hover label.sk-toggleable__label {background-color: #d4ebff;}div.sk-serial::before {content: \"\";position: absolute;border-left: 1px solid gray;box-sizing: border-box;top: 2em;bottom: 0;left: 50%;}div.sk-serial {display: flex;flex-direction: column;align-items: center;background-color: white;}div.sk-item {z-index: 1;}div.sk-parallel {display: flex;align-items: stretch;justify-content: center;background-color: white;}div.sk-parallel-item {display: flex;flex-direction: column;position: relative;background-color: white;}div.sk-parallel-item:first-child::after {align-self: flex-end;width: 50%;}div.sk-parallel-item:last-child::after {align-self: flex-start;width: 50%;}div.sk-parallel-item:only-child::after {width: 0;}div.sk-dashed-wrapped {border: 1px dashed gray;margin: 0.2em;box-sizing: border-box;padding-bottom: 0.1em;background-color: white;position: relative;}div.sk-label label {font-family: monospace;font-weight: bold;background-color: white;display: inline-block;line-height: 1.2em;}div.sk-label-container {position: relative;z-index: 2;text-align: center;}div.sk-container {display: inline-block;position: relative;}</style><div class=\"sk-top-container\"><div class=\"sk-container\"><div class=\"sk-item sk-dashed-wrapped\"><div class=\"sk-label-container\"><div class=\"sk-label sk-toggleable\"><input class=\"sk-toggleable__control sk-hidden--visually\" id=\"4e358f3a-b0a8-4df4-9056-834cee527112\" type=\"checkbox\" ><label class=\"sk-toggleable__label\" for=\"4e358f3a-b0a8-4df4-9056-834cee527112\">GridSearchCV</label><div class=\"sk-toggleable__content\"><pre>GridSearchCV(cv=10,\n",
       "             estimator=Pipeline(steps=[('preprocessor',\n",
       "                                        ColumnTransformer(transformers=[('num',\n",
       "                                                                         Pipeline(steps=[('imputer',\n",
       "                                                                                          SimpleImputer(strategy='median')),\n",
       "                                                                                         ('scaler',\n",
       "                                                                                          StandardScaler())]),\n",
       "                                                                         <sklearn.compose._column_transformer.make_column_selector object at 0x7f4d3f7bce50>),\n",
       "                                                                        ('cat',\n",
       "                                                                         OneHotEncoder(handle_unknown='ignore'),\n",
       "                                                                         <sklearn.compose._column_transformer.make_column_selector object at 0x7f4d3f7bc4f0>)])),\n",
       "                                       ('classifier', LogisticRegression())]),\n",
       "             param_grid={'classifier__C': [0.1, 1.0, 10, 100],\n",
       "                         'preprocessor__num__imputer__strategy': ['mean',\n",
       "                                                                  'median']})</pre></div></div></div><div class=\"sk-parallel\"><div class=\"sk-parallel-item\"><div class=\"sk-item\"><div class=\"sk-serial\"><div class=\"sk-item\"><div class=\"sk-serial\"><div class=\"sk-item sk-dashed-wrapped\"><div class=\"sk-label-container\"><div class=\"sk-label sk-toggleable\"><input class=\"sk-toggleable__control sk-hidden--visually\" id=\"12870797-be37-42c7-b4b2-9bf46e2ccc6e\" type=\"checkbox\" ><label class=\"sk-toggleable__label\" for=\"12870797-be37-42c7-b4b2-9bf46e2ccc6e\">preprocessor: ColumnTransformer</label><div class=\"sk-toggleable__content\"><pre>ColumnTransformer(transformers=[('num',\n",
       "                                 Pipeline(steps=[('imputer',\n",
       "                                                  SimpleImputer(strategy='median')),\n",
       "                                                 ('scaler', StandardScaler())]),\n",
       "                                 <sklearn.compose._column_transformer.make_column_selector object at 0x7f4d3f7bce50>),\n",
       "                                ('cat', OneHotEncoder(handle_unknown='ignore'),\n",
       "                                 <sklearn.compose._column_transformer.make_column_selector object at 0x7f4d3f7bc4f0>)])</pre></div></div></div><div class=\"sk-parallel\"><div class=\"sk-parallel-item\"><div class=\"sk-item\"><div class=\"sk-label-container\"><div class=\"sk-label sk-toggleable\"><input class=\"sk-toggleable__control sk-hidden--visually\" id=\"5d0255bc-9271-4a52-87c3-6d92ef08491e\" type=\"checkbox\" ><label class=\"sk-toggleable__label\" for=\"5d0255bc-9271-4a52-87c3-6d92ef08491e\">num</label><div class=\"sk-toggleable__content\"><pre><sklearn.compose._column_transformer.make_column_selector object at 0x7f4d3f7bce50></pre></div></div></div><div class=\"sk-serial\"><div class=\"sk-item\"><div class=\"sk-serial\"><div class=\"sk-item\"><div class=\"sk-estimator sk-toggleable\"><input class=\"sk-toggleable__control sk-hidden--visually\" id=\"e28f7209-322f-4986-8591-18cd50a628a5\" type=\"checkbox\" ><label class=\"sk-toggleable__label\" for=\"e28f7209-322f-4986-8591-18cd50a628a5\">SimpleImputer</label><div class=\"sk-toggleable__content\"><pre>SimpleImputer(strategy='median')</pre></div></div></div><div class=\"sk-item\"><div class=\"sk-estimator sk-toggleable\"><input class=\"sk-toggleable__control sk-hidden--visually\" id=\"c10f333d-b4fb-4a5d-af61-216912beee59\" type=\"checkbox\" ><label class=\"sk-toggleable__label\" for=\"c10f333d-b4fb-4a5d-af61-216912beee59\">StandardScaler</label><div class=\"sk-toggleable__content\"><pre>StandardScaler()</pre></div></div></div></div></div></div></div></div><div class=\"sk-parallel-item\"><div class=\"sk-item\"><div class=\"sk-label-container\"><div class=\"sk-label sk-toggleable\"><input class=\"sk-toggleable__control sk-hidden--visually\" id=\"ba3c56c9-7b72-48e9-93a0-14e386f7889d\" type=\"checkbox\" ><label class=\"sk-toggleable__label\" for=\"ba3c56c9-7b72-48e9-93a0-14e386f7889d\">cat</label><div class=\"sk-toggleable__content\"><pre><sklearn.compose._column_transformer.make_column_selector object at 0x7f4d3f7bc4f0></pre></div></div></div><div class=\"sk-serial\"><div class=\"sk-item\"><div class=\"sk-estimator sk-toggleable\"><input class=\"sk-toggleable__control sk-hidden--visually\" id=\"44216b86-ac36-418e-a2de-d6cc69cfcccf\" type=\"checkbox\" ><label class=\"sk-toggleable__label\" for=\"44216b86-ac36-418e-a2de-d6cc69cfcccf\">OneHotEncoder</label><div class=\"sk-toggleable__content\"><pre>OneHotEncoder(handle_unknown='ignore')</pre></div></div></div></div></div></div></div></div><div class=\"sk-item\"><div class=\"sk-estimator sk-toggleable\"><input class=\"sk-toggleable__control sk-hidden--visually\" id=\"c701614a-48f3-44fa-b6f0-f7f7d9a0daea\" type=\"checkbox\" ><label class=\"sk-toggleable__label\" for=\"c701614a-48f3-44fa-b6f0-f7f7d9a0daea\">LogisticRegression</label><div class=\"sk-toggleable__content\"><pre>LogisticRegression()</pre></div></div></div></div></div></div></div></div></div></div></div></div>"
      ],
      "text/plain": [
       "GridSearchCV(cv=10,\n",
       "             estimator=Pipeline(steps=[('preprocessor',\n",
       "                                        ColumnTransformer(transformers=[('num',\n",
       "                                                                         Pipeline(steps=[('imputer',\n",
       "                                                                                          SimpleImputer(strategy='median')),\n",
       "                                                                                         ('scaler',\n",
       "                                                                                          StandardScaler())]),\n",
       "                                                                         <sklearn.compose._column_transformer.make_column_selector object at 0x7f4d3f7bce50>),\n",
       "                                                                        ('cat',\n",
       "                                                                         OneHotEncoder(handle_unknown='ignore'),\n",
       "                                                                         <sklearn.compose._column_transformer.make_column_selector object at 0x7f4d3f7bc4f0>)])),\n",
       "                                       ('classifier', LogisticRegression())]),\n",
       "             param_grid={'classifier__C': [0.1, 1.0, 10, 100],\n",
       "                         'preprocessor__num__imputer__strategy': ['mean',\n",
       "                                                                  'median']})"
      ]
     },
     "execution_count": 43,
     "metadata": {},
     "output_type": "execute_result"
    }
   ],
   "source": [
    "param_grid = {\n",
    "    'preprocessor__num__imputer__strategy': ['mean', 'median'],\n",
    "    'classifier__C': [0.1, 1.0, 10, 100],\n",
    "}\n",
    "\n",
    "grid_search = GridSearchCV(clf, param_grid, cv=10)\n",
    "set_config(display='diagram')\n",
    "grid_search"
   ]
  },
  {
   "cell_type": "code",
   "execution_count": 44,
   "metadata": {},
   "outputs": [
    {
     "name": "stdout",
     "output_type": "stream",
     "text": [
      "Best params: {'classifier__C': 0.1, 'preprocessor__num__imputer__strategy': 'mean'}\n"
     ]
    }
   ],
   "source": [
    "grid_search.fit(X_train, y_train)\n",
    "\n",
    "print(f\"Best params:\", grid_search.best_params_)"
   ]
  },
  {
   "cell_type": "code",
   "execution_count": 45,
   "metadata": {},
   "outputs": [
    {
     "name": "stdout",
     "output_type": "stream",
     "text": [
      "Internal CV score: 0.784\n"
     ]
    }
   ],
   "source": [
    "print(f\"Internal CV score: {grid_search.best_score_:.3f}\")"
   ]
  },
  {
   "cell_type": "code",
   "execution_count": 46,
   "metadata": {},
   "outputs": [
    {
     "data": {
      "text/html": [
       "<div>\n",
       "<style scoped>\n",
       "    .dataframe tbody tr th:only-of-type {\n",
       "        vertical-align: middle;\n",
       "    }\n",
       "\n",
       "    .dataframe tbody tr th {\n",
       "        vertical-align: top;\n",
       "    }\n",
       "\n",
       "    .dataframe thead th {\n",
       "        text-align: right;\n",
       "    }\n",
       "</style>\n",
       "<table border=\"1\" class=\"dataframe\">\n",
       "  <thead>\n",
       "    <tr style=\"text-align: right;\">\n",
       "      <th></th>\n",
       "      <th>mean_test_score</th>\n",
       "      <th>std_test_score</th>\n",
       "      <th>param_preprocessor__num__imputer__strategy</th>\n",
       "      <th>param_classifier__C</th>\n",
       "    </tr>\n",
       "  </thead>\n",
       "  <tbody>\n",
       "    <tr>\n",
       "      <th>0</th>\n",
       "      <td>0.784167</td>\n",
       "      <td>0.035824</td>\n",
       "      <td>mean</td>\n",
       "      <td>0.1</td>\n",
       "    </tr>\n",
       "    <tr>\n",
       "      <th>2</th>\n",
       "      <td>0.780366</td>\n",
       "      <td>0.032722</td>\n",
       "      <td>mean</td>\n",
       "      <td>1</td>\n",
       "    </tr>\n",
       "    <tr>\n",
       "      <th>1</th>\n",
       "      <td>0.780348</td>\n",
       "      <td>0.037245</td>\n",
       "      <td>median</td>\n",
       "      <td>0.1</td>\n",
       "    </tr>\n",
       "    <tr>\n",
       "      <th>4</th>\n",
       "      <td>0.779414</td>\n",
       "      <td>0.033105</td>\n",
       "      <td>mean</td>\n",
       "      <td>10</td>\n",
       "    </tr>\n",
       "    <tr>\n",
       "      <th>6</th>\n",
       "      <td>0.779414</td>\n",
       "      <td>0.033105</td>\n",
       "      <td>mean</td>\n",
       "      <td>100</td>\n",
       "    </tr>\n",
       "  </tbody>\n",
       "</table>\n",
       "</div>"
      ],
      "text/plain": [
       "   mean_test_score  std_test_score param_preprocessor__num__imputer__strategy  \\\n",
       "0         0.784167        0.035824                                       mean   \n",
       "2         0.780366        0.032722                                       mean   \n",
       "1         0.780348        0.037245                                     median   \n",
       "4         0.779414        0.033105                                       mean   \n",
       "6         0.779414        0.033105                                       mean   \n",
       "\n",
       "  param_classifier__C  \n",
       "0                 0.1  \n",
       "2                   1  \n",
       "1                 0.1  \n",
       "4                  10  \n",
       "6                 100  "
      ]
     },
     "execution_count": 46,
     "metadata": {},
     "output_type": "execute_result"
    }
   ],
   "source": [
    "# search results as a pandas dataframe\n",
    "import pandas as pd\n",
    "\n",
    "cv_results = pd.DataFrame(grid_search.cv_results_)\n",
    "cv_results = cv_results.sort_values(\"mean_test_score\", ascending=False)\n",
    "cv_results[[\"mean_test_score\", \"std_test_score\",\n",
    "            \"param_preprocessor__num__imputer__strategy\",\n",
    "            \"param_classifier__C\"\n",
    "            ]].head(5)"
   ]
  },
  {
   "cell_type": "markdown",
   "metadata": {},
   "source": [
    "- The best hyper-parameters have to be used to re-fit a final model on the full training set. We can evaluate that final model on held out test data that was not used for hyperameter tuning."
   ]
  },
  {
   "cell_type": "code",
   "execution_count": 47,
   "metadata": {},
   "outputs": [
    {
     "name": "stdout",
     "output_type": "stream",
     "text": [
      "best logistic regression from grid search: 0.794\n"
     ]
    }
   ],
   "source": [
    "print((\"best logistic regression from grid search: %.3f\"\n",
    "       % grid_search.score(X_test, y_test)))"
   ]
  }
 ],
 "metadata": {
  "kernelspec": {
   "display_name": "Python [conda env:working] *",
   "language": "python",
   "name": "conda-env-working-py"
  },
  "language_info": {
   "codemirror_mode": {
    "name": "ipython",
    "version": 3
   },
   "file_extension": ".py",
   "mimetype": "text/x-python",
   "name": "python",
   "nbconvert_exporter": "python",
   "pygments_lexer": "ipython3",
   "version": "3.8.2"
  }
 },
 "nbformat": 4,
 "nbformat_minor": 4
}
