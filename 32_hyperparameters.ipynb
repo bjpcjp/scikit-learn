{
 "cells": [
  {
   "cell_type": "markdown",
   "metadata": {},
   "source": [
    "### [Hypermarameter Tuning](https://scikit-learn.org/stable/modules/grid_search.html)\n",
    "\n",
    "- Hyper-parameters are parameters that are not directly learnt within estimators. In scikit-learn they are passed as arguments to the constructor of the estimator class. Examples include `C`, `kernel` and `gamma` for *Support Vector Classifier*, `alpha` for *Lasso*, etc.\n",
    "\n",
    "- Use `estimator.get_params()` to get the names & current values of all parameters in an estimator.\n",
    "\n",
    "- Scikit-Learn has two approaches to parameter search: **GridSearchCV** exhaustively considers all combinations; **RandomizedSearchCV** samples  candidates from a parameter space with a specified distribution. \n",
    "\n",
    "- Both have *successive halving counterparts* **HalvingGridSearchCV** and **HalvingRandomSearchCV**, which can be much faster.\n",
    "\n",
    "- A small subset of those parameters can have a large impact while others can be left to their default values."
   ]
  },
  {
   "cell_type": "markdown",
   "metadata": {},
   "source": [
    "### [Grid Search](https://scikit-learn.org/stable/modules/generated/sklearn.model_selection.GridSearchCV.html#sklearn.model_selection.GridSearchCV)\n",
    "\n",
    "- Exhaustively generates candidates from a grid of values specified by `param_grid`."
   ]
  },
  {
   "cell_type": "markdown",
   "metadata": {},
   "source": [
    "### [Randomized Param Optimization](https://scikit-learn.org/stable/modules/generated/sklearn.model_selection.RandomizedSearchCV.html#sklearn.model_selection.RandomizedSearchCV)\n",
    "\n",
    "- While *grid search* is the most popular method for parameter optimization, **RandomizedSearchCV** searches each setting by sampling a distribution over its possible values. This has two benefits:\n",
    "\n",
    "    - A budget can be chosen independent of the #parameters and possible values.\n",
    "    \n",
    "    - Adding parameters that do not influence the performance does not decrease efficiency.\n",
    "\n",
    "- Parameters are chosen with a *dictionary* plus a *computation budget*, (a #sampled candidates or sampling iterations) with `n_iter`. \n",
    "\n",
    "- Supply either a distribution or list of choices (which will be sampled uniformly): `{'C': scipy.stats.expon(scale=100), 'gamma': scipy.stats.expon(scale=.1),\n",
    "  'kernel': ['rbf'], 'class_weight':['balanced', None]}`\n",
    "  \n",
    "- Specify a continuous distribution to use randomization with continuous variables such as `C`.\n",
    "\n",
    "- A continuous log-uniform random variable is available through `loguniform`. For example, *loguniform(1, 100)* can be used instead of [1, 10, 100] or np.logspace(0, 2, num=1000). This is an alias to *SciPy’s stats.reciprocal*.\n",
    "\n",
    "- Mirroring the example above in grid search, we can specify a continuous random variable that is log-uniformly distributed between 1e0 and 1e3:"
   ]
  },
  {
   "cell_type": "code",
   "execution_count": 15,
   "metadata": {},
   "outputs": [
    {
     "data": {
      "text/plain": [
       "{'C': <scipy.stats._distn_infrastructure.rv_frozen at 0x7fd48b999160>,\n",
       " 'gamma': <scipy.stats._distn_infrastructure.rv_frozen at 0x7fd48b95eb20>,\n",
       " 'kernel': ['rbf'],\n",
       " 'class_weight': ['balanced', None]}"
      ]
     },
     "execution_count": 15,
     "metadata": {},
     "output_type": "execute_result"
    }
   ],
   "source": [
    "from sklearn.utils.fixes import loguniform\n",
    "{'C': loguniform(1e0, 1e3),\n",
    " 'gamma': loguniform(1e-4, 1e-3),\n",
    " 'kernel': ['rbf'],\n",
    " 'class_weight':['balanced', None]}"
   ]
  },
  {
   "cell_type": "markdown",
   "metadata": {},
   "source": [
    "### [Example: Grid Search with Cross Validation](https://scikit-learn.org/stable/auto_examples/model_selection/plot_grid_search_digits.html#sphx-glr-auto-examples-model-selection-plot-grid-search-digits-py)"
   ]
  },
  {
   "cell_type": "code",
   "execution_count": 1,
   "metadata": {},
   "outputs": [],
   "source": [
    "from sklearn import datasets\n",
    "from sklearn.model_selection import train_test_split as TTS\n",
    "from sklearn.model_selection import GridSearchCV\n",
    "from sklearn.metrics import classification_report as CR\n",
    "from sklearn.svm import SVC"
   ]
  },
  {
   "cell_type": "code",
   "execution_count": 2,
   "metadata": {},
   "outputs": [],
   "source": [
    "# To apply an classifier on this data, we need to flatten the image, to\n",
    "# turn the data in a (samples, feature) matrix\n",
    "\n",
    "digits = datasets.load_digits()\n",
    "n_samples = len(digits.images)\n",
    "X,y = digits.images.reshape((n_samples, -1)), digits.target\n",
    "\n",
    "X_train, X_test, y_train, y_test = TTS(\n",
    "    X, y, test_size=0.5, random_state=0)\n",
    "\n",
    "tuned_parameters = [{'kernel': ['rbf'], \n",
    "                     'gamma' : [1e-3, 1e-4],\n",
    "                     'C'     : [1, 10, 100, 1000]},\n",
    "                    {'kernel': ['linear'], \n",
    "                     'C'     : [1, 10, 100, 1000]}]\n",
    "\n",
    "scores = ['precision', 'recall']"
   ]
  },
  {
   "cell_type": "code",
   "execution_count": 3,
   "metadata": {},
   "outputs": [
    {
     "name": "stdout",
     "output_type": "stream",
     "text": [
      "best params:\t {'C': 10, 'gamma': 0.001, 'kernel': 'rbf'}\n",
      "Grid scores:\t\n",
      "0.986 (+/-0.016) for {'C': 1, 'gamma': 0.001, 'kernel': 'rbf'}\n",
      "0.959 (+/-0.028) for {'C': 1, 'gamma': 0.0001, 'kernel': 'rbf'}\n",
      "0.988 (+/-0.017) for {'C': 10, 'gamma': 0.001, 'kernel': 'rbf'}\n",
      "0.982 (+/-0.026) for {'C': 10, 'gamma': 0.0001, 'kernel': 'rbf'}\n",
      "0.988 (+/-0.017) for {'C': 100, 'gamma': 0.001, 'kernel': 'rbf'}\n",
      "0.983 (+/-0.026) for {'C': 100, 'gamma': 0.0001, 'kernel': 'rbf'}\n",
      "0.988 (+/-0.017) for {'C': 1000, 'gamma': 0.001, 'kernel': 'rbf'}\n",
      "0.983 (+/-0.026) for {'C': 1000, 'gamma': 0.0001, 'kernel': 'rbf'}\n",
      "0.974 (+/-0.012) for {'C': 1, 'kernel': 'linear'}\n",
      "0.974 (+/-0.012) for {'C': 10, 'kernel': 'linear'}\n",
      "0.974 (+/-0.012) for {'C': 100, 'kernel': 'linear'}\n",
      "0.974 (+/-0.012) for {'C': 1000, 'kernel': 'linear'}\n",
      "Detailed classification report:\n",
      "              precision    recall  f1-score   support\n",
      "\n",
      "           0       1.00      1.00      1.00        89\n",
      "           1       0.97      1.00      0.98        90\n",
      "           2       0.99      0.98      0.98        92\n",
      "           3       1.00      0.99      0.99        93\n",
      "           4       1.00      1.00      1.00        76\n",
      "           5       0.99      0.98      0.99       108\n",
      "           6       0.99      1.00      0.99        89\n",
      "           7       0.99      1.00      0.99        78\n",
      "           8       1.00      0.98      0.99        92\n",
      "           9       0.99      0.99      0.99        92\n",
      "\n",
      "    accuracy                           0.99       899\n",
      "   macro avg       0.99      0.99      0.99       899\n",
      "weighted avg       0.99      0.99      0.99       899\n",
      "\n",
      "best params:\t {'C': 10, 'gamma': 0.001, 'kernel': 'rbf'}\n",
      "Grid scores:\t\n",
      "0.986 (+/-0.019) for {'C': 1, 'gamma': 0.001, 'kernel': 'rbf'}\n",
      "0.957 (+/-0.028) for {'C': 1, 'gamma': 0.0001, 'kernel': 'rbf'}\n",
      "0.987 (+/-0.019) for {'C': 10, 'gamma': 0.001, 'kernel': 'rbf'}\n",
      "0.981 (+/-0.028) for {'C': 10, 'gamma': 0.0001, 'kernel': 'rbf'}\n",
      "0.987 (+/-0.019) for {'C': 100, 'gamma': 0.001, 'kernel': 'rbf'}\n",
      "0.982 (+/-0.026) for {'C': 100, 'gamma': 0.0001, 'kernel': 'rbf'}\n",
      "0.987 (+/-0.019) for {'C': 1000, 'gamma': 0.001, 'kernel': 'rbf'}\n",
      "0.982 (+/-0.026) for {'C': 1000, 'gamma': 0.0001, 'kernel': 'rbf'}\n",
      "0.971 (+/-0.010) for {'C': 1, 'kernel': 'linear'}\n",
      "0.971 (+/-0.010) for {'C': 10, 'kernel': 'linear'}\n",
      "0.971 (+/-0.010) for {'C': 100, 'kernel': 'linear'}\n",
      "0.971 (+/-0.010) for {'C': 1000, 'kernel': 'linear'}\n",
      "Detailed classification report:\n",
      "              precision    recall  f1-score   support\n",
      "\n",
      "           0       1.00      1.00      1.00        89\n",
      "           1       0.97      1.00      0.98        90\n",
      "           2       0.99      0.98      0.98        92\n",
      "           3       1.00      0.99      0.99        93\n",
      "           4       1.00      1.00      1.00        76\n",
      "           5       0.99      0.98      0.99       108\n",
      "           6       0.99      1.00      0.99        89\n",
      "           7       0.99      1.00      0.99        78\n",
      "           8       1.00      0.98      0.99        92\n",
      "           9       0.99      0.99      0.99        92\n",
      "\n",
      "    accuracy                           0.99       899\n",
      "   macro avg       0.99      0.99      0.99       899\n",
      "weighted avg       0.99      0.99      0.99       899\n",
      "\n"
     ]
    }
   ],
   "source": [
    "for score in scores:\n",
    "    clf = GridSearchCV(\n",
    "        SVC(), tuned_parameters, scoring='%s_macro' % score)\n",
    "    clf.fit(X_train, y_train)\n",
    "\n",
    "    print(\"best params:\\t\",clf.best_params_)\n",
    "\n",
    "    means = clf.cv_results_['mean_test_score']\n",
    "    stds = clf.cv_results_['std_test_score']\n",
    "    print(\"Grid scores:\\t\")\n",
    "    for mean, std, params in zip(means, stds, clf.cv_results_['params']):\n",
    "        print(\"%0.3f (+/-%0.03f) for %r\"\n",
    "              % (mean, std * 2, params))\n",
    "\n",
    "    print(\"Detailed classification report:\")\n",
    "    y_true, y_pred = y_test, clf.predict(X_test)\n",
    "    print(CR(y_true, y_pred))"
   ]
  },
  {
   "cell_type": "markdown",
   "metadata": {},
   "source": [
    "### [Example: PCA Complexity vs Cross-Validated Accuracy](https://scikit-learn.org/stable/auto_examples/model_selection/plot_grid_search_refit_callable.html#sphx-glr-auto-examples-model-selection-plot-grid-search-refit-callable-py)"
   ]
  },
  {
   "cell_type": "code",
   "execution_count": 4,
   "metadata": {},
   "outputs": [],
   "source": [
    "import numpy as np\n",
    "import matplotlib.pyplot as plt\n",
    "from sklearn.datasets import load_digits\n",
    "from sklearn.decomposition import PCA\n",
    "from sklearn.model_selection import GridSearchCV\n",
    "from sklearn.pipeline import Pipeline\n",
    "from sklearn.svm import LinearSVC"
   ]
  },
  {
   "cell_type": "code",
   "execution_count": 5,
   "metadata": {},
   "outputs": [],
   "source": [
    "def lower_bound(cv_results):\n",
    "    \"\"\"\n",
    "    Calculate the lower bound within 1 standard deviation\n",
    "    of the best `mean_test_scores`.\n",
    "\n",
    "    Parameters\n",
    "    ----------\n",
    "    cv_results : dict of numpy(masked) ndarrays\n",
    "        See attribute cv_results_ of `GridSearchCV`\n",
    "\n",
    "    Returns\n",
    "    -------\n",
    "    float\n",
    "        Lower bound within 1 standard deviation of the\n",
    "        best `mean_test_score`.\n",
    "    \"\"\"\n",
    "    best_score_idx = np.argmax(cv_results['mean_test_score'])\n",
    "\n",
    "    return (cv_results['mean_test_score'][best_score_idx]\n",
    "            - cv_results['std_test_score'][best_score_idx])\n",
    "\n",
    "# params: cv_results (dict of numpy maskset naarrays)\n",
    "# returns: model index with fewest PCA components with test score <1 stdev \n",
    "#          of best `mean_test_score\n",
    "\n",
    "def best_low_complexity(cv_results):\n",
    "\n",
    "    threshold     = lower_bound(cv_results)\n",
    "    candidate_idx = np.flatnonzero(cv_results['mean_test_score'] >= threshold)\n",
    "    best_idx      = candidate_idx[cv_results['param_reduce_dim__n_components']\n",
    "                                  [candidate_idx].argmin()]\n",
    "    return best_idx\n",
    "\n",
    "\n",
    "pipe = Pipeline([\n",
    "        ('reduce_dim', PCA(random_state=42)),\n",
    "        ('classify',   LinearSVC(random_state=42, C=0.01)),\n",
    "])\n",
    "\n",
    "param_grid = {\n",
    "    'reduce_dim__n_components': [6, 8, 10, 12, 14]\n",
    "}\n",
    "\n",
    "X, y = load_digits(return_X_y=True)\n",
    "\n",
    "grid = GridSearchCV(pipe, cv=10, n_jobs=1, param_grid=param_grid,\n",
    "                    scoring='accuracy', refit=best_low_complexity).fit(X, y)\n",
    "\n",
    "n_components = grid.cv_results_['param_reduce_dim__n_components']\n",
    "test_scores = grid.cv_results_['mean_test_score']"
   ]
  },
  {
   "cell_type": "code",
   "execution_count": 6,
   "metadata": {},
   "outputs": [
    {
     "name": "stdout",
     "output_type": "stream",
     "text": [
      "The best_index_ is 2\n",
      "The n_components selected is 10\n",
      "The corresponding accuracy score is 0.88\n"
     ]
    },
    {
     "data": {
      "image/png": "[encoded data removed]",
      "text/plain": [
       "<Figure size 432x288 with 1 Axes>"
      ]
     },
     "metadata": {
      "needs_background": "light"
     },
     "output_type": "display_data"
    }
   ],
   "source": [
    "plt.figure()\n",
    "plt.bar(n_components, test_scores, width=1.3, color='b')\n",
    "\n",
    "lower = lower_bound(grid.cv_results_)\n",
    "\n",
    "plt.axhline(np.max(test_scores), linestyle='--', color='y', label='Best score')\n",
    "plt.axhline(lower, linestyle='--', color='.5', label='Best score - 1 std')\n",
    "\n",
    "plt.title(\"Balance model complexity and cross-validated score\")\n",
    "plt.xlabel('Number of PCA components used')\n",
    "plt.ylabel('Digit classification accuracy')\n",
    "plt.xticks(n_components.tolist())\n",
    "plt.ylim((0, 1.0))\n",
    "plt.legend(loc='upper left')\n",
    "\n",
    "best_index_ = grid.best_index_\n",
    "\n",
    "print(\"The best_index_ is %d\" % best_index_)\n",
    "print(\"The n_components selected is %d\" % n_components[best_index_])\n",
    "print(\"The corresponding accuracy score is %.2f\"\n",
    "      % grid.cv_results_['mean_test_score'][best_index_])"
   ]
  },
  {
   "cell_type": "markdown",
   "metadata": {},
   "source": [
    "### [Example: Random Search vs Grid Search](https://scikit-learn.org/stable/auto_examples/model_selection/plot_randomized_search.html#sphx-glr-auto-examples-model-selection-plot-randomized-search-py)\n"
   ]
  },
  {
   "cell_type": "code",
   "execution_count": 16,
   "metadata": {},
   "outputs": [],
   "source": [
    "import numpy as np\n",
    "from time import time\n",
    "import scipy.stats as stats\n",
    "from sklearn.utils.fixes import loguniform\n",
    "from sklearn.model_selection import GridSearchCV as GS\n",
    "from sklearn.model_selection import RandomizedSearchCV as RS\n",
    "from sklearn.datasets import load_digits\n",
    "from sklearn.linear_model import SGDClassifier as SGDC"
   ]
  },
  {
   "cell_type": "code",
   "execution_count": 17,
   "metadata": {},
   "outputs": [
    {
     "name": "stderr",
     "output_type": "stream",
     "text": [
      "/home/bjpcjp/.local/lib/python3.8/site-packages/sklearn/linear_model/_stochastic_gradient.py:574: ConvergenceWarning: Maximum number of iteration reached before convergence. Consider increasing max_iter to improve the fit.\n",
      "  warnings.warn(\"Maximum number of iteration reached before \"\n",
      "/home/bjpcjp/.local/lib/python3.8/site-packages/sklearn/linear_model/_stochastic_gradient.py:574: ConvergenceWarning: Maximum number of iteration reached before convergence. Consider increasing max_iter to improve the fit.\n",
      "  warnings.warn(\"Maximum number of iteration reached before \"\n",
      "/home/bjpcjp/.local/lib/python3.8/site-packages/sklearn/linear_model/_stochastic_gradient.py:574: ConvergenceWarning: Maximum number of iteration reached before convergence. Consider increasing max_iter to improve the fit.\n",
      "  warnings.warn(\"Maximum number of iteration reached before \"\n",
      "/home/bjpcjp/.local/lib/python3.8/site-packages/sklearn/linear_model/_stochastic_gradient.py:574: ConvergenceWarning: Maximum number of iteration reached before convergence. Consider increasing max_iter to improve the fit.\n",
      "  warnings.warn(\"Maximum number of iteration reached before \"\n"
     ]
    },
    {
     "name": "stdout",
     "output_type": "stream",
     "text": [
      "RandomizedSearchCV took 24.49 seconds for 20 candidates parameter settings.\n",
      "Model with rank: 1\n",
      "Mean validation score: 0.920 (std: 0.031)\n",
      "Parameters: {'alpha': 0.0006108341940380009, 'average': False, 'l1_ratio': 0.7389206483086175}\n",
      "\n",
      "Model with rank: 2\n",
      "Mean validation score: 0.919 (std: 0.035)\n",
      "Parameters: {'alpha': 0.008490848548217928, 'average': False, 'l1_ratio': 0.3743915046152}\n",
      "\n",
      "Model with rank: 3\n",
      "Mean validation score: 0.918 (std: 0.036)\n",
      "Parameters: {'alpha': 0.0003484324373622794, 'average': False, 'l1_ratio': 0.7747484234866344}\n",
      "\n"
     ]
    },
    {
     "name": "stderr",
     "output_type": "stream",
     "text": [
      "/home/bjpcjp/.local/lib/python3.8/site-packages/sklearn/linear_model/_stochastic_gradient.py:574: ConvergenceWarning: Maximum number of iteration reached before convergence. Consider increasing max_iter to improve the fit.\n",
      "  warnings.warn(\"Maximum number of iteration reached before \"\n",
      "/home/bjpcjp/.local/lib/python3.8/site-packages/sklearn/linear_model/_stochastic_gradient.py:574: ConvergenceWarning: Maximum number of iteration reached before convergence. Consider increasing max_iter to improve the fit.\n",
      "  warnings.warn(\"Maximum number of iteration reached before \"\n"
     ]
    },
    {
     "name": "stdout",
     "output_type": "stream",
     "text": [
      "GridSearchCV took 91.15 seconds for 100 candidate parameter settings.\n",
      "Model with rank: 1\n",
      "Mean validation score: 0.931 (std: 0.030)\n",
      "Parameters: {'alpha': 1.0, 'average': True, 'l1_ratio': 0.0}\n",
      "\n",
      "Model with rank: 2\n",
      "Mean validation score: 0.928 (std: 0.027)\n",
      "Parameters: {'alpha': 1.0, 'average': False, 'l1_ratio': 0.0}\n",
      "\n",
      "Model with rank: 3\n",
      "Mean validation score: 0.928 (std: 0.024)\n",
      "Parameters: {'alpha': 0.0001, 'average': True, 'l1_ratio': 0.2222222222222222}\n",
      "\n"
     ]
    }
   ],
   "source": [
    "X, y = load_digits(return_X_y=True)\n",
    "\n",
    "clf = SGDC(loss='hinge', penalty='elasticnet', fit_intercept=True)\n",
    "\n",
    "# Utility function to report best scores\n",
    "def report(results, n_top=3):\n",
    "    for i in range(1, n_top + 1):\n",
    "        candidates = np.flatnonzero(results['rank_test_score'] == i)\n",
    "        for candidate in candidates:\n",
    "            print(\"Model with rank: {0}\".format(i))\n",
    "            print(\"Mean validation score: {0:.3f} (std: {1:.3f})\"\n",
    "                  .format(results['mean_test_score'][candidate],\n",
    "                          results['std_test_score'][candidate]))\n",
    "            print(\"Parameters: {0}\".format(results['params'][candidate]))\n",
    "            print(\"\")\n",
    "\n",
    "# specify parameters and distributions to sample from\n",
    "param_dist = {'average': [True, False],\n",
    "              'l1_ratio': stats.uniform(0, 1),\n",
    "              'alpha': loguniform(1e-4, 1e0)}\n",
    "\n",
    "# run randomized search\n",
    "n_iter_search = 20\n",
    "random_search = RS(clf, \n",
    "                   param_distributions=param_dist,\n",
    "                   n_iter=n_iter_search)\n",
    "\n",
    "start = time()\n",
    "random_search.fit(X, y)\n",
    "print(\"RandomizedSearchCV took %.2f seconds for %d candidates\"\n",
    "      \" parameter settings.\" % ((time() - start), n_iter_search))\n",
    "report(random_search.cv_results_)\n",
    "\n",
    "# use a full grid over all parameters\n",
    "param_grid = {'average': [True, False],\n",
    "              'l1_ratio': np.linspace(0, 1, num=10),\n",
    "              'alpha': np.power(10, np.arange(-4, 1, dtype=float))}\n",
    "\n",
    "# run grid search\n",
    "grid_search = GS(clf, param_grid=param_grid)\n",
    "start = time()\n",
    "grid_search.fit(X, y)\n",
    "\n",
    "print(\"GridSearchCV took %.2f seconds for %d candidate parameter settings.\"\n",
    "      % (time() - start, len(grid_search.cv_results_['params'])))\n",
    "report(grid_search.cv_results_)"
   ]
  },
  {
   "cell_type": "markdown",
   "metadata": {},
   "source": [
    "### Successive Halving for [Grid Search](https://scikit-learn.org/stable/modules/generated/sklearn.model_selection.HalvingGridSearchCV.html#sklearn.model_selection.HalvingGridSearchCV) and [Random Search](https://scikit-learn.org/stable/modules/generated/sklearn.model_selection.HalvingRandomSearchCV.html#sklearn.model_selection.HalvingRandomSearchCV)\n",
    "\n",
    "- Successive halving (SH) is like a tournament among candidate parameter combinations. It is an iterative selection process where all parameter combinations are evaluated with a small amount of resources (typically training samples) at the first iteration. Only some of these candidates are selected for the next iteration, which will be allocated more resources. The resources can also be an arbitrary numeric parameter such as `n_estimators` in a random forest.\n",
    "\n",
    "- Below: only a subset of candidates ‘survive’ until the last iteration. They have consistently ranked among the top-scoring candidates across all iterations. Each iteration is allocated an increasing amount of resources per candidate."
   ]
  },
  {
   "cell_type": "markdown",
   "metadata": {},
   "source": [
    "### [Example: Successive Halving Iterations](https://scikit-learn.org/stable/auto_examples/model_selection/plot_successive_halving_iterations.html)"
   ]
  },
  {
   "cell_type": "code",
   "execution_count": 18,
   "metadata": {},
   "outputs": [],
   "source": [
    "import pandas as pd\n",
    "from sklearn import datasets\n",
    "import matplotlib.pyplot as plt\n",
    "from scipy.stats import randint\n",
    "import numpy as np\n",
    "from sklearn.experimental import enable_halving_search_cv  # noqa\n",
    "from sklearn.model_selection import HalvingRandomSearchCV\n",
    "from sklearn.ensemble import RandomForestClassifier"
   ]
  },
  {
   "cell_type": "code",
   "execution_count": 19,
   "metadata": {},
   "outputs": [],
   "source": [
    "rng = np.random.RandomState(0)\n",
    "\n",
    "X, y = datasets.make_classification(n_samples=700, random_state=rng)\n",
    "\n",
    "clf = RandomForestClassifier(n_estimators=20, random_state=rng)\n",
    "\n",
    "param_dist = {\"max_depth\": [3, None],\n",
    "              \"max_features\": randint(1, 11),\n",
    "              \"min_samples_split\": randint(2, 11),\n",
    "              \"bootstrap\": [True, False],\n",
    "              \"criterion\": [\"gini\", \"entropy\"]}\n",
    "\n",
    "rsh = HalvingRandomSearchCV(\n",
    "    estimator=clf,\n",
    "    param_distributions=param_dist,\n",
    "    factor=2,\n",
    "    random_state=rng).fit(X, y)"
   ]
  },
  {
   "cell_type": "code",
   "execution_count": 20,
   "metadata": {},
   "outputs": [
    {
     "data": {
      "image/png": "[encoded data removed]",
      "text/plain": [
       "<Figure size 432x288 with 1 Axes>"
      ]
     },
     "metadata": {
      "needs_background": "light"
     },
     "output_type": "display_data"
    }
   ],
   "source": [
    "results = pd.DataFrame(rsh.cv_results_)\n",
    "results['params_str'] = results.params.apply(str)\n",
    "\n",
    "results.drop_duplicates(subset=('params_str', 'iter'), \n",
    "                        inplace=True)\n",
    "\n",
    "mean_scores = results.pivot(index='iter', \n",
    "                            columns='params_str',\n",
    "                            values='mean_test_score')\n",
    "\n",
    "ax = mean_scores.plot(legend=False, alpha=.6)\n",
    "\n",
    "labels = [\n",
    "    f'iter={i}\\nn_samples={rsh.n_resources_[i]}\\n'\n",
    "    f'n_candidates={rsh.n_candidates_[i]}'\n",
    "    for i in range(rsh.n_iterations_)\n",
    "]\n",
    "\n",
    "ax.set_xticks(range(rsh.n_iterations_))\n",
    "ax.set_xticklabels(labels, rotation=45, multialignment='left')\n",
    "ax.set_title('Scores of candidates over iterations')\n",
    "ax.set_ylabel('mean test score', fontsize=15)\n",
    "ax.set_xlabel('iterations', fontsize=15)\n",
    "plt.tight_layout()"
   ]
  },
  {
   "cell_type": "markdown",
   "metadata": {},
   "source": [
    "- 1st iteration: a small amount of resources (#samples) is used. All candidates are evaluated.\n",
    "\n",
    "- 2nd iteration: the best half of the candidates is evaluated. The number of allocated resources is doubled: candidates are evaluated on twice as many samples.\n",
    "\n",
    "- last iteration: only 2 candidates are left. The best candidate is the candidate that has the best score at the last iteration."
   ]
  },
  {
   "cell_type": "markdown",
   "metadata": {},
   "source": [
    "### Tips\n",
    "\n",
    "- Parameter search uses the estimator's `score` function by default. They are [accuracy](https://scikit-learn.org/stable/modules/generated/sklearn.metrics.accuracy_score.html#sklearn.metrics.accuracy_score) and [r2 score](https://scikit-learn.org/stable/modules/generated/sklearn.metrics.r2_score.html#sklearn.metrics.r2_score) for classification and regression respectively.\n",
    "\n",
    "- Alternatives can specified using the `scoring` parameter of most search tools.\n",
    "\n",
    "- You can use *multiple metrics* for Grid & Randomized searches. They are specified as a list of strings, or a name:function dict.\n",
    "\n",
    "- When specifying multiple metrics, set `refit` to the metric for which `best_params_` will be used to build the `best_estimator_` for the entire dataset. Otherwise set `refit=False` - the default `refit=None` setting will cause errors when using multiple metrics.\n",
    "\n",
    "- **Parallelism**: param search tools evaluate each data fold independently. Computations can run in parallel vis `n_jobs=-1`.\n",
    "\n",
    "- **Robustness**: some settings can cause `fit` failures. This will cause the entire search to fail by default. Use `error_score=0` or `error_score=np.NaN` to instead issue a warning & set the score for that fold to zero or NaN."
   ]
  },
  {
   "cell_type": "markdown",
   "metadata": {},
   "source": [
    "### Composite Estimators & Parameter Spaces\n",
    "\n",
    "- Grid & Randomized parameter search can use composite or nested estimators (Pipelines, Column Transformers, Voting Classifiers, Calibrated Classifiers). A dedicated syntax is involved."
   ]
  },
  {
   "cell_type": "code",
   "execution_count": 21,
   "metadata": {},
   "outputs": [],
   "source": [
    "from sklearn.model_selection import GridSearchCV\n",
    "from sklearn.calibration import CalibratedClassifierCV\n",
    "from sklearn.ensemble import RandomForestClassifier\n",
    "from sklearn.datasets import make_moons\n",
    "\n",
    "X, y = make_moons()\n",
    "\n",
    "calibrated_forest = CalibratedClassifierCV(\n",
    "   base_estimator=RandomForestClassifier(n_estimators=10))\n",
    "\n",
    "param_grid = {\n",
    "   'base_estimator__max_depth': [2, 4, 6, 8]}\n",
    "\n",
    "search = GridSearchCV(calibrated_forest, \n",
    "                      param_grid, \n",
    "                      cv=5).fit(X, y)"
   ]
  },
  {
   "cell_type": "markdown",
   "metadata": {},
   "source": [
    "- If the meta-estimator is build as a collection (ie, Pipeline), `estimator` refers to the estimator name. There can be multiple nesting levels."
   ]
  },
  {
   "cell_type": "code",
   "execution_count": 22,
   "metadata": {},
   "outputs": [],
   "source": [
    "from sklearn.pipeline import Pipeline\n",
    "from sklearn.feature_selection import SelectKBest\n",
    "\n",
    "pipe = Pipeline([\n",
    "   ('select', SelectKBest()),\n",
    "   ('model', calibrated_forest)])\n",
    "\n",
    "param_grid = {\n",
    "   'select__k': [1, 2],\n",
    "   'model__base_estimator__max_depth': [2, 4, 6, 8]}\n",
    "\n",
    "search = GridSearchCV(pipe, param_grid, cv=5).fit(X, y)"
   ]
  },
  {
   "cell_type": "markdown",
   "metadata": {},
   "source": [
    "### Alternative to Brute-Force Search\n",
    "\n",
    "- Some models can fit data for a range of param values almost as efficiently as fitting an estimator for a single param value. The most common example of this is *regularization strength*. The following models have this capability.\n",
    "\n",
    "- [ElasticNet CV](https://scikit-learn.org/stable/modules/generated/sklearn.linear_model.ElasticNetCV.html#sklearn.linear_model.ElasticNetCV)\n",
    "- [LARS CV](https://scikit-learn.org/stable/modules/generated/sklearn.linear_model.LarsCV.html#sklearn.linear_model.LarsCV)\n",
    "- [Lasso CV](https://scikit-learn.org/stable/modules/generated/sklearn.linear_model.LassoCV.html#sklearn.linear_model.LassoCV)\n",
    "- [LassoLARS CV](https://scikit-learn.org/stable/modules/generated/sklearn.linear_model.LassoLarsCV.html#sklearn.linear_model.LassoLarsCV)\n",
    "- [Logistic Regression CV](https://scikit-learn.org/stable/modules/generated/sklearn.linear_model.LogisticRegressionCV.html#sklearn.linear_model.LogisticRegressionCV)\n",
    "- [ElasticNet (Multitask) CV](https://scikit-learn.org/stable/modules/generated/sklearn.linear_model.MultiTaskElasticNetCV.html#sklearn.linear_model.MultiTaskElasticNetCV)\n",
    "- [Lasso (Multitask) CV](https://scikit-learn.org/stable/modules/generated/sklearn.linear_model.MultiTaskLassoCV.html#sklearn.linear_model.MultiTaskLassoCV)\n",
    "- [OMP CV](https://scikit-learn.org/stable/modules/generated/sklearn.linear_model.OrthogonalMatchingPursuitCV.html#sklearn.linear_model.OrthogonalMatchingPursuitCV)\n",
    "- [Ridge CV](https://scikit-learn.org/stable/modules/generated/sklearn.linear_model.RidgeCV.html#sklearn.linear_model.RidgeCV)\n",
    "- [Ridge Classifier CV](https://scikit-learn.org/stable/modules/generated/sklearn.linear_model.RidgeClassifierCV.html#sklearn.linear_model.RidgeClassifierCV)"
   ]
  },
  {
   "cell_type": "markdown",
   "metadata": {},
   "source": [
    "### Info Criteria (AIC, BIC) based Regularization\n",
    "\n",
    "- [LassoLARS IC](https://scikit-learn.org/stable/modules/generated/sklearn.linear_model.LassoLarsIC.html#sklearn.linear_model.LassoLarsIC) uses either the AIC or BIC info criterions to build optimal regularization estimates with a single regularization path (instead of building several via cross-validation.) "
   ]
  },
  {
   "cell_type": "code",
   "execution_count": null,
   "metadata": {},
   "outputs": [],
   "source": []
  },
  {
   "cell_type": "markdown",
   "metadata": {},
   "source": [
    "### [Example: Model comparison w/ Grid Search](https://scikit-learn.org/stable/auto_examples/model_selection/plot_grid_search_stats.html#sphx-glr-auto-examples-model-selection-plot-grid-search-stats-py)\n",
    "\n",
    "- TODO"
   ]
  }
 ],
 "metadata": {
  "kernelspec": {
   "display_name": "Python [conda env:working] *",
   "language": "python",
   "name": "conda-env-working-py"
  },
  "language_info": {
   "codemirror_mode": {
    "name": "ipython",
    "version": 3
   },
   "file_extension": ".py",
   "mimetype": "text/x-python",
   "name": "python",
   "nbconvert_exporter": "python",
   "pygments_lexer": "ipython3",
   "version": "3.8.2"
  }
 },
 "nbformat": 4,
 "nbformat_minor": 4
}
