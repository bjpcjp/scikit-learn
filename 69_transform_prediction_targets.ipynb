{
 "cells": [
  {
   "cell_type": "markdown",
   "metadata": {},
   "source": [
    "### [Transforming Prediction Targets](https://scikit-learn.org/stable/modules/preprocessing_targets.html)\n",
    "\n",
    "- designed for transforming supervised learning target"
   ]
  },
  {
   "cell_type": "markdown",
   "metadata": {},
   "source": [
    "### [Label Binarization](https://scikit-learn.org/stable/modules/generated/sklearn.preprocessing.LabelBinarizer.html#sklearn.preprocessing.LabelBinarizer)\n",
    "\n",
    "- This utility creates a [label indicator matrix](https://scikit-learn.org/stable/glossary.html#term-label-indicator-matrix) from a list of multiclass labels.\n",
    "\n",
    "- Not necessary if you are already using a method that supports label indicator matrix format."
   ]
  },
  {
   "cell_type": "code",
   "execution_count": 1,
   "metadata": {},
   "outputs": [
    {
     "name": "stdout",
     "output_type": "stream",
     "text": [
      "[1 2 4 6] \n",
      "\n",
      "[[1 0 0 0]\n",
      " [0 0 0 1]]\n"
     ]
    }
   ],
   "source": [
    "from sklearn import preprocessing\n",
    "lb = preprocessing.LabelBinarizer().fit(\n",
    "    [1, 2, 6, 4, 2])\n",
    "\n",
    "print(lb.classes_,\"\\n\")\n",
    "print(lb.transform([1, 6]))"
   ]
  },
  {
   "cell_type": "markdown",
   "metadata": {},
   "source": [
    "### [Multilabel Binarization](https://scikit-learn.org/stable/modules/generated/sklearn.preprocessing.MultiLabelBinarizer.html#sklearn.preprocessing.MultiLabelBinarizer)\n",
    "\n",
    "- Converts a collection of \"label collections\" and the indicator format.\n",
    "\n",
    "- Multilabel learning: the *joint set of binary classification tasks* is shown as an indicator array:\n",
    "    - Each sample is one row of a binary-valued 2D array (#samples, #classes) where ones indicate the subset of labels for that sample.\n",
    "    \n",
    "    - `([[1,0,0],[0,1,1],[0,0,0]])` equals:\n",
    "    - label 0 in the 1st sample\n",
    "    - labels 1,2 in the 2nd sample\n",
    "    - no labels in the 3rd sample"
   ]
  },
  {
   "cell_type": "code",
   "execution_count": 2,
   "metadata": {},
   "outputs": [
    {
     "data": {
      "text/plain": [
       "array([[0, 0, 1, 1, 1],\n",
       "       [0, 0, 1, 0, 0],\n",
       "       [1, 1, 0, 1, 0],\n",
       "       [1, 1, 1, 1, 1],\n",
       "       [1, 1, 1, 0, 0]])"
      ]
     },
     "execution_count": 2,
     "metadata": {},
     "output_type": "execute_result"
    }
   ],
   "source": [
    "from sklearn.preprocessing import MultiLabelBinarizer\n",
    "y = [[2, 3, 4], [2], [0, 1, 3], [0, 1, 2, 3, 4], [0, 1, 2]]\n",
    "MultiLabelBinarizer().fit_transform(y)"
   ]
  },
  {
   "cell_type": "markdown",
   "metadata": {},
   "source": [
    "### [Label Encoding](https://scikit-learn.org/stable/modules/generated/sklearn.preprocessing.LabelEncoder.html#sklearn.preprocessing.LabelEncoder)\n",
    "\n",
    "- A utility to normalize labels (to 0..n_classes-1). Useful for Cython routines.\n",
    "\n",
    "- It will also transform text labels to numerical equivalents, as long as they are hashable & comparable."
   ]
  },
  {
   "cell_type": "code",
   "execution_count": 3,
   "metadata": {},
   "outputs": [
    {
     "name": "stdout",
     "output_type": "stream",
     "text": [
      "[1 2 6] \n",
      "\n",
      "[0 0 1 2] \n",
      "\n",
      "[1 1 2 6]\n"
     ]
    }
   ],
   "source": [
    "from sklearn import preprocessing\n",
    "le = preprocessing.LabelEncoder().fit([1, 2, 2, 6])\n",
    "\n",
    "print(le.classes_,\"\\n\")\n",
    "print(le.transform([1, 1, 2, 6]),\"\\n\")\n",
    "print(le.inverse_transform([0, 0, 1, 2]))"
   ]
  },
  {
   "cell_type": "code",
   "execution_count": 4,
   "metadata": {},
   "outputs": [
    {
     "name": "stdout",
     "output_type": "stream",
     "text": [
      "['amsterdam', 'paris', 'tokyo'] \n",
      "\n",
      "[2 2 1] \n",
      "\n",
      "['tokyo', 'tokyo', 'paris']\n"
     ]
    }
   ],
   "source": [
    "le = preprocessing.LabelEncoder().fit(\n",
    "    [\"paris\", \"paris\", \"tokyo\", \"amsterdam\"])\n",
    "\n",
    "print(list(le.classes_),\"\\n\")\n",
    "print(le.transform([\"tokyo\", \"tokyo\", \"paris\"]),\"\\n\")\n",
    "print(list(le.inverse_transform([2, 2, 1])))"
   ]
  },
  {
   "cell_type": "code",
   "execution_count": null,
   "metadata": {},
   "outputs": [],
   "source": []
  }
 ],
 "metadata": {
  "kernelspec": {
   "display_name": "Python [conda env:working] *",
   "language": "python",
   "name": "conda-env-working-py"
  },
  "language_info": {
   "codemirror_mode": {
    "name": "ipython",
    "version": 3
   },
   "file_extension": ".py",
   "mimetype": "text/x-python",
   "name": "python",
   "nbconvert_exporter": "python",
   "pygments_lexer": "ipython3",
   "version": "3.8.2"
  }
 },
 "nbformat": 4,
 "nbformat_minor": 4
}
