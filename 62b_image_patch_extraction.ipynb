{
 "cells": [
  {
   "cell_type": "markdown",
   "metadata": {},
   "source": [
    "### [Image Patch Extraction](https://scikit-learn.org/stable/modules/feature_extraction.html#image-feature-extraction)\n",
    "\n",
    "- [extract_patches_2d](https://scikit-learn.org/stable/modules/generated/sklearn.feature_extraction.image.extract_patches_2d.html#sklearn.feature_extraction.image.extract_patches_2d) returns patches from an image stored as a 2D array, or 3D with color information along the third axis.\n",
    "\n",
    "- [reconstruct_from_patches_2d](https://scikit-learn.org/stable/modules/generated/sklearn.feature_extraction.image.reconstruct_from_patches_2d.html#sklearn.feature_extraction.image.reconstruct_from_patches_2d) rebuilds the image.\n",
    "\n",
    "- Below: generate 4x4 pixel picture with 3 color channels."
   ]
  },
  {
   "cell_type": "code",
   "execution_count": 2,
   "metadata": {},
   "outputs": [
    {
     "name": "stdout",
     "output_type": "stream",
     "text": [
      "[[ 0  3  6  9]\n",
      " [12 15 18 21]\n",
      " [24 27 30 33]\n",
      " [36 39 42 45]] \n",
      "\n",
      "(2, 2, 2, 3) \n",
      "\n",
      "[[[ 0  3]\n",
      "  [12 15]]\n",
      "\n",
      " [[15 18]\n",
      "  [27 30]]] \n",
      "\n",
      "(9, 2, 2, 3) \n",
      "\n",
      "[[15 18]\n",
      " [27 30]] \n",
      "\n"
     ]
    }
   ],
   "source": [
    "import numpy as np\n",
    "from sklearn.feature_extraction import image\n",
    "\n",
    "one_image = np.arange(4 * 4 * 3).reshape((4, 4, 3))\n",
    "print(one_image[:, :, 0],\"\\n\")  # R channel of a fake RGB picture\n",
    "\n",
    "patches = image.extract_patches_2d(one_image, \n",
    "                                   (2, 2), \n",
    "                                   max_patches=2,\n",
    "                                   random_state=0)\n",
    "\n",
    "print(patches.shape,\"\\n\")\n",
    "print(patches[:, :, :, 0],\"\\n\")\n",
    "\n",
    "patches = image.extract_patches_2d(one_image, \n",
    "                                   (2, 2))\n",
    "print(patches.shape,\"\\n\")\n",
    "print(patches[4, :, :, 0],\"\\n\")"
   ]
  },
  {
   "cell_type": "markdown",
   "metadata": {},
   "source": [
    "- Now try to reconstruct the original image from the patches - by averaging on non-overlapping areas."
   ]
  },
  {
   "cell_type": "code",
   "execution_count": 3,
   "metadata": {},
   "outputs": [],
   "source": [
    "reconstructed = image.reconstruct_from_patches_2d(patches, \n",
    "                                                  (4, 4, 3))\n",
    "\n",
    "np.testing.assert_array_equal(one_image, \n",
    "                              reconstructed)"
   ]
  },
  {
   "cell_type": "markdown",
   "metadata": {},
   "source": [
    "- [PatchExtractor](https://scikit-learn.org/stable/modules/generated/sklearn.feature_extraction.image.PatchExtractor.html#sklearn.feature_extraction.image.PatchExtractor) works the same way as [extract_patches_2d](https://scikit-learn.org/stable/modules/generated/sklearn.feature_extraction.image.extract_patches_2d.html#sklearn.feature_extraction.image.extract_patches_2d) and supports multiple images.\n",
    "\n",
    "- It is an estimator & can be used in a pipeline."
   ]
  },
  {
   "cell_type": "code",
   "execution_count": 4,
   "metadata": {},
   "outputs": [
    {
     "data": {
      "text/plain": [
       "(45, 2, 2, 3)"
      ]
     },
     "execution_count": 4,
     "metadata": {},
     "output_type": "execute_result"
    }
   ],
   "source": [
    "five_images = np.arange(5 * 4 * 4 * 3).reshape(5, 4, 4, 3)\n",
    "patches = image.PatchExtractor(patch_size=(2, 2)).transform(five_images)\n",
    "patches.shape"
   ]
  },
  {
   "cell_type": "markdown",
   "metadata": {},
   "source": [
    "### Connectivity Graphs\n",
    "\n",
    "- [img_to_graph](https://scikit-learn.org/stable/modules/generated/sklearn.feature_extraction.image.img_to_graph.html#sklearn.feature_extraction.image.img_to_graph) returns a connectivity matrix from a 2D or 3D image.\n",
    "\n",
    "- [grid_to_graph](https://scikit-learn.org/stable/modules/generated/sklearn.feature_extraction.image.grid_to_graph.html#sklearn.feature_extraction.image.grid_to_graph) returns a connectivity matrix for images given the shape of the images."
   ]
  },
  {
   "cell_type": "markdown",
   "metadata": {},
   "source": [
    "### [Example: Ward hierarchical clustering on coin images](https://scikit-learn.org/stable/auto_examples/cluster/plot_coin_ward_segmentation.html#sphx-glr-auto-examples-cluster-plot-coin-ward-segmentation-py)\n",
    "\n",
    "- "
   ]
  },
  {
   "cell_type": "code",
   "execution_count": 5,
   "metadata": {},
   "outputs": [],
   "source": [
    "import time as time\n",
    "import numpy as np\n",
    "from scipy.ndimage.filters import gaussian_filter\n",
    "import matplotlib.pyplot as plt\n",
    "import skimage\n",
    "from skimage.data import coins\n",
    "from skimage.transform import rescale\n",
    "from sklearn.feature_extraction.image import grid_to_graph\n",
    "from sklearn.cluster import AgglomerativeClustering\n",
    "from sklearn.utils.fixes import parse_version"
   ]
  },
  {
   "cell_type": "code",
   "execution_count": 6,
   "metadata": {},
   "outputs": [],
   "source": [
    "# these were introduced in skimage-0.14\n",
    "if parse_version(skimage.__version__) >= parse_version('0.14'):\n",
    "    rescale_params = {'anti_aliasing': False, 'multichannel': False}\n",
    "else:\n",
    "    rescale_params = {}"
   ]
  },
  {
   "cell_type": "code",
   "execution_count": 7,
   "metadata": {},
   "outputs": [
    {
     "name": "stdout",
     "output_type": "stream",
     "text": [
      "(4697, 1)\n"
     ]
    }
   ],
   "source": [
    "# Generate data\n",
    "# Resize to 20% of original size to speed up the processing\n",
    "# Apply a Gaussian filter for smoothing prior to down-scaling\n",
    "# reduces aliasing artifacts.\n",
    "\n",
    "orig_coins       = coins()\n",
    "smoothened_coins = gaussian_filter(orig_coins, sigma=2)\n",
    "rescaled_coins   = rescale(smoothened_coins, 0.2, \n",
    "                           mode=\"reflect\",\n",
    "                           **rescale_params)\n",
    "\n",
    "X = np.reshape(rescaled_coins, (-1, 1))\n",
    "print(X.shape)"
   ]
  },
  {
   "cell_type": "code",
   "execution_count": 8,
   "metadata": {},
   "outputs": [],
   "source": [
    "# Define the structure A of the data. Pixels connected to their neighbors.\n",
    "connectivity = grid_to_graph(*rescaled_coins.shape)"
   ]
  },
  {
   "cell_type": "code",
   "execution_count": 9,
   "metadata": {},
   "outputs": [
    {
     "name": "stdout",
     "output_type": "stream",
     "text": [
      "Elapsed time:  0.16572237014770508\n",
      "Number of pixels\t:  4697\n",
      "Number of clusters\t:  27\n"
     ]
    }
   ],
   "source": [
    "st = time.time()\n",
    "n_clusters = 27  # number of regions\n",
    "ward = AgglomerativeClustering(n_clusters   = n_clusters, \n",
    "                               linkage      = 'ward',\n",
    "                               connectivity = connectivity)\n",
    "ward.fit(X)\n",
    "label = np.reshape(ward.labels_, \n",
    "                   rescaled_coins.shape)\n",
    "\n",
    "print(\"Elapsed time: \", time.time() - st)\n",
    "print(\"Number of pixels\\t: \", label.size)\n",
    "print(\"Number of clusters\\t: \", np.unique(label).size)"
   ]
  },
  {
   "cell_type": "code",
   "execution_count": 10,
   "metadata": {},
   "outputs": [
    {
     "data": {
      "text/plain": [
       "([], [])"
      ]
     },
     "execution_count": 10,
     "metadata": {},
     "output_type": "execute_result"
    },
    {
     "data": {
      "image/png": "[encoded data removed]",
      "text/plain": [
       "<Figure size 360x360 with 1 Axes>"
      ]
     },
     "metadata": {},
     "output_type": "display_data"
    }
   ],
   "source": [
    "# Plot the results on an image\n",
    "plt.figure(figsize=(5, 5))\n",
    "plt.imshow(rescaled_coins, cmap=plt.cm.gray)\n",
    "for l in range(n_clusters):\n",
    "    plt.contour(label == l,\n",
    "                colors=[plt.cm.nipy_spectral(l / float(n_clusters)), ])\n",
    "plt.xticks(())\n",
    "plt.yticks(())"
   ]
  },
  {
   "cell_type": "code",
   "execution_count": null,
   "metadata": {},
   "outputs": [],
   "source": []
  }
 ],
 "metadata": {
  "kernelspec": {
   "display_name": "Python [conda env:working] *",
   "language": "python",
   "name": "conda-env-working-py"
  },
  "language_info": {
   "codemirror_mode": {
    "name": "ipython",
    "version": 3
   },
   "file_extension": ".py",
   "mimetype": "text/x-python",
   "name": "python",
   "nbconvert_exporter": "python",
   "pygments_lexer": "ipython3",
   "version": "3.8.2"
  }
 },
 "nbformat": 4,
 "nbformat_minor": 4
}
