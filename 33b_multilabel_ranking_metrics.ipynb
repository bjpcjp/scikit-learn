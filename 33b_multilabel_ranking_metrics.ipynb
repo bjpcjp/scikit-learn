{
 "cells": [
  {
   "cell_type": "markdown",
   "metadata": {},
   "source": [
    "### [Multilabel ranking metrics](https://scikit-learn.org/stable/modules/model_evaluation.html#multilabel-ranking-metrics)\n",
    "\n",
    "- Multilabel learning: each sample can have *any number of ground truth labels*. The goal is to give high scores and *better rankings* to the ground truth labels."
   ]
  },
  {
   "cell_type": "markdown",
   "metadata": {},
   "source": [
    "### [Coverage Error](https://scikit-learn.org/stable/modules/generated/sklearn.metrics.coverage_error.html#sklearn.metrics.coverage_error)\n",
    "\n",
    "- Returns the average #labels that have to be included in the final prediction so that *all true labels* are predicted.\n",
    "\n",
    "- Useful if you want to know how many top-scored labels you need to predict without missing one."
   ]
  },
  {
   "cell_type": "code",
   "execution_count": 1,
   "metadata": {},
   "outputs": [
    {
     "data": {
      "text/plain": [
       "2.5"
      ]
     },
     "execution_count": 1,
     "metadata": {},
     "output_type": "execute_result"
    }
   ],
   "source": [
    "import numpy as np\n",
    "from sklearn.metrics import coverage_error\n",
    "\n",
    "y_true  = np.array([[1,    0,   0], [0, 0,   1]])\n",
    "y_score = np.array([[0.75, 0.5, 1], [1, 0.2, 0.1]])\n",
    "coverage_error(y_true, y_score)"
   ]
  },
  {
   "cell_type": "markdown",
   "metadata": {},
   "source": [
    "### [Label Ranking Avg Precision (LRAP)](https://scikit-learn.org/stable/modules/generated/sklearn.metrics.label_ranking_average_precision_score.html#sklearn.metrics.label_ranking_average_precision_score)\n",
    "\n",
    "- For each ground truth label, what fraction of higher-ranked labels were true labels?"
   ]
  },
  {
   "cell_type": "code",
   "execution_count": 2,
   "metadata": {},
   "outputs": [
    {
     "data": {
      "text/plain": [
       "0.41666666666666663"
      ]
     },
     "execution_count": 2,
     "metadata": {},
     "output_type": "execute_result"
    }
   ],
   "source": [
    "import numpy as np\n",
    "from sklearn.metrics import label_ranking_average_precision_score\n",
    "y_true  = np.array([[1, 0, 0], [0, 0, 1]])\n",
    "y_score = np.array([[0.75, 0.5, 1], [1, 0.2, 0.1]])\n",
    "\n",
    "label_ranking_average_precision_score(\n",
    "    y_true, y_score)"
   ]
  },
  {
   "cell_type": "markdown",
   "metadata": {},
   "source": [
    "### [Label Ranking Loss](https://scikit-learn.org/stable/modules/generated/sklearn.metrics.label_ranking_loss.html#sklearn.metrics.label_ranking_loss)\n",
    "\n",
    "- Returns an average number of label pairs that are *incorrectly ordered* (true labels have a lower score than false labels)."
   ]
  },
  {
   "cell_type": "code",
   "execution_count": 4,
   "metadata": {},
   "outputs": [
    {
     "name": "stdout",
     "output_type": "stream",
     "text": [
      "0.75\n",
      "0.0\n"
     ]
    }
   ],
   "source": [
    "import numpy as np\n",
    "from sklearn.metrics import label_ranking_loss\n",
    "\n",
    "y_true  = np.array([[1, 0, 0], [0, 0, 1]])\n",
    "y_score = np.array([[0.75, 0.5, 1], \n",
    "                    [1, 0.2, 0.1]])\n",
    "\n",
    "print(label_ranking_loss(y_true, y_score))\n",
    "      \n",
    "# With this prediction, we have perfect \n",
    "# and minimal loss\n",
    "y_score = np.array([[1.0, 0.1, 0.2], \n",
    "                    [0.1, 0.2, 0.9]])\n",
    "      \n",
    "print(label_ranking_loss(y_true, y_score))"
   ]
  },
  {
   "cell_type": "markdown",
   "metadata": {},
   "source": [
    "### [Discounted Cumulative Gain (DCG)](https://scikit-learn.org/stable/modules/generated/sklearn.metrics.dcg_score.html#sklearn.metrics.dcg_score) and [Normalized DCG](https://scikit-learn.org/stable/modules/generated/sklearn.metrics.ndcg_score.html#sklearn.metrics.ndcg_score)\n",
    "\n",
    "- Ranking metrics. They compare a predicted order to ground-truth scores (such as relevance of answers to a query.)\n",
    "\n",
    "- DCG orders the true targets (e.g. relevance of query answers) in the predicted order, multiplies them by a logarithmic decay, and sums the result. The sum can be truncated after the first $K$ results, in which case we call it DCG@K. NDCG, or NDCG@K is DCG divided by the DCG obtained by a perfect prediction, so that it is always between 0 and 1. Usually, NDCG is preferred to DCG."
   ]
  }
 ],
 "metadata": {
  "kernelspec": {
   "display_name": "Python [conda env:working] *",
   "language": "python",
   "name": "conda-env-working-py"
  },
  "language_info": {
   "codemirror_mode": {
    "name": "ipython",
    "version": 3
   },
   "file_extension": ".py",
   "mimetype": "text/x-python",
   "name": "python",
   "nbconvert_exporter": "python",
   "pygments_lexer": "ipython3",
   "version": "3.8.2"
  }
 },
 "nbformat": 4,
 "nbformat_minor": 4
}
