{
 "cells": [
  {
   "cell_type": "markdown",
   "metadata": {},
   "source": [
    "### Naive Bayes \n",
    "\n",
    "- Supervised learning algorithms that apply a \"naive\" assumption of *conditional dependence* between every pair of features. Given class variable $y$ and dependent features $x_1$..$x_n$, Bayes' theorem defines the following relation:\n",
    "\n",
    "    $P(y \\mid x_1, \\dots, x_n) = \\frac{P(y) P(x_1, \\dots, x_n \\mid y)}\n",
    "                                 {P(x_1, \\dots, x_n)}$\n",
    "                                 \n",
    "- Naive Bayes classifiers useful in many use cases - relatively small training data requirements, and fast computation, and relatively immune to \"curse of dimensionality\" issues thanks to the *decoupling of class-conditional feature distributions* (each distribution can be independently evaluated as a 1D function.)\n",
    "\n",
    "- Naive Bayes is a decent classifier, but a bad estimator. Probability outputs from `predict_proba` should not be taken seriously."
   ]
  },
  {
   "cell_type": "markdown",
   "metadata": {},
   "source": [
    "### [Gaussian NB classification](https://scikit-learn.org/stable/modules/generated/sklearn.naive_bayes.GaussianNB.html#sklearn.naive_bayes.GaussianNB)\n",
    "\n",
    "- Feature probabilities are assumed to Gaussian: $P(x_i \\mid y) = \\frac{1}{\\sqrt{2\\pi\\sigma^2_y}} \\exp\\left(-\\frac{(x_i - \\mu_y)^2}{2\\sigma^2_y}\\right)$\n",
    "\n",
    "- $\\sigma_y$ and $\\mu_y$ are estimated via maximum likelihood."
   ]
  },
  {
   "cell_type": "code",
   "execution_count": 3,
   "metadata": {},
   "outputs": [
    {
     "name": "stdout",
     "output_type": "stream",
     "text": [
      "#mislabeled points:\t 4\n",
      "#total points:\t\t 75\n"
     ]
    }
   ],
   "source": [
    "from sklearn.datasets import load_iris\n",
    "from sklearn.model_selection import train_test_split\n",
    "from sklearn.naive_bayes import GaussianNB\n",
    "\n",
    "X, y = load_iris(return_X_y=True)\n",
    "X_train, X_test, y_train, y_test = train_test_split(X, y, test_size=0.5, random_state=0)\n",
    "\n",
    "gnb = GaussianNB()\n",
    "y_pred = gnb.fit(X_train, y_train).predict(X_test)\n",
    "\n",
    "print(\"#mislabeled points:\\t\", (y_test != y_pred).sum())\n",
    "print(\"#total points:\\t\\t\", X_test.shape[0])"
   ]
  },
  {
   "cell_type": "markdown",
   "metadata": {},
   "source": [
    "### [Multinomial NB classification](https://scikit-learn.org/stable/modules/generated/sklearn.naive_bayes.MultinomialNB.html#sklearn.naive_bayes.MultinomialNB)\n",
    "\n",
    "- Implements NB for *multinomial distributions*.\n",
    "- Heavily used in *text classification* where data is often represented as word vector counts.\n",
    "\n",
    "- Distribution is modeled as $\\theta_y = (\\theta_{y1},\\ldots,\\theta_{yn})$ for each class $y$, #features $n$, and the probability of feature $i$ appearing in a sample belonging to class $y$: $\\theta_{yi}$\n",
    "\n",
    "- $\\theta_{yi}$ is estimated using a smoothed version of *max likelihood*, aka \"relative frequency counting\": $\\hat{\\theta}_{yi} = \\frac{ N_{yi} + \\alpha}{N_y + \\alpha n}$, where $N_{yi} = \\sum_{x \\in T} x_i$ is the #times feature $i$ appears in a sample of class $y$ in the training set $T$.\n",
    "\n",
    "- Smoothing $\\alpha$ accounts for features not in the learning samples & prevents zero probabilities. $\\alpha$=1 is \"Laplace smoothing\"; $\\alpha$<1 is \"Lidstone smoothing\"."
   ]
  },
  {
   "cell_type": "code",
   "execution_count": 4,
   "metadata": {},
   "outputs": [
    {
     "name": "stdout",
     "output_type": "stream",
     "text": [
      "[3]\n"
     ]
    }
   ],
   "source": [
    "import numpy as np\n",
    "\n",
    "rng = np.random.RandomState(1)\n",
    "X   = rng.randint(5, size=(6, 100))\n",
    "y   = np.array([1, 2, 3, 4, 5, 6])\n",
    "\n",
    "from sklearn.naive_bayes import MultinomialNB\n",
    "\n",
    "clf = MultinomialNB(); clf.fit(X,y); print(clf.predict(X[2:3]))"
   ]
  },
  {
   "cell_type": "markdown",
   "metadata": {},
   "source": [
    "### [Complement NB classification](https://scikit-learn.org/stable/modules/generated/sklearn.naive_bayes.ComplementNB.html#sklearn.naive_bayes.ComplementNB)\n",
    "\n",
    "- CNB is adapted from MNB & is *well suited for imbalanced datasets*. It uses the *complement* of each class to find model weights:\n",
    "\n",
    "     \\begin{align}\\begin{aligned}\\hat{\\theta}_{ci} = \\frac{\\alpha_i + \\sum_{j:y_j \\neq c} d_{ij}}\n",
    "                         {\\alpha + \\sum_{j:y_j \\neq c} \\sum_{k} d_{kj}}\\\\w_{ci} = \\log \\hat{\\theta}_{ci}\\\\w_{ci} = \\frac{w_{ci}}{\\sum_{j} |w_{cj}|}\\end{aligned}\\end{align} \n",
    "                         \n",
    "     - using summations of all documents $j$ **not** in class $c$\n",
    "     - $d_{ij}$ is the count, or tf-idf value, of term $i$ in document $j$\n",
    "     - $\\alpha_i$ is a smoothing parameter, similar to MNB\n",
    "\n",
    "- The 2nd normalization addresses the tendency of longer documents to dominate MNB parameter estimates. The classification rule is:\n",
    "\n",
    "    $\\hat{c} = \\arg\\min_c \\sum_{i} t_i w_{ci}$"
   ]
  },
  {
   "cell_type": "code",
   "execution_count": 5,
   "metadata": {},
   "outputs": [
    {
     "name": "stdout",
     "output_type": "stream",
     "text": [
      "[3]\n"
     ]
    }
   ],
   "source": [
    "import numpy as np\n",
    "\n",
    "rng = np.random.RandomState(1)\n",
    "X = rng.randint(5, size=(6, 100))\n",
    "y = np.array([1, 2, 3, 4, 5, 6])\n",
    "\n",
    "from sklearn.naive_bayes import ComplementNB\n",
    "\n",
    "clf = ComplementNB(); clf.fit(X, y); print(clf.predict(X[2:3]))"
   ]
  },
  {
   "cell_type": "markdown",
   "metadata": {},
   "source": [
    "### [Bernoulli NB classification](https://scikit-learn.org/stable/modules/generated/sklearn.naive_bayes.BernoulliNB.html#sklearn.naive_bayes.BernoulliNB)\n",
    "\n",
    "- BNB is used for multivariate Bernoulli distributions (multiple features, each being a binary/boolean_), so this method requires feature vectors to binary-valued.\n",
    "- BNB can binarize other datatypes via the `binarize` parameter.\n",
    "- The decision rule is $P(x_i \\mid y) = P(i \\mid y) x_i + (1 - P(i \\mid y)) (1 - x_i)$.\n",
    "    - It penalizes the absence of feature $i$ for class $y$ - where MNB would simply ignore the non-occurrence."
   ]
  },
  {
   "cell_type": "code",
   "execution_count": 6,
   "metadata": {},
   "outputs": [
    {
     "name": "stdout",
     "output_type": "stream",
     "text": [
      "[3]\n"
     ]
    }
   ],
   "source": [
    "import numpy as np\n",
    "\n",
    "rng = np.random.RandomState(1)\n",
    "X = rng.randint(5, size=(6, 100))\n",
    "y = np.array([1, 2, 3, 4, 5, 6])\n",
    "\n",
    "from sklearn.naive_bayes import BernoulliNB\n",
    "\n",
    "clf = BernoulliNB(); clf.fit(X, y); print(clf.predict(X[2:3]))"
   ]
  },
  {
   "cell_type": "markdown",
   "metadata": {},
   "source": [
    "### [Categorical NB](https://scikit-learn.org/stable/modules/generated/sklearn.naive_bayes.CategoricalNB.html#sklearn.naive_bayes.CategoricalNB)\n",
    "\n",
    "- CNB assumes each feature has its own distribution.\n",
    "- The probability of category $t$ in feature $i$, given class $c$, is:\n",
    "\n",
    "    P(x_i = t \\mid y = c \\: ;\\, \\alpha) = \\frac{ N_{tic} + \\alpha}{N_{c} +\n",
    "                                       \\alpha n_i},\n",
    "                                       \n",
    "    - $N_{tic}$ is the #times category $t$ appears in samples $x_i$ in class $c$\n",
    "    - $N_c$ is the #samples with class $c$\n",
    "    - $\\alpha$ is a smoothing parameter\n",
    "    - $n_i$ is the #available categories of feature $i$.\n",
    "    \n",
    "    \n",
    "- CNB assumes the sample matrix $X$ is encoded so that all categories of each feature $i$ are represented with 0,....$n_i$-1, where $n_i$ is the #available categories."
   ]
  },
  {
   "cell_type": "code",
   "execution_count": 7,
   "metadata": {},
   "outputs": [
    {
     "name": "stdout",
     "output_type": "stream",
     "text": [
      "[3]\n"
     ]
    }
   ],
   "source": [
    "import numpy as np\n",
    "\n",
    "rng = np.random.RandomState(1)\n",
    "X = rng.randint(5, size=(6, 100))\n",
    "y = np.array([1, 2, 3, 4, 5, 6])\n",
    "\n",
    "from sklearn.naive_bayes import CategoricalNB\n",
    "\n",
    "clf = CategoricalNB(); clf.fit(X, y); print(clf.predict(X[2:3]))\n"
   ]
  },
  {
   "cell_type": "markdown",
   "metadata": {},
   "source": [
    "### Out-of-core fitting\n",
    "- If a training set cannot fit in main memory, MNB, BNB & GNB support a `partial_fit` method to enable *incremental fitting*. If used, the first call to `partial fit` requires inputting the entire class labels list.\n",
    "- `partial_fit` introduces some computational overhead. Use larger data chunks whenever possible to avoid cache/disk thrashing."
   ]
  },
  {
   "cell_type": "code",
   "execution_count": null,
   "metadata": {},
   "outputs": [],
   "source": []
  }
 ],
 "metadata": {
  "kernelspec": {
   "display_name": "Python [conda env:working] *",
   "language": "python",
   "name": "conda-env-working-py"
  },
  "language_info": {
   "codemirror_mode": {
    "name": "ipython",
    "version": 3
   },
   "file_extension": ".py",
   "mimetype": "text/x-python",
   "name": "python",
   "nbconvert_exporter": "python",
   "pygments_lexer": "ipython3",
   "version": "3.8.2"
  }
 },
 "nbformat": 4,
 "nbformat_minor": 4
}
