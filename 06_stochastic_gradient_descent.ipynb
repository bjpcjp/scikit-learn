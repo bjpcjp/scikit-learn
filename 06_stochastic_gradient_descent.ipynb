{
 "cells": [
  {
   "cell_type": "markdown",
   "metadata": {},
   "source": [
    "### Stochastic Gradient Descent (SGD)\n",
    "- A simple & efficient training algorithm\n",
    "- Not the *only* one out there. For example, `SGDClassifier(loss='log')` is equivalent to Logistic Regression fitted via SGD."
   ]
  },
  {
   "cell_type": "markdown",
   "metadata": {},
   "source": [
    "### [SGD Classification](https://scikit-learn.org/stable/modules/generated/sklearn.linear_model.SGDClassifier.html#sklearn.linear_model.SGDClassifier)\n",
    "- Accepts two input arrays: training data `X (#samples,#features)` and targets (labels) `y (#labels)`."
   ]
  },
  {
   "cell_type": "code",
   "execution_count": 3,
   "metadata": {},
   "outputs": [
    {
     "name": "stdout",
     "output_type": "stream",
     "text": [
      "[[9.85221675 9.85221675]]\n",
      "[-9.97004991]\n",
      "[1.]\n"
     ]
    }
   ],
   "source": [
    "from sklearn.linear_model import SGDClassifier\n",
    "X,y = [[0.0, 0.0], [1.0, 1.0]], [0.0, 1.0]\n",
    "\n",
    "clf = SGDClassifier(loss=\"hinge\", penalty=\"l2\", max_iter=50)\n",
    "clf.fit(X, y)\n",
    "print(clf.coef_) # model params\n",
    "print(clf.intercept_) # offset/bias\n",
    "print(clf.predict([[2.0,2.0]])) # predicting new values"
   ]
  },
  {
   "cell_type": "markdown",
   "metadata": {},
   "source": [
    "- `fit_intercept` tells the model whether to use an intercept (a biased hyperplane).\n",
    "- `decision_function` (a method) returns the *signed distance to the hyperplane* (the dot product between the coefficients & the input sample - plus the intercept.)"
   ]
  },
  {
   "cell_type": "code",
   "execution_count": 4,
   "metadata": {},
   "outputs": [
    {
     "data": {
      "text/plain": [
       "array([29.43881708])"
      ]
     },
     "execution_count": 4,
     "metadata": {},
     "output_type": "execute_result"
    }
   ],
   "source": [
    "clf.decision_function([[2.0, 2.0]])"
   ]
  },
  {
   "cell_type": "markdown",
   "metadata": {},
   "source": [
    "- `loss` sets the loss function for the model. options:\n",
    "    - `loss=\"hinge\"` - linear support vector machine\n",
    "    - `loss=\"modified_huber\"` - hinge loss (smoothed)\n",
    "    - `loss=\"log\"` - logistic regression\n",
    "    \n",
    "- Using log and modified_huber loss functions enables the `predict_proba` method - which returns a vector of probability estimates per sample x: $P(y|x)$"
   ]
  },
  {
   "cell_type": "code",
   "execution_count": 6,
   "metadata": {},
   "outputs": [
    {
     "data": {
      "text/plain": [
       "array([[6.54276816e-07, 9.99999346e-01]])"
      ]
     },
     "execution_count": 6,
     "metadata": {},
     "output_type": "execute_result"
    }
   ],
   "source": [
    "clf = SGDClassifier(loss=\"log\", max_iter=25).fit(X, y)\n",
    "clf.predict_proba([[1., 1.]])"
   ]
  },
  {
   "cell_type": "markdown",
   "metadata": {},
   "source": [
    "- L1 & L2 norm penalties are set using `penalty`:\n",
    "    - `penalty=\"l2\"`: L2 norm penalty used on coef_.\n",
    "    - `penalty=\"l1\"`: L1 norm penalty used on coef_.\n",
    "    - `penalty=\"elasticnet\"`: convex combination of L1 & L2 norm penalties.\n",
    "    \n",
    "- The default is `penalty=l2\"`.\n",
    "- `l1_ratio` controls the convex L1/L2 penalty combination."
   ]
  },
  {
   "cell_type": "markdown",
   "metadata": {},
   "source": [
    "### Multiclass Classification\n",
    "- Implemented with a one-vs-all (OVA) scheme. A binary classifier is trained on each of K classes vs all other (K-1) classes.\n",
    "- The *confidence score* (the signed distance to the hyperplane) is found for each classifier; the class with the highest score is returned."
   ]
  },
  {
   "cell_type": "code",
   "execution_count": 7,
   "metadata": {},
   "outputs": [],
   "source": [
    "import numpy as np\n",
    "import matplotlib.pyplot as plt\n",
    "from sklearn import datasets\n",
    "from sklearn.linear_model import SGDClassifier"
   ]
  },
  {
   "cell_type": "code",
   "execution_count": 17,
   "metadata": {},
   "outputs": [],
   "source": [
    "iris = datasets.load_iris()\n",
    "X,y,colors = iris.data[:,:2], iris.target, \"bry\"\n",
    "\n",
    "# shuffle\n",
    "idx = np.arange(X.shape[0])\n",
    "np.random.seed(13); np.random.shuffle(idx)\n",
    "X,y = X[idx],y[idx]\n",
    "\n",
    "# standardize\n",
    "mean = X.mean(axis=0)\n",
    "std  = X.std(axis=0)\n",
    "X    = (X-mean)/std"
   ]
  },
  {
   "cell_type": "code",
   "execution_count": 18,
   "metadata": {},
   "outputs": [],
   "source": [
    "h = .02  # step size in the mesh\n",
    "\n",
    "clf = SGDClassifier(alpha=0.001, max_iter=100).fit(X, y)\n",
    "\n",
    "# create a mesh to plot in\n",
    "x_min, x_max = X[:, 0].min() - 1, X[:, 0].max() + 1\n",
    "y_min, y_max = X[:, 1].min() - 1, X[:, 1].max() + 1\n",
    "xx, yy = np.meshgrid(np.arange(x_min, x_max, h),\n",
    "                     np.arange(y_min, y_max, h))"
   ]
  },
  {
   "cell_type": "code",
   "execution_count": 19,
   "metadata": {},
   "outputs": [
    {
     "data": {
      "image/png": "[encoded data removed]",
      "text/plain": [
       "<Figure size 432x288 with 1 Axes>"
      ]
     },
     "metadata": {
      "needs_background": "light"
     },
     "output_type": "display_data"
    }
   ],
   "source": [
    "Z = clf.predict(np.c_[xx.ravel(), \n",
    "                      yy.ravel()])\n",
    "\n",
    "Z = Z.reshape(xx.shape)\n",
    "cs = plt.contourf(xx, yy, Z, cmap=plt.cm.Paired)\n",
    "\n",
    "for i, color in zip(clf.classes_, colors):\n",
    "    idx = np.where(y == i)\n",
    "    plt.scatter(X[idx, 0], \n",
    "                X[idx, 1], \n",
    "                c=color, label=iris.target_names[i],\n",
    "                cmap=plt.cm.Paired, edgecolor='black', s=20)\n",
    "    \n",
    "plt.title(\"Decision surface of multi-class SGD\")\n",
    "\n",
    "# Plot the three one-against-all classifiers\n",
    "xmin, xmax = plt.xlim()\n",
    "ymin, ymax = plt.ylim()\n",
    "coef = clf.coef_\n",
    "intercept = clf.intercept_\n",
    "\n",
    "def plot_hyperplane(c, color):\n",
    "    def line(x0):\n",
    "        return (-(x0 * coef[c, 0]) - intercept[c]) / coef[c, 1]\n",
    "\n",
    "    plt.plot([xmin, xmax], [line(xmin), line(xmax)],\n",
    "             ls=\"--\", color=color)\n",
    "\n",
    "for i, color in zip(clf.classes_, colors):\n",
    "    plot_hyperplane(i, color)\n",
    "\n",
    "plt.legend(); plt.show()"
   ]
  },
  {
   "cell_type": "markdown",
   "metadata": {},
   "source": [
    "### Weighted Classification\n",
    "- SGDClassifier supports weighted classes (via `class_weight`) and instances (via `sample_weight`)."
   ]
  },
  {
   "cell_type": "code",
   "execution_count": 23,
   "metadata": {},
   "outputs": [
    {
     "data": {
      "image/png": "[encoded data removed]",
      "text/plain": [
       "<Figure size 432x288 with 1 Axes>"
      ]
     },
     "metadata": {},
     "output_type": "display_data"
    }
   ],
   "source": [
    "from sklearn import linear_model\n",
    "\n",
    "np.random.seed(0)\n",
    "X = np.r_[np.random.randn(10, 2) + [1, 1], \n",
    "          np.random.randn(10, 2)]\n",
    "y = [1] * 10 + [-1] * 10\n",
    "\n",
    "sample_weight       = 100 * np.abs(np.random.randn(20))\n",
    "sample_weight[:10] *= 10 # assign more weight to last 10 samples\n",
    "\n",
    "xx, yy = np.meshgrid(np.linspace(-4, 5, 500), \n",
    "                     np.linspace(-4, 5, 500))\n",
    "plt.figure()\n",
    "plt.scatter(X[:, 0], \n",
    "            X[:, 1], \n",
    "            c=y, s=sample_weight, alpha=0.9,\n",
    "            cmap=plt.cm.bone, edgecolor='black')\n",
    "\n",
    "# fit the unweighted model\n",
    "clf = linear_model.SGDClassifier(alpha=0.01, max_iter=100)\n",
    "clf.fit(X, y)\n",
    "Z = clf.decision_function(np.c_[xx.ravel(), \n",
    "                                yy.ravel()])\n",
    "Z = Z.reshape(xx.shape)\n",
    "no_weights = plt.contour(xx, yy, Z, \n",
    "                         levels=[0], linestyles=['solid'])\n",
    "\n",
    "# fit the weighted model\n",
    "clf = linear_model.SGDClassifier(alpha=0.01, max_iter=100)\n",
    "clf.fit(X, y, sample_weight=sample_weight)\n",
    "Z = clf.decision_function(np.c_[xx.ravel(), \n",
    "                                yy.ravel()])\n",
    "Z = Z.reshape(xx.shape)\n",
    "samples_weights = plt.contour(xx, yy, Z, \n",
    "                              levels=[0], linestyles=['dashed'])\n",
    "\n",
    "plt.legend([no_weights.collections[0], \n",
    "            samples_weights.collections[0]],\n",
    "           [\"no weights\", \"with weights\"], loc=\"lower left\")\n",
    "\n",
    "plt.xticks(()); plt.yticks(()); plt.show()"
   ]
  },
  {
   "cell_type": "markdown",
   "metadata": {},
   "source": [
    "### Averaged SGD\n",
    "- SGDClassifier supports averaged SGD (ASGD) via `average=True`.\n",
    "- ASGD computes the same updates as SGD, except that `coef_` is set to the **average** coefficient values across all updates. (The same distinction happens with `intercept_`.)\n",
    "- ASGD can result in accelerated learning rates = learning rate speedups."
   ]
  },
  {
   "cell_type": "markdown",
   "metadata": {},
   "source": [
    "### Example: Solver comparison\n",
    "- compares SGD, ASGD, Perceptron, Passive-Aggressive I/II, SAG"
   ]
  },
  {
   "cell_type": "code",
   "execution_count": 24,
   "metadata": {},
   "outputs": [],
   "source": [
    "from sklearn.model_selection import train_test_split as TTS\n",
    "from sklearn.linear_model import SGDClassifier as SGC\n",
    "from sklearn.linear_model import Perceptron as PERCEPT\n",
    "from sklearn.linear_model import PassiveAggressiveClassifier as PAC\n",
    "from sklearn.linear_model import LogisticRegression as LR\n"
   ]
  },
  {
   "cell_type": "code",
   "execution_count": 25,
   "metadata": {},
   "outputs": [],
   "source": [
    "heldout = [0.95, 0.90, 0.75, 0.50, 0.01]\n",
    "rounds = 20\n",
    "X, y = datasets.load_digits(return_X_y=True)"
   ]
  },
  {
   "cell_type": "code",
   "execution_count": 26,
   "metadata": {},
   "outputs": [],
   "source": [
    "classifiers = [\n",
    "    (\"SGD\",           SGC(max_iter=100)),\n",
    "    (\"ASGD\",          SGC(average=True)),\n",
    "    (\"Perceptron\",    PERCEPT()),\n",
    "    (\"Pasv-Agrsv I\",  PAC(loss='hinge', C=1.0, tol=1e-4)),\n",
    "    (\"Pasv-Agrsv II\", PAC(loss='squared_hinge', C=1.0, tol=1e-4)),\n",
    "    (\"SAG\",           LR(solver='sag', tol=1e-1, C=1.e4 / X.shape[0]))\n",
    "]"
   ]
  },
  {
   "cell_type": "code",
   "execution_count": 27,
   "metadata": {},
   "outputs": [
    {
     "name": "stdout",
     "output_type": "stream",
     "text": [
      "training SGD\n",
      "training ASGD\n",
      "training Perceptron\n",
      "training Pasv-Agrsv I\n",
      "training Pasv-Agrsv II\n",
      "training SAG\n"
     ]
    },
    {
     "data": {
      "image/png": "[encoded data removed]",
      "text/plain": [
       "<Figure size 432x288 with 1 Axes>"
      ]
     },
     "metadata": {
      "needs_background": "light"
     },
     "output_type": "display_data"
    }
   ],
   "source": [
    "xx = 1. - np.array(heldout)\n",
    "\n",
    "for name, clf in classifiers:\n",
    "    print(\"training %s\" % name)\n",
    "    rng = np.random.RandomState(42)\n",
    "    yy = []\n",
    "    for i in heldout:\n",
    "        yy_ = []\n",
    "        for r in range(rounds):\n",
    "            X_train, X_test, y_train, y_test = \\\n",
    "                TTS(X, y, test_size=i, random_state=rng)\n",
    "            \n",
    "            clf.fit(X_train, y_train)\n",
    "            y_pred = clf.predict(X_test)\n",
    "            yy_.append(1 - np.mean(y_pred == y_test))\n",
    "        yy.append(np.mean(yy_))\n",
    "    plt.plot(xx, yy, label=name)\n",
    "\n",
    "plt.legend(loc=\"upper right\")\n",
    "plt.xlabel(\"Proportion train\")\n",
    "plt.ylabel(\"Test Error Rate\")\n",
    "plt.show()"
   ]
  },
  {
   "cell_type": "markdown",
   "metadata": {},
   "source": [
    "### [SGD Regression](https://scikit-learn.org/stable/modules/generated/sklearn.linear_model.SGDRegressor.html#sklearn.linear_model.SGDRegressor)\n",
    "- Implementation that supports various loss functions & penalties\n",
    "- Well suited for regression problems with >10K training samples\n",
    "- Loss function options:\n",
    "    - `loss=\"squared_loss\"`: ordinary least squares regression\n",
    "    - `loss=\"huber\"`: huber loss for robust regression\n",
    "    - `loss=\"epsilon_insensitive`: linear support vector regression\n",
    "- `penalty` controls regularization (same options as in classification)\n",
    "- Averaged SGD (ASGD) is supported.\n",
    "- Stochastic Average Gradient (SAG) is supported."
   ]
  },
  {
   "cell_type": "code",
   "execution_count": 28,
   "metadata": {},
   "outputs": [
    {
     "data": {
      "text/plain": [
       "Pipeline(steps=[('standardscaler', StandardScaler()),\n",
       "                ('sgdregressor', SGDRegressor())])"
      ]
     },
     "execution_count": 28,
     "metadata": {},
     "output_type": "execute_result"
    }
   ],
   "source": [
    "from sklearn.linear_model import SGDRegressor\n",
    "from sklearn.pipeline import make_pipeline\n",
    "from sklearn.preprocessing import StandardScaler\n",
    "\n",
    "n_samples, n_features = 10, 5\n",
    "rng = np.random.RandomState(0)\n",
    "y   = rng.randn(n_samples)\n",
    "X   = rng.randn(n_samples, n_features)\n",
    "\n",
    "# Always scale inputs. The most convenient way is to use a pipeline.\n",
    "reg = make_pipeline(StandardScaler(),\n",
    "                    SGDRegressor(max_iter=1000, tol=1e-3))\n",
    "reg.fit(X, y)"
   ]
  },
  {
   "cell_type": "markdown",
   "metadata": {},
   "source": [
    "### SGD & Sparse Data\n",
    "- Built-in support using data from scipy.sparse.\n",
    "- For max efficiency, use CSR matrix format (scipy.sparse.csr_matrix)"
   ]
  },
  {
   "cell_type": "markdown",
   "metadata": {},
   "source": [
    "### Computational Complexity\n",
    "- Major advantage of SGD: near-linear relationship with #training samples"
   ]
  },
  {
   "cell_type": "markdown",
   "metadata": {},
   "source": [
    "### Stopping & Convergence\n",
    "- SGD Classifier & Regressor methods support two ways to stop when a given level of convergence is reached:\n",
    "    - `early_stopping=True`: stopping criteria is based on the prediction score (`score`) found on the validation set.\n",
    "    - `early_stopping=False`: model is fitted on entire input dataset. Stopping is based on the objective function found on the training dataset.\n",
    "- Stopping criteria is evaluated once per epoch. The algorithm stops when the criterion does not improve by `n_iter_no_change` consecutive times.\n",
    "- The algorithm stops regardless after a max #iterations `max_iter`."
   ]
  },
  {
   "cell_type": "markdown",
   "metadata": {},
   "source": [
    "### Tips\n",
    "- **scale your data**. Easily done using `StandardScaler`.\n",
    "- Find a reasonable regularization term $\\alpha$ with automatic parameter search (GridSearchCV or RandomizedSearchCV). Consider using a range similar to 10.0**-np.arange(1,7)\n",
    "- SGD typically converges after ~10^6 training samples.\n",
    "- If applying SGD to extracted features (for example, using PCA), *consider scaling feature values by a constant `c` such that the average L2 norm of the training data equals one.*\n"
   ]
  },
  {
   "cell_type": "code",
   "execution_count": null,
   "metadata": {},
   "outputs": [],
   "source": []
  }
 ],
 "metadata": {
  "kernelspec": {
   "display_name": "Python [conda env:working] *",
   "language": "python",
   "name": "conda-env-working-py"
  },
  "language_info": {
   "codemirror_mode": {
    "name": "ipython",
    "version": 3
   },
   "file_extension": ".py",
   "mimetype": "text/x-python",
   "name": "python",
   "nbconvert_exporter": "python",
   "pygments_lexer": "ipython3",
   "version": "3.8.8"
  }
 },
 "nbformat": 4,
 "nbformat_minor": 4
}
