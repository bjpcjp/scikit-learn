{
 "cells": [
  {
   "cell_type": "markdown",
   "metadata": {},
   "source": [
    "### [Metrics/Scoring](https://scikit-learn.org/stable/modules/model_evaluation.html)\n",
    "\n",
    "- Three Scikit APIs of note:\n",
    "    - **estimator `score` methods**: provides a default evaluation method.\n",
    "    - **scoring parameter**: used by Cross Validation tools.\n",
    "    - **metric functions**: used to compute prediction error in specific situations.\n",
    "    \n",
    "- [dummy estimators](https://scikit-learn.org/stable/modules/model_evaluation.html#dummy-estimators) provide baseline metric values for random predictions.\n",
    "\n",
    "- [pairwise metrics](https://scikit-learn.org/stable/modules/metrics.html#metrics) provide metrics *between samples*. They are not estimators or predictors."
   ]
  },
  {
   "cell_type": "markdown",
   "metadata": {},
   "source": [
    "###  [Accuracy score](https://scikit-learn.org/stable/modules/generated/sklearn.metrics.accuracy_score.html#sklearn.metrics.accuracy_score)\n",
    "\n",
    "- returns the fraction (default) or count (`normalize=False`) of correct predictions. Returns subset accuracy for multilabel classification. 1.0 & 0.0 equal perfect and worse-case scores respectively."
   ]
  },
  {
   "cell_type": "code",
   "execution_count": 10,
   "metadata": {},
   "outputs": [
    {
     "name": "stdout",
     "output_type": "stream",
     "text": [
      "0.5\n",
      "2\n"
     ]
    }
   ],
   "source": [
    "import numpy as np\n",
    "from sklearn.metrics import accuracy_score\n",
    "y_pred = [0, 2, 1, 3]\n",
    "y_true = [0, 1, 2, 3]\n",
    "\n",
    "print(accuracy_score(y_true, y_pred))\n",
    "print(accuracy_score(y_true, y_pred, normalize=False))"
   ]
  },
  {
   "cell_type": "markdown",
   "metadata": {},
   "source": [
    "### [Top K Accuracy](https://scikit-learn.org/stable/modules/generated/sklearn.metrics.top_k_accuracy_score.html#sklearn.metrics.top_k_accuracy_score)\n",
    "\n",
    "- A prediction is correct as long as the *true label* matches one $k$ highest predicted scores. `accuracy_score` is a a special case of `k=1`.\n",
    "\n",
    "- Covers binary & multiclass classification problems (but not multilabel)."
   ]
  },
  {
   "cell_type": "code",
   "execution_count": 11,
   "metadata": {},
   "outputs": [
    {
     "name": "stdout",
     "output_type": "stream",
     "text": [
      "0.75\n",
      "3\n"
     ]
    }
   ],
   "source": [
    "import numpy as np\n",
    "from sklearn.metrics import top_k_accuracy_score\n",
    "\n",
    "y_true = np.array(  [0,   1,   2,   2])\n",
    "y_score = np.array([[0.5, 0.2, 0.2],\n",
    "                    [0.3, 0.4, 0.2],\n",
    "                    [0.2, 0.4, 0.3],\n",
    "                    [0.7, 0.2, 0.1]])\n",
    "\n",
    "# Not normalizing gives the number of \"correctly\" classified samples\n",
    "\n",
    "print(top_k_accuracy_score(y_true, y_score, k=2))\n",
    "print(top_k_accuracy_score(y_true, y_score, k=2, normalize=False))"
   ]
  },
  {
   "cell_type": "markdown",
   "metadata": {},
   "source": [
    "### [Balanced Accuracy](https://scikit-learn.org/stable/modules/generated/sklearn.metrics.balanced_accuracy_score.html#sklearn.metrics.balanced_accuracy_score)\n",
    "\n",
    "- Avoids inflated performance estimates on *imbalanced datasets*."
   ]
  },
  {
   "cell_type": "code",
   "execution_count": 12,
   "metadata": {},
   "outputs": [
    {
     "name": "stdout",
     "output_type": "stream",
     "text": [
      "0.625\n"
     ]
    }
   ],
   "source": [
    "from sklearn.metrics import balanced_accuracy_score\n",
    "y_true = [0, 1, 0, 0, 1, 0]\n",
    "y_pred = [0, 1, 0, 0, 0, 1]\n",
    "print(balanced_accuracy_score(y_true, y_pred))"
   ]
  },
  {
   "cell_type": "markdown",
   "metadata": {},
   "source": [
    "### [Cohen's kappa](https://scikit-learn.org/stable/modules/generated/sklearn.metrics.cohen_kappa_score.html#sklearn.metrics.cohen_kappa_score)\n",
    "\n",
    "- Designed to compare labelings by different human annotators - not a classifier versus a ground truth.\n",
    "\n",
    "- The kappa score is a number between [-1..+1]. Scores above .8 are generally considered good agreement; zero or lower means no agreement (practically random labels).\n",
    "\n",
    "- Applicable for binary or multiclass problems - not for multilabel problems (except by manually computing a per-label score) and not for more than two annotators."
   ]
  },
  {
   "cell_type": "code",
   "execution_count": 13,
   "metadata": {},
   "outputs": [
    {
     "data": {
      "text/plain": [
       "0.4285714285714286"
      ]
     },
     "execution_count": 13,
     "metadata": {},
     "output_type": "execute_result"
    }
   ],
   "source": [
    "from sklearn.metrics import cohen_kappa_score\n",
    "y_true = [2, 0, 2, 2, 0, 1]\n",
    "y_pred = [0, 0, 2, 2, 0, 2]\n",
    "cohen_kappa_score(y_true, y_pred)"
   ]
  },
  {
   "cell_type": "markdown",
   "metadata": {},
   "source": [
    "### [Confusion matrix](https://scikit-learn.org/stable/modules/generated/sklearn.metrics.confusion_matrix.html#sklearn.metrics.confusion_matrix)\n",
    "\n",
    "- Each entry ($i$,$j$) is the number of observations actually in group $i$, but *predicted* to be in group $j$.\n",
    "- `normalize` reports ratios instead of counts, using sums of each column, each row or the entire matrix."
   ]
  },
  {
   "cell_type": "code",
   "execution_count": 19,
   "metadata": {},
   "outputs": [
    {
     "name": "stdout",
     "output_type": "stream",
     "text": [
      "[[2 0 0]\n",
      " [0 0 1]\n",
      " [1 0 2]]\n",
      "[[0.33333333 0.         0.        ]\n",
      " [0.         0.         0.16666667]\n",
      " [0.16666667 0.         0.33333333]]\n"
     ]
    }
   ],
   "source": [
    "from sklearn.metrics import confusion_matrix\n",
    "y_true = [2, 0, 2, 2, 0, 1]\n",
    "y_pred = [0, 0, 2, 2, 0, 2]\n",
    "print(confusion_matrix(y_true, y_pred))\n",
    "print(confusion_matrix(y_true, y_pred, normalize='all'))"
   ]
  },
  {
   "cell_type": "markdown",
   "metadata": {},
   "source": [
    "- To get counts of *true negatives*, *false positives*, *false negatives* and *true positives* in binary problems:"
   ]
  },
  {
   "cell_type": "code",
   "execution_count": 20,
   "metadata": {},
   "outputs": [
    {
     "name": "stdout",
     "output_type": "stream",
     "text": [
      "2 1 2 3\n"
     ]
    }
   ],
   "source": [
    "y_true = [0, 0, 0, 1, 1, 1, 1, 1]\n",
    "y_pred = [0, 1, 0, 1, 0, 1, 0, 1]\n",
    "tn, fp, fn, tp = confusion_matrix(y_true, y_pred).ravel()\n",
    "print(tn, fp, fn, tp)"
   ]
  },
  {
   "cell_type": "markdown",
   "metadata": {},
   "source": [
    "- [plot_confusion_matrix](https://scikit-learn.org/stable/modules/generated/sklearn.metrics.plot_confusion_matrix.html#sklearn.metrics.plot_confusion_matrix) does the same, but visually."
   ]
  },
  {
   "cell_type": "code",
   "execution_count": 15,
   "metadata": {},
   "outputs": [],
   "source": [
    "import numpy as np\n",
    "import matplotlib.pyplot as plt\n",
    "from sklearn import svm, datasets\n",
    "from sklearn.model_selection import train_test_split\n",
    "from sklearn.metrics import plot_confusion_matrix"
   ]
  },
  {
   "cell_type": "code",
   "execution_count": 17,
   "metadata": {},
   "outputs": [
    {
     "name": "stdout",
     "output_type": "stream",
     "text": [
      "CM\n",
      "[[13  0  0]\n",
      " [ 0 10  6]\n",
      " [ 0  0  9]]\n",
      "CM, Normalized\n",
      "[[1.    0.    0.   ]\n",
      " [0.    0.625 0.375]\n",
      " [0.    0.    1.   ]]\n"
     ]
    },
    {
     "data": {
      "image/png": "[encoded data removed]",
      "text/plain": [
       "<Figure size 432x288 with 2 Axes>"
      ]
     },
     "metadata": {
      "needs_background": "light"
     },
     "output_type": "display_data"
    },
    {
     "data": {
      "image/png": "[encoded data removed]",
      "text/plain": [
       "<Figure size 432x288 with 2 Axes>"
      ]
     },
     "metadata": {
      "needs_background": "light"
     },
     "output_type": "display_data"
    }
   ],
   "source": [
    "iris = datasets.load_iris()\n",
    "X,y,names = iris.data, iris.target, iris.target_names\n",
    "\n",
    "X_train, X_test, y_train, y_test = train_test_split(\n",
    "    X, y, random_state=0)\n",
    "\n",
    "classifier = svm.SVC(kernel='linear', \n",
    "                     C=0.01).fit(X_train, y_train)\n",
    "\n",
    "titles_options = [(\"CM\", None),\n",
    "                  (\"CM, Normalized\", 'true')]\n",
    "for title, normalize in titles_options:\n",
    "    disp = plot_confusion_matrix(classifier, X_test, y_test,\n",
    "                                 display_labels=names,\n",
    "                                 cmap=plt.cm.Blues,\n",
    "                                 normalize=normalize)\n",
    "    disp.ax_.set_title(title)\n",
    "    print(title)\n",
    "    print(disp.confusion_matrix)"
   ]
  },
  {
   "cell_type": "markdown",
   "metadata": {},
   "source": [
    "### [Classification Report](https://scikit-learn.org/stable/modules/generated/sklearn.metrics.classification_report.html#sklearn.metrics.classification_report)\n",
    "\n",
    "- Builds a text report of the main classification metrics."
   ]
  },
  {
   "cell_type": "code",
   "execution_count": 21,
   "metadata": {},
   "outputs": [
    {
     "name": "stdout",
     "output_type": "stream",
     "text": [
      "              precision    recall  f1-score   support\n",
      "\n",
      "     class 0       0.67      1.00      0.80         2\n",
      "     class 1       0.00      0.00      0.00         1\n",
      "     class 2       1.00      0.50      0.67         2\n",
      "\n",
      "    accuracy                           0.60         5\n",
      "   macro avg       0.56      0.50      0.49         5\n",
      "weighted avg       0.67      0.60      0.59         5\n",
      "\n"
     ]
    }
   ],
   "source": [
    "from sklearn.metrics import classification_report\n",
    "y_true = [0, 1, 2, 2, 0]\n",
    "y_pred = [0, 0, 2, 1, 0]\n",
    "target_names = ['class 0', 'class 1', 'class 2']\n",
    "print(classification_report(\n",
    "    y_true, y_pred, target_names=target_names))"
   ]
  },
  {
   "cell_type": "markdown",
   "metadata": {},
   "source": [
    "### [Hamming Loss](https://scikit-learn.org/stable/modules/generated/sklearn.metrics.hamming_loss.html#sklearn.metrics.hamming_loss)\n",
    "\n",
    "- Returns the average Hamming loss or [Hamming distance](https://en.wikipedia.org/wiki/Hamming_distance) between two sets of samples."
   ]
  },
  {
   "cell_type": "code",
   "execution_count": 22,
   "metadata": {},
   "outputs": [
    {
     "name": "stdout",
     "output_type": "stream",
     "text": [
      "0.25\n",
      "0.75\n"
     ]
    }
   ],
   "source": [
    "from sklearn.metrics import hamming_loss\n",
    "y_pred = [1, 2, 3, 4]\n",
    "y_true = [2, 2, 3, 4]\n",
    "print(hamming_loss(y_true, y_pred))\n",
    "\n",
    "# multilabel case - binary label indicators\n",
    "print(hamming_loss(np.array([[0, 1], [1, 1]]), \n",
    "                   np.zeros((2, 2))))"
   ]
  },
  {
   "cell_type": "markdown",
   "metadata": {},
   "source": [
    "### [Precision](https://en.wikipedia.org/wiki/Precision_and_recall#Precision), [Recall](https://en.wikipedia.org/wiki/Precision_and_recall#Recall) & [F-measure](https://en.wikipedia.org/wiki/F1_score)\n",
    "\n",
    "- `precision`: the ability to avoid labeling a negative sample as positive: $\\text{precision} = \\frac{tp}{tp + fp}$\n",
    "\n",
    "- `recall`: the ability to find all positive samples: $\\text{recall} = \\frac{tp}{tp + fn}$\n",
    "\n",
    "- `f-measure`: the weighted harmonic mean of precision & recall: $F_\\beta = (1 + \\beta^2) \\frac{\\text{precision} \\times \\text{recall}}{\\beta^2 \\text{precision} + \\text{recall}}$\n",
    "\n",
    "### [Precision Recall Curve](https://scikit-learn.org/stable/modules/generated/sklearn.metrics.precision_recall_curve.html#sklearn.metrics.precision_recall_curve)\n",
    "\n",
    "- Returns a *precision-recall* curve using the ground truth label and the classifier's score by *varying a decision threshold*.\n",
    "\n",
    "- Only applicable to binary problems.\n",
    "\n",
    "### [Average Precision Score](https://scikit-learn.org/stable/modules/generated/sklearn.metrics.average_precision_score.html#sklearn.metrics.average_precision_score)\n",
    "\n",
    "- Returns average precision from the predictions scores. Answer can range between [0..1]; higher is better.\n",
    "\n",
    "- Only applicable to binary classification & multilabel indicator formats.\n",
    "\n",
    "### Binary vs Multiclass vs Multilabel Classification\n",
    "\n",
    "- Binary classification outcomes:\n",
    "    - **TP** (true positive) = correct result\n",
    "    - **FP** (false positive) = unexpected result\n",
    "    - **FN** (false negative) = missing result\n",
    "    - **TN** (true negative) = correct absence of result\n",
    "\n",
    "\n",
    "- Multiclass/Multilabel classification: precision, recall & F-measure stats can be independently applied to each label. Several metrics include ways to combine results across labels. using the `average` param.\n"
   ]
  },
  {
   "cell_type": "code",
   "execution_count": 23,
   "metadata": {},
   "outputs": [],
   "source": [
    "from sklearn import svm, datasets\n",
    "from sklearn.model_selection import train_test_split as TTS\n",
    "import numpy as np\n",
    "\n",
    "iris = datasets.load_iris()\n",
    "X,y = iris.data, iris.target\n",
    "random_state          = np.random.RandomState(0)\n",
    "n_samples, n_features = X.shape\n",
    "X = np.c_[X, random_state.randn(n_samples, \n",
    "                                200 * n_features)]\n",
    "\n",
    "X_train, X_test, y_train, y_test = TTS(X[y<2], \n",
    "                                       y[y<2],\n",
    "                                       test_size=.5,\n",
    "                                       random_state=random_state)\n",
    "\n",
    "classifier = svm.LinearSVC(random_state=random_state)\n",
    "classifier.fit(X_train, y_train)\n",
    "y_score = classifier.decision_function(X_test)"
   ]
  },
  {
   "cell_type": "code",
   "execution_count": 25,
   "metadata": {},
   "outputs": [
    {
     "name": "stdout",
     "output_type": "stream",
     "text": [
      "avg precision-recall score: 0.88\n"
     ]
    }
   ],
   "source": [
    "from sklearn.metrics import average_precision_score as APS\n",
    "avg_prec = APS(y_test, y_score)\n",
    "\n",
    "print('avg precision-recall score: {0:0.2f}'.format(avg_prec))"
   ]
  },
  {
   "cell_type": "code",
   "execution_count": 26,
   "metadata": {},
   "outputs": [
    {
     "data": {
      "text/plain": [
       "Text(0.5, 1.0, '2-class Precision-Recall curve: AP=0.88')"
      ]
     },
     "execution_count": 26,
     "metadata": {},
     "output_type": "execute_result"
    },
    {
     "data": {
      "image/png": "[encoded data removed]",
      "text/plain": [
       "<Figure size 432x288 with 1 Axes>"
      ]
     },
     "metadata": {
      "needs_background": "light"
     },
     "output_type": "display_data"
    }
   ],
   "source": [
    "from sklearn.metrics import precision_recall_curve\n",
    "from sklearn.metrics import plot_precision_recall_curve\n",
    "import matplotlib.pyplot as plt\n",
    "\n",
    "disp = plot_precision_recall_curve(classifier, X_test, y_test)\n",
    "disp.ax_.set_title('2-class Precision-Recall curve: '\n",
    "                   'AP={0:0.2f}'.format(avg_prec))"
   ]
  },
  {
   "cell_type": "markdown",
   "metadata": {},
   "source": [
    "### Precision-Recall Curve, Multilabel"
   ]
  },
  {
   "cell_type": "code",
   "execution_count": 27,
   "metadata": {},
   "outputs": [],
   "source": [
    "from sklearn.preprocessing import label_binarize\n",
    "\n",
    "# Use label_binarize to be multi-label like settings\n",
    "Y = label_binarize(y, classes=[0, 1, 2])\n",
    "n_classes = Y.shape[1]\n",
    "\n",
    "# Split into training and test\n",
    "X_train, X_test, Y_train, Y_test = train_test_split(X, Y, test_size=.5,\n",
    "                                                    random_state=random_state)\n",
    "\n",
    "# use OneVsRestClassifier for multi-label prediction\n",
    "from sklearn.multiclass import OneVsRestClassifier as OVRC\n",
    "\n",
    "# Run classifier\n",
    "classifier = OVRC(svm.LinearSVC(random_state=random_state))\n",
    "classifier.fit(X_train, Y_train)\n",
    "y_score = classifier.decision_function(X_test)"
   ]
  },
  {
   "cell_type": "code",
   "execution_count": 28,
   "metadata": {},
   "outputs": [
    {
     "name": "stdout",
     "output_type": "stream",
     "text": [
      "Average precision score, micro-averaged over all classes: 0.43\n"
     ]
    }
   ],
   "source": [
    "from sklearn.metrics import precision_recall_curve as PRC\n",
    "from sklearn.metrics import average_precision_score as APS\n",
    "\n",
    "precision, recall, avg_prec = dict(), dict(), dict()\n",
    "\n",
    "for i in range(n_classes):\n",
    "    precision[i], recall[i], _ = PRC(Y_test[:, i],\n",
    "                                     y_score[:, i])\n",
    "    avg_prec[i] = APS(Y_test[:, i], \n",
    "                      y_score[:, i])\n",
    "\n",
    "# A \"micro-average\": quantifying score on all classes jointly\n",
    "precision[\"micro\"], recall[\"micro\"], _ = PRC(Y_test.ravel(),\n",
    "                                             y_score.ravel())\n",
    "avg_prec[\"micro\"] = APS(Y_test,\n",
    "                        y_score,\n",
    "                        average=\"micro\")\n",
    "print('Average precision score, micro-averaged over all classes: {0:0.2f}'\n",
    "      .format(avg_prec[\"micro\"]))\n"
   ]
  },
  {
   "cell_type": "code",
   "execution_count": 29,
   "metadata": {},
   "outputs": [
    {
     "data": {
      "text/plain": [
       "Text(0.5, 1.0, 'Average precision score, micro-averaged over all classes: AP=0.43')"
      ]
     },
     "execution_count": 29,
     "metadata": {},
     "output_type": "execute_result"
    },
    {
     "data": {
      "image/png": "[encoded data removed]",
      "text/plain": [
       "<Figure size 432x288 with 1 Axes>"
      ]
     },
     "metadata": {
      "needs_background": "light"
     },
     "output_type": "display_data"
    }
   ],
   "source": [
    "plt.step(recall['micro'], precision['micro'], where='post')\n",
    "plt.xlabel('Recall')\n",
    "plt.ylabel('Precision')\n",
    "plt.ylim([0.0, 1.05])\n",
    "plt.xlim([0.0, 1.0])\n",
    "plt.title(\n",
    "    'Average precision score, micro-averaged over all classes: AP={0:0.2f}'\n",
    "    .format(avg_prec[\"micro\"]))"
   ]
  },
  {
   "cell_type": "markdown",
   "metadata": {},
   "source": [
    "### [Jaccard Similarity](https://scikit-learn.org/stable/modules/generated/sklearn.metrics.jaccard_score.html#sklearn.metrics.jaccard_score)\n",
    "\n",
    "- Returns an average of the [Jaccard similarity coefficient](https://en.wikipedia.org/wiki/Jaccard_index) between pairs of label sets.\n",
    "\n",
    "- The Jaccard coefficient of an $i$th sample with ground truth label $y_i$ and predicted label $\\hat{y}_i$ is $J(y_i, \\hat{y}_i) = \\frac{|y_i \\cap \\hat{y}_i|}{|y_i \\cup \\hat{y}_i|}$."
   ]
  },
  {
   "cell_type": "code",
   "execution_count": 30,
   "metadata": {},
   "outputs": [
    {
     "name": "stdout",
     "output_type": "stream",
     "text": [
      "0.6666666666666666\n",
      "0.5833333333333333\n",
      "0.6666666666666666\n",
      "[0.5 0.5 1. ]\n",
      "[1.         0.         0.33333333]\n",
      "0.4444444444444444\n",
      "0.3333333333333333\n"
     ]
    }
   ],
   "source": [
    "import numpy as np\n",
    "from sklearn.metrics import jaccard_score\n",
    "\n",
    "y_true = np.array([[0, 1, 1], [1, 1, 0]])\n",
    "y_pred = np.array([[1, 1, 1], [1, 0, 0]])\n",
    "\n",
    "# binary\n",
    "print(jaccard_score(y_true[0], y_pred[0]))\n",
    "\n",
    "# binary label indicators\n",
    "print(jaccard_score(y_true, y_pred, average='samples'))\n",
    "print(jaccard_score(y_true, y_pred, average='macro'))\n",
    "print(jaccard_score(y_true, y_pred, average=None))\n",
    "\n",
    "# multiclass - binarized, treated as multilabel\n",
    "y_pred = [0, 2, 1, 2]; y_true = [0, 1, 2, 2]\n",
    "\n",
    "print(jaccard_score(y_true, y_pred, average=None))\n",
    "print(jaccard_score(y_true, y_pred, average='macro'))\n",
    "print(jaccard_score(y_true, y_pred, average='micro'))"
   ]
  },
  {
   "cell_type": "markdown",
   "metadata": {},
   "source": [
    "### [Hinge Loss](https://scikit-learn.org/stable/modules/generated/sklearn.metrics.hinge_loss.html#sklearn.metrics.hinge_loss)\n",
    "\n",
    "- [wikipedia](https://en.wikipedia.org/wiki/Hinge_loss): A distance metric that only considers prediction errors. Used in max margin classifiers such as SVMs."
   ]
  },
  {
   "cell_type": "code",
   "execution_count": 31,
   "metadata": {},
   "outputs": [
    {
     "name": "stdout",
     "output_type": "stream",
     "text": [
      "decision:\t [-2.18177944  2.36355888  0.09088972]\n",
      "0.3030367603854425\n"
     ]
    }
   ],
   "source": [
    "from sklearn import svm\n",
    "from sklearn.metrics import hinge_loss\n",
    "X,y = [[0], [1]], [-1, 1]\n",
    "est = svm.LinearSVC(random_state=0).fit(X, y)\n",
    "\n",
    "pred_decision = est.decision_function([[-2], [3], [0.5]])\n",
    "print(\"decision:\\t\",pred_decision)\n",
    "\n",
    "print(hinge_loss([-1, 1, 1], pred_decision))"
   ]
  },
  {
   "cell_type": "code",
   "execution_count": 32,
   "metadata": {},
   "outputs": [
    {
     "name": "stdout",
     "output_type": "stream",
     "text": [
      "0.5641072414567065\n"
     ]
    },
    {
     "name": "stderr",
     "output_type": "stream",
     "text": [
      "/home/bjpcjp/.local/lib/python3.8/site-packages/sklearn/utils/validation.py:70: FutureWarning: Pass labels=[0 1 2 3] as keyword args. From version 1.0 (renaming of 0.25) passing these as positional arguments will result in an error\n",
      "  warnings.warn(f\"Pass {args_msg} as keyword args. From version \"\n"
     ]
    }
   ],
   "source": [
    "# hinge loss - multiclass SVM classifier\n",
    "X      = np.array([[0], [1], [2], [3]])\n",
    "Y      = np.array([0, 1, 2, 3])\n",
    "labels = np.array([0, 1, 2, 3])\n",
    "est    = svm.LinearSVC().fit(X, Y)\n",
    "\n",
    "pred_decision = est.decision_function([[-1], [2], [3]])\n",
    "y_true = [0, 2, 3]\n",
    "print(hinge_loss(y_true, pred_decision, labels))"
   ]
  },
  {
   "cell_type": "markdown",
   "metadata": {},
   "source": [
    "### [Log Loss](https://scikit-learn.org/stable/modules/generated/sklearn.metrics.log_loss.html#sklearn.metrics.log_loss)\n",
    "\n",
    "- Also called *logistic regression loss* or *cross-entropy loss*.\n",
    "\n",
    "- Commonly used in multinomial logistic regression, neural nets, and some expectation-maximization problems.\n",
    "\n",
    "- Binary classification: log loss per sample = the negative log-likelihood of the classifier given a true label: $L_{\\log}(y, p) = -\\log \\operatorname{Pr}(y|p) = -(y\\log(p)+(1-y)\\log(1-p))$\n",
    "\n",
    "- Multiclass classification: using samples coded in a 1-of-K binary indicator matrix: log loss of entire set: $L_{\\log}(Y, P) = -\\log \\operatorname{Pr}(Y|P) = - \\frac{1}{N} \\sum_{i=0}^{N-1} \\sum_{k=0}^{K-1} y_{i,k} \\log p_{i,k}$"
   ]
  },
  {
   "cell_type": "code",
   "execution_count": 33,
   "metadata": {},
   "outputs": [
    {
     "data": {
      "text/plain": [
       "0.1738073366910675"
      ]
     },
     "execution_count": 33,
     "metadata": {},
     "output_type": "execute_result"
    }
   ],
   "source": [
    "from sklearn.metrics import log_loss\n",
    "y_true = [0, 0, 1, 1]\n",
    "\n",
    "# 1st [.9,.1] pair = 90% probability of 1st sample has label = 0.\n",
    "y_pred = [[.9, .1], [.8, .2], [.3, .7], [.01, .99]]\n",
    "\n",
    "log_loss(y_true, y_pred)"
   ]
  },
  {
   "cell_type": "markdown",
   "metadata": {},
   "source": [
    "### [Matthews Correlation Coefficient](https://scikit-learn.org/stable/modules/generated/sklearn.metrics.matthews_corrcoef.html#sklearn.metrics.matthews_corrcoef)\n",
    "\n",
    "- [Wikipedia](https://en.wikipedia.org/wiki/Matthews_correlation_coefficient)\n",
    "\n",
    "- Given TP = #true positives, FP = #false positives, TN = #true negatives, FN = #false negatives:\n",
    "\n",
    "    - binary: $MCC = \\frac{tp \\times tn-fp \\times fn}{\\sqrt{(tp+fp)(tp+fn)(tn+fp)(tn+fn)}}.$"
   ]
  },
  {
   "cell_type": "code",
   "execution_count": 34,
   "metadata": {},
   "outputs": [
    {
     "data": {
      "text/plain": [
       "-0.3333333333333333"
      ]
     },
     "execution_count": 34,
     "metadata": {},
     "output_type": "execute_result"
    }
   ],
   "source": [
    "from sklearn.metrics import matthews_corrcoef\n",
    "y_true = [+1, +1, +1, -1]\n",
    "y_pred = [+1, -1, +1, +1]\n",
    "matthews_corrcoef(y_true, y_pred)"
   ]
  },
  {
   "cell_type": "markdown",
   "metadata": {},
   "source": [
    "### [Confusion Matrix (Multilabel)](https://scikit-learn.org/stable/modules/generated/sklearn.metrics.multilabel_confusion_matrix.html#sklearn.metrics.multilabel_confusion_matrix)\n",
    "\n",
    "- Returns a class-wise (default) or sample-wise (`samplewise=True`) confusion matrix to evaluation classifier accuracy."
   ]
  },
  {
   "cell_type": "code",
   "execution_count": 35,
   "metadata": {},
   "outputs": [
    {
     "data": {
      "text/plain": [
       "array([[[1, 0],\n",
       "        [0, 1]],\n",
       "\n",
       "       [[1, 0],\n",
       "        [0, 1]],\n",
       "\n",
       "       [[0, 1],\n",
       "        [1, 0]]])"
      ]
     },
     "execution_count": 35,
     "metadata": {},
     "output_type": "execute_result"
    }
   ],
   "source": [
    "import numpy as np\n",
    "from sklearn.metrics import multilabel_confusion_matrix\n",
    "y_true = np.array([[1, 0, 1],\n",
    "                   [0, 1, 0]])\n",
    "y_pred = np.array([[1, 0, 0],\n",
    "                   [0, 1, 1]])\n",
    "multilabel_confusion_matrix(y_true, y_pred)"
   ]
  },
  {
   "cell_type": "code",
   "execution_count": 36,
   "metadata": {},
   "outputs": [
    {
     "data": {
      "text/plain": [
       "array([[[1, 0],\n",
       "        [1, 1]],\n",
       "\n",
       "       [[1, 1],\n",
       "        [0, 1]]])"
      ]
     },
     "execution_count": 36,
     "metadata": {},
     "output_type": "execute_result"
    }
   ],
   "source": [
    "# sample-wise:\n",
    "multilabel_confusion_matrix(y_true, y_pred, samplewise=True)"
   ]
  },
  {
   "cell_type": "code",
   "execution_count": 37,
   "metadata": {},
   "outputs": [
    {
     "data": {
      "text/plain": [
       "array([[[3, 1],\n",
       "        [0, 2]],\n",
       "\n",
       "       [[5, 0],\n",
       "        [1, 0]],\n",
       "\n",
       "       [[2, 1],\n",
       "        [1, 2]]])"
      ]
     },
     "execution_count": 37,
     "metadata": {},
     "output_type": "execute_result"
    }
   ],
   "source": [
    "# multiclass inputs:\n",
    "y_true = [\"cat\", \"ant\", \"cat\", \"cat\", \"ant\", \"bird\"]\n",
    "y_pred = [\"ant\", \"ant\", \"cat\", \"cat\", \"ant\", \"cat\"]\n",
    "multilabel_confusion_matrix(y_true, y_pred,\n",
    "                            labels=[\"ant\", \"bird\", \"cat\"])"
   ]
  },
  {
   "cell_type": "markdown",
   "metadata": {},
   "source": [
    "### [Receiver Operating Characteristic (ROC)](https://scikit-learn.org/stable/modules/generated/sklearn.metrics.roc_curve.html#sklearn.metrics.roc_curve)\n",
    "\n",
    "- Plots True Positive Rate (TPR) vs False Positive Rate (FPR) for binary classifiers."
   ]
  },
  {
   "cell_type": "code",
   "execution_count": 44,
   "metadata": {},
   "outputs": [],
   "source": [
    "import numpy as np\n",
    "import matplotlib.pyplot as plt\n",
    "from itertools import cycle\n",
    "\n",
    "from sklearn import svm, datasets\n",
    "from sklearn.metrics import roc_curve, auc\n",
    "from sklearn.model_selection import train_test_split as TTS\n",
    "from sklearn.preprocessing import label_binarize\n",
    "from sklearn.multiclass import OneVsRestClassifier as OVRC\n",
    "#from scipy import interp\n",
    "from numpy import interp\n",
    "from sklearn.metrics import roc_auc_score"
   ]
  },
  {
   "cell_type": "code",
   "execution_count": 45,
   "metadata": {},
   "outputs": [],
   "source": [
    "iris = datasets.load_iris()\n",
    "X,y = iris.data, iris.target\n",
    "\n",
    "# Binarize the output\n",
    "y = label_binarize(y, classes=[0, 1, 2])\n",
    "n_classes = y.shape[1]\n",
    "\n",
    "# Add noise\n",
    "random_state = np.random.RandomState(0)\n",
    "n_samples, n_features = X.shape\n",
    "X = np.c_[X, random_state.randn(n_samples, 200 * n_features)]\n",
    "\n",
    "X_train, X_test, y_train, y_test = TTS(X,y,test_size=.5,random_state=0)\n",
    "\n",
    "classifier = OVRC(svm.SVC(kernel='linear', \n",
    "                          probability=True,\n",
    "                          random_state=random_state))\n",
    "y_score = classifier.fit(X_train, y_train).decision_function(X_test)\n",
    "\n",
    "# Compute ROC curve and ROC area for each class\n",
    "fpr,tpr,roc_auc = dict(),dict(),dict()\n",
    "\n",
    "for i in range(n_classes):\n",
    "    fpr[i], tpr[i], _ = roc_curve(y_test[:, i], y_score[:, i])\n",
    "    roc_auc[i] = auc(fpr[i], tpr[i])\n",
    "\n",
    "# Compute micro-average ROC curve and ROC area\n",
    "fpr[\"micro\"], tpr[\"micro\"], _ = roc_curve(y_test.ravel(), y_score.ravel())\n",
    "roc_auc[\"micro\"] = auc(fpr[\"micro\"], tpr[\"micro\"])"
   ]
  },
  {
   "cell_type": "code",
   "execution_count": 46,
   "metadata": {},
   "outputs": [
    {
     "data": {
      "text/plain": [
       "<matplotlib.legend.Legend at 0x7f1d3cebcb80>"
      ]
     },
     "execution_count": 46,
     "metadata": {},
     "output_type": "execute_result"
    },
    {
     "data": {
      "image/png": "[encoded data removed]",
      "text/plain": [
       "<Figure size 432x288 with 1 Axes>"
      ]
     },
     "metadata": {
      "needs_background": "light"
     },
     "output_type": "display_data"
    }
   ],
   "source": [
    "lw = 2\n",
    "plt.plot(fpr[2], tpr[2], color='darkorange',\n",
    "         lw=lw, label='ROC curve (area = %0.2f)' % roc_auc[2])\n",
    "plt.plot([0, 1], [0, 1], color='navy', lw=lw, linestyle='--')\n",
    "plt.xlim([0.0, 1.0])\n",
    "plt.ylim([0.0, 1.05])\n",
    "plt.xlabel('False Positive Rate')\n",
    "plt.ylabel('True Positive Rate')\n",
    "plt.title('ROC')\n",
    "plt.legend(loc=\"lower right\")"
   ]
  },
  {
   "cell_type": "markdown",
   "metadata": {},
   "source": [
    "### ROC Curves (Multilabel)"
   ]
  },
  {
   "cell_type": "code",
   "execution_count": 47,
   "metadata": {},
   "outputs": [
    {
     "data": {
      "text/plain": [
       "<matplotlib.legend.Legend at 0x7f1d3ce36f40>"
      ]
     },
     "execution_count": 47,
     "metadata": {},
     "output_type": "execute_result"
    },
    {
     "data": {
      "image/png": "[encoded data removed]",
      "text/plain": [
       "<Figure size 432x288 with 1 Axes>"
      ]
     },
     "metadata": {
      "needs_background": "light"
     },
     "output_type": "display_data"
    }
   ],
   "source": [
    "# First aggregate all false positive rates\n",
    "all_fpr = np.unique(np.concatenate([fpr[i] for i in range(n_classes)]))\n",
    "\n",
    "# Then interpolate all ROC curves at this points\n",
    "mean_tpr = np.zeros_like(all_fpr)\n",
    "for i in range(n_classes):\n",
    "    mean_tpr += interp(all_fpr, fpr[i], tpr[i])\n",
    "\n",
    "# Finally average it and compute AUC\n",
    "mean_tpr /= n_classes\n",
    "\n",
    "fpr[\"macro\"] = all_fpr\n",
    "tpr[\"macro\"] = mean_tpr\n",
    "roc_auc[\"macro\"] = auc(fpr[\"macro\"], tpr[\"macro\"])\n",
    "\n",
    "# Plot all ROC curves\n",
    "plt.figure()\n",
    "plt.plot(fpr[\"micro\"], tpr[\"micro\"],\n",
    "         label='micro-average ROC curve (area = {0:0.2f})'\n",
    "               ''.format(roc_auc[\"micro\"]),\n",
    "         color='deeppink', linestyle=':', linewidth=4)\n",
    "\n",
    "plt.plot(fpr[\"macro\"], tpr[\"macro\"],\n",
    "         label='macro-average ROC curve (area = {0:0.2f})'\n",
    "               ''.format(roc_auc[\"macro\"]),\n",
    "         color='navy', linestyle=':', linewidth=4)\n",
    "\n",
    "colors = cycle(['aqua', 'darkorange', 'cornflowerblue'])\n",
    "for i, color in zip(range(n_classes), colors):\n",
    "    plt.plot(fpr[i], tpr[i], color=color, lw=lw,\n",
    "             label='ROC curve of class {0} (area = {1:0.2f})'\n",
    "             ''.format(i, roc_auc[i]))\n",
    "\n",
    "plt.plot([0, 1], [0, 1], 'k--', lw=lw)\n",
    "plt.xlim([0.0, 1.0])\n",
    "plt.ylim([0.0, 1.05])\n",
    "plt.xlabel('False Positive Rate')\n",
    "plt.ylabel('True Positive Rate')\n",
    "plt.title('Some extension of Receiver operating characteristic to multi-class')\n",
    "plt.legend(loc=\"lower right\")"
   ]
  },
  {
   "cell_type": "markdown",
   "metadata": {},
   "source": [
    "### [Example: Area Under ROC, Multiclass](https://scikit-learn.org/stable/auto_examples/model_selection/plot_roc.html)\n",
    "\n",
    "- [ROC_AUC_score](https://scikit-learn.org/stable/modules/generated/sklearn.metrics.roc_auc_score.html#sklearn.metrics.roc_auc_score) can be used for multiclass classification.\n",
    "\n",
    "- Multiclass OvO compares every unique class pair. Below: calculate AUC using OvR & OvO schemes, report macro average, report prevalence-weighted average."
   ]
  },
  {
   "cell_type": "code",
   "execution_count": 49,
   "metadata": {},
   "outputs": [
    {
     "name": "stdout",
     "output_type": "stream",
     "text": [
      "OvO ROC AUC scores:\n",
      "0.698586 (macro),\n",
      "0.665839 (weighted by prevalence)\n",
      "OvR ROC AUC scores:\n",
      "0.698586 (macro),\n",
      "0.665839 (weighted by prevalence)\n"
     ]
    }
   ],
   "source": [
    "y_prob = classifier.predict_proba(X_test)\n",
    "\n",
    "# macro roc_auc, OvO:\n",
    "MRAO = roc_auc_score(y_test, y_prob, \n",
    "                     multi_class=\"ovo\", average=\"macro\")\n",
    "# weighted, roc_auc, OvO:\n",
    "WRAO = roc_auc_score(y_test, y_prob, \n",
    "                     multi_class=\"ovo\", average=\"weighted\")\n",
    "# macro, roc_auc, OvR:\n",
    "MRAR = roc_auc_score(y_test, y_prob, \n",
    "                     multi_class=\"ovr\", average=\"macro\")\n",
    "# weighted, roc_auc, OvR:\n",
    "WRAR = roc_auc_score(y_test, y_prob, \n",
    "                     multi_class=\"ovr\", average=\"weighted\")\n",
    "\n",
    "print(\"OvO ROC AUC scores:\\n{:.6f} (macro),\\n{:.6f} \"\n",
    "      \"(weighted by prevalence)\"\n",
    "      .format(MRAO, WRAO))\n",
    "print(\"OvR ROC AUC scores:\\n{:.6f} (macro),\\n{:.6f} \"\n",
    "      \"(weighted by prevalence)\"\n",
    "      .format(MRAR, WRAR))"
   ]
  },
  {
   "cell_type": "markdown",
   "metadata": {},
   "source": [
    "### [Detection Error Tradeoff (DET)](https://scikit-learn.org/stable/modules/generated/sklearn.metrics.det_curve.html#sklearn.metrics.det_curve)\n",
    "\n",
    "- Plots error rates for binary classifiers - false reject rates vs false acceptance rates. The axes are are scaled non-linearly, which provides curves that are more linear than ROC curves."
   ]
  },
  {
   "cell_type": "code",
   "execution_count": 51,
   "metadata": {},
   "outputs": [],
   "source": [
    "import matplotlib.pyplot as plt\n",
    "\n",
    "from sklearn.datasets import make_classification\n",
    "from sklearn.ensemble import RandomForestClassifier\n",
    "from sklearn.metrics import plot_det_curve\n",
    "from sklearn.metrics import plot_roc_curve\n",
    "from sklearn.model_selection import train_test_split\n",
    "from sklearn.pipeline import make_pipeline\n",
    "from sklearn.preprocessing import StandardScaler\n",
    "from sklearn.svm import LinearSVC"
   ]
  },
  {
   "cell_type": "code",
   "execution_count": 52,
   "metadata": {},
   "outputs": [
    {
     "data": {
      "text/plain": [
       "<matplotlib.legend.Legend at 0x7f1d3b1f12b0>"
      ]
     },
     "execution_count": 52,
     "metadata": {},
     "output_type": "execute_result"
    },
    {
     "data": {
      "image/png": "[encoded data removed]",
      "text/plain": [
       "<Figure size 792x360 with 2 Axes>"
      ]
     },
     "metadata": {
      "needs_background": "light"
     },
     "output_type": "display_data"
    }
   ],
   "source": [
    "N_SAMPLES = 1000\n",
    "\n",
    "classifiers = {\n",
    "    \"Linear SVM\": make_pipeline(StandardScaler(), \n",
    "                                LinearSVC(C=0.025)),\n",
    "    \"Random Forest\": RandomForestClassifier(\n",
    "        max_depth=5, n_estimators=10, max_features=1\n",
    "    ),\n",
    "}\n",
    "\n",
    "X, y = make_classification(\n",
    "    n_samples=N_SAMPLES, n_features=2, n_redundant=0, n_informative=2,\n",
    "    random_state=1, n_clusters_per_class=1)\n",
    "\n",
    "X_train, X_test, y_train, y_test = train_test_split(\n",
    "    X, y, test_size=.4, random_state=0)\n",
    "\n",
    "fig, [ax_roc, ax_det] = plt.subplots(1, 2, figsize=(11, 5))\n",
    "\n",
    "for name, clf in classifiers.items():\n",
    "    clf.fit(X_train, y_train)\n",
    "\n",
    "    plot_roc_curve(clf, X_test, y_test, ax=ax_roc, name=name)\n",
    "    plot_det_curve(clf, X_test, y_test, ax=ax_det, name=name)\n",
    "    \n",
    "ax_roc.set_title('Receiver Operating Characteristic (ROC) curves')\n",
    "ax_det.set_title('Detection Error Tradeoff (DET) curves')\n",
    "\n",
    "ax_roc.grid(linestyle='--')\n",
    "ax_det.grid(linestyle='--')\n",
    "\n",
    "plt.legend()"
   ]
  },
  {
   "cell_type": "markdown",
   "metadata": {},
   "source": [
    "### [Zero One Loss](https://scikit-learn.org/stable/modules/generated/sklearn.metrics.zero_one_loss.html#sklearn.metrics.zero_one_loss)\n",
    "\n",
    "- Find the sum or average of the *0-1 classification loss* (the percentage of imperfectly predicted subsets). The function normalizes the answer by default. Use `normalize=False` to get the sums instead.\n",
    "\n",
    "- In multilabel classification: it scores a subset as if one of its labels strictly match the predictions - and as a zero if any errors.\n"
   ]
  },
  {
   "cell_type": "code",
   "execution_count": 53,
   "metadata": {},
   "outputs": [
    {
     "name": "stdout",
     "output_type": "stream",
     "text": [
      "0.25\n",
      "1\n",
      "0.5\n",
      "1\n"
     ]
    }
   ],
   "source": [
    "from sklearn.metrics import zero_one_loss\n",
    "y_pred = [1, 2, 3, 4]\n",
    "y_true = [2, 2, 3, 4]\n",
    "\n",
    "print(zero_one_loss(y_true, y_pred))\n",
    "print(zero_one_loss(y_true, y_pred, normalize=False))\n",
    "\n",
    "# multilabel, with binary label indicators:\n",
    "print(zero_one_loss(np.array([[0, 1], [1, 1]]), \n",
    "                    np.ones((2, 2))))\n",
    "print(zero_one_loss(np.array([[0, 1], [1, 1]]), \n",
    "                    np.ones((2, 2)),  normalize=False))"
   ]
  },
  {
   "cell_type": "markdown",
   "metadata": {},
   "source": [
    "### [Brier Score](https://scikit-learn.org/stable/modules/generated/sklearn.metrics.brier_score_loss.html#sklearn.metrics.brier_score_loss)\n",
    "\n",
    "- Returns a [Brier Score](https://en.wikipedia.org/wiki/Brier_score) for binary classes. Values are [0..1]. The smaller the value, the more accurate the prediction.\n",
    "\n",
    "- Defined as the MSE of actual outcome and predicted probability estimate p=Pr(y=1): $BS = \\frac{1}{n_{\\text{samples}}} \\sum_{i=0}^{n_{\\text{samples}} - 1}(y_i - p_i)^2$"
   ]
  },
  {
   "cell_type": "code",
   "execution_count": 54,
   "metadata": {},
   "outputs": [
    {
     "name": "stdout",
     "output_type": "stream",
     "text": [
      "0.055\n",
      "0.055\n",
      "0.055\n",
      "0.0\n"
     ]
    }
   ],
   "source": [
    "import numpy as np\n",
    "from sklearn.metrics import brier_score_loss\n",
    "y_true = np.array([0, 1, 1, 0])\n",
    "y_true_categorical = np.array([\"spam\", \"ham\", \"ham\", \"spam\"])\n",
    "y_prob = np.array([0.1, 0.9, 0.8, 0.4])\n",
    "y_pred = np.array([0, 1, 1, 0])\n",
    "\n",
    "print(brier_score_loss(y_true, y_prob))\n",
    "print(brier_score_loss(y_true, 1 - y_prob, pos_label=0))\n",
    "print(brier_score_loss(y_true_categorical, y_prob, pos_label=\"ham\"))\n",
    "print(brier_score_loss(y_true, y_prob > 0.5))"
   ]
  },
  {
   "cell_type": "markdown",
   "metadata": {},
   "source": [
    "###"
   ]
  }
 ],
 "metadata": {
  "kernelspec": {
   "display_name": "Python [conda env:working] *",
   "language": "python",
   "name": "conda-env-working-py"
  },
  "language_info": {
   "codemirror_mode": {
    "name": "ipython",
    "version": 3
   },
   "file_extension": ".py",
   "mimetype": "text/x-python",
   "name": "python",
   "nbconvert_exporter": "python",
   "pygments_lexer": "ipython3",
   "version": "3.8.2"
  }
 },
 "nbformat": 4,
 "nbformat_minor": 4
}
