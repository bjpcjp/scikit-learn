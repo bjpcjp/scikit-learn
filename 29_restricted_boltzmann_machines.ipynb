{
 "cells": [
  {
   "cell_type": "markdown",
   "metadata": {},
   "source": [
    "### [Restricted Boltzmann Machines (RBMs)](https://scikit-learn.org/stable/modules/neural_networks_unsupervised.html)\n",
    "\n",
    "- RBMs are unsupervised *nonlinear feature learners* based on a probabilistic model. The features extracted by an RBM (or hierarchy of RBMs) can produce good results *when fed into a linear classifier* such as a linear SVM or a perceptron.\n",
    "\n",
    "![rbm graph](px/rbm_graph.png)\n",
    "\n",
    "- The nodes are random variables with states defined by their connection's weights and biases. An *energy function* defines the quality of a joint assignment: $E(\\mathbf{v}, \\mathbf{h}) = -\\sum_i \\sum_j w_{ij}v_ih_j - \\sum_i b_iv_i\n",
    "  - \\sum_j c_jh_j$.\n",
    "  \n",
    "- \"Restricted\" refers to the *bipartite* model structure (direct interaction between hidden units, and between visible units, is prohibited.) This means *conditional independencies* are used: $\\begin{split}h_i \\bot h_j | \\mathbf{v} \\\\\n",
    "v_i \\bot v_j | \\mathbf{h}\\end{split}$\n",
    "\n",
    "- The bipartite structure enables using *[block Gibbs sampling](https://en.wikipedia.org/wiki/Gibbs_sampling)* for inference.\n",
    "\n",
    "- RBMs make assumptions about input distributions. At the moment, scikit-learn only provides BernoulliRBM (either binary or between [0..1]) values, each encoding the probability that the specific feature would be turned on.\n",
    "\n",
    "- The conditional probability distribution of each unit is the *logistic sigmoid activation* function of its inputs: $\\sigma(x) = \\frac{1}{1 + e^{-x}}$"
   ]
  },
  {
   "cell_type": "markdown",
   "metadata": {},
   "source": [
    "### RBM Learning\n",
    "\n",
    "- RBMs use *Stochastic Maximum Likelihood*, \"SML\", or *[Persistent Contrastive Divergence](https://www.cs.toronto.edu/~tijmen/pcd/pcd.pdf), \"PCD\"* for training: \n",
    "$\\log P(v) = \\log \\sum_h e^{-E(v, h)} - \\log \\sum_{x, y} e^{-E(x, y)}$\n",
    "\n",
    "- The *positive* and *negative* gradient terms (the 1st & 2nd terms above) are estimated using minibatches of samples. The 1st is can be efficiently computed, but the 2nd (negative) term is intractible by direct computation. (?)\n",
    "\n",
    "- It can be approximated by *Markov Chain Monte Carlo (MCMC)* using block Gibbs sampling, by iterating over each $h$ and $v$ until the chain \"mixes\". (These are sometimes referred to as \"fantasy particles\". This is inefficient and hard to determine whether the Markov chain mixes.\n",
    "\n",
    "- PCD keeps a number of fantasy particles that are updated $k$ Gibbs steps after each weight update. This allows the particles to more fully explore the space."
   ]
  },
  {
   "cell_type": "markdown",
   "metadata": {},
   "source": [
    "### [Example: RBMs for digit classification](https://scikit-learn.org/stable/auto_examples/neural_networks/plot_rbm_logistic_classification.html#sphx-glr-auto-examples-neural-networks-plot-rbm-logistic-classification-py)\n",
    "\n",
    "- Greyscale images (pixel values = degrees of blackness on a white background), \n",
    "\n",
    "- Artificially generate more labeled data (by perturbing the training data with linear shifts of 1 pixel in each direction) to learn *latent representations* from this small dataset.\n",
    "\n",
    "- Build a classification pipeline with a [Bernoulli RBM](https://scikit-learn.org/stable/modules/generated/sklearn.neural_network.BernoulliRBM.html#sklearn.neural_network.BernoulliRBM) feature extractor and a [LogisticRegression](https://scikit-learn.org/stable/modules/generated/sklearn.linear_model.LogisticRegression.html#sklearn.linear_model.LogisticRegression) classifier. The parameters (learning rate, hidden layer size, regularization) are optimized by grid search, but the search is not reproduced here because of runtime constraints.\n",
    "\n",
    "- Logistic regression on raw pixel values is shown for comparison. The example shows the features extracted by the BernoulliRBM help improve classification accuracy."
   ]
  },
  {
   "cell_type": "code",
   "execution_count": 1,
   "metadata": {},
   "outputs": [],
   "source": [
    "import numpy as np\n",
    "import matplotlib.pyplot as plt\n",
    "\n",
    "from scipy.ndimage import convolve\n",
    "from sklearn import linear_model, datasets, metrics\n",
    "from sklearn.model_selection import train_test_split\n",
    "from sklearn.neural_network import BernoulliRBM\n",
    "from sklearn.pipeline import Pipeline\n",
    "from sklearn.base import clone"
   ]
  },
  {
   "cell_type": "code",
   "execution_count": 3,
   "metadata": {},
   "outputs": [],
   "source": [
    "def nudge_dataset(X, Y):\n",
    "    \"\"\"\n",
    "    This produces a dataset 5 times bigger than the original one,\n",
    "    by moving the 8x8 images in X around by 1px to left, right, down, up\n",
    "    \"\"\"\n",
    "    direction_vectors = [\n",
    "        [[0, 1, 0], [0, 0, 0], [0, 0, 0]],\n",
    "        [[0, 0, 0], [1, 0, 0], [0, 0, 0]],\n",
    "        [[0, 0, 0], [0, 0, 1], [0, 0, 0]],\n",
    "        [[0, 0, 0], [0, 0, 0], [0, 1, 0]]]\n",
    "\n",
    "    def shift(x, w):\n",
    "        return convolve(x.reshape((8, 8)), mode='constant', weights=w).ravel()\n",
    "\n",
    "    X = np.concatenate([X] + [np.apply_along_axis(shift, 1, X, vector)\n",
    "                              for vector in direction_vectors])\n",
    "    Y = np.concatenate([Y for _ in range(5)], axis=0)\n",
    "    return X, Y"
   ]
  },
  {
   "cell_type": "code",
   "execution_count": 4,
   "metadata": {},
   "outputs": [],
   "source": [
    "X, y = datasets.load_digits(return_X_y=True)\n",
    "X    = np.asarray(X, 'float32')\n",
    "X, Y = nudge_dataset(X, y)\n",
    "X    = (X - np.min(X, 0)) / (np.max(X, 0) + 0.0001)  # 0-1 scaling\n",
    "\n",
    "X_train, X_test, Y_train, Y_test = train_test_split(\n",
    "    X, Y, test_size=0.2, random_state=0)\n",
    "\n",
    "# Models we will use\n",
    "logistic = linear_model.LogisticRegression(solver='newton-cg', tol=1)\n",
    "rbm = BernoulliRBM(random_state=0, verbose=True)\n",
    "rbm_features_classifier = Pipeline(\n",
    "    steps=[('rbm', rbm), ('logistic', logistic)])"
   ]
  },
  {
   "cell_type": "code",
   "execution_count": 5,
   "metadata": {},
   "outputs": [
    {
     "name": "stdout",
     "output_type": "stream",
     "text": [
      "[BernoulliRBM] Iteration 1, pseudo-likelihood = -25.39, time = 0.12s\n",
      "[BernoulliRBM] Iteration 2, pseudo-likelihood = -23.77, time = 0.24s\n",
      "[BernoulliRBM] Iteration 3, pseudo-likelihood = -22.94, time = 0.25s\n",
      "[BernoulliRBM] Iteration 4, pseudo-likelihood = -21.87, time = 0.24s\n",
      "[BernoulliRBM] Iteration 5, pseudo-likelihood = -21.69, time = 0.23s\n",
      "[BernoulliRBM] Iteration 6, pseudo-likelihood = -21.09, time = 0.24s\n",
      "[BernoulliRBM] Iteration 7, pseudo-likelihood = -21.13, time = 0.25s\n",
      "[BernoulliRBM] Iteration 8, pseudo-likelihood = -20.58, time = 0.24s\n",
      "[BernoulliRBM] Iteration 9, pseudo-likelihood = -20.52, time = 0.23s\n",
      "[BernoulliRBM] Iteration 10, pseudo-likelihood = -20.17, time = 0.23s\n"
     ]
    },
    {
     "data": {
      "text/plain": [
       "LogisticRegression(C=100.0, solver='newton-cg', tol=1)"
      ]
     },
     "execution_count": 5,
     "metadata": {},
     "output_type": "execute_result"
    }
   ],
   "source": [
    "# Training\n",
    "\n",
    "# Hyper-parameters. These were set by cross-validation,\n",
    "# using a GridSearchCV. Here we are not performing cross-validation to\n",
    "# save time.\n",
    "rbm.learning_rate = 0.06\n",
    "rbm.n_iter = 10\n",
    "# More components tend to give better prediction performance, but larger\n",
    "# fitting time\n",
    "rbm.n_components = 100\n",
    "logistic.C = 6000\n",
    "\n",
    "# Training RBM-Logistic Pipeline\n",
    "rbm_features_classifier.fit(X_train, Y_train)\n",
    "\n",
    "# Training the Logistic regression classifier directly on the pixel\n",
    "raw_pixel_classifier = clone(logistic)\n",
    "raw_pixel_classifier.C = 100.\n",
    "raw_pixel_classifier.fit(X_train, Y_train)"
   ]
  },
  {
   "cell_type": "code",
   "execution_count": 6,
   "metadata": {},
   "outputs": [
    {
     "name": "stdout",
     "output_type": "stream",
     "text": [
      "Logistic regression using RBM features:\n",
      "              precision    recall  f1-score   support\n",
      "\n",
      "           0       0.99      0.98      0.99       174\n",
      "           1       0.90      0.93      0.92       184\n",
      "           2       0.93      0.95      0.94       166\n",
      "           3       0.93      0.87      0.90       194\n",
      "           4       0.97      0.94      0.95       186\n",
      "           5       0.94      0.91      0.93       181\n",
      "           6       0.98      0.97      0.98       207\n",
      "           7       0.94      0.99      0.96       154\n",
      "           8       0.90      0.89      0.89       182\n",
      "           9       0.87      0.92      0.89       169\n",
      "\n",
      "    accuracy                           0.93      1797\n",
      "   macro avg       0.93      0.94      0.93      1797\n",
      "weighted avg       0.93      0.93      0.93      1797\n",
      "\n",
      "\n",
      "Logistic regression using raw pixel features:\n",
      "              precision    recall  f1-score   support\n",
      "\n",
      "           0       0.90      0.91      0.91       174\n",
      "           1       0.60      0.58      0.59       184\n",
      "           2       0.75      0.85      0.80       166\n",
      "           3       0.78      0.78      0.78       194\n",
      "           4       0.81      0.84      0.82       186\n",
      "           5       0.76      0.77      0.77       181\n",
      "           6       0.91      0.87      0.89       207\n",
      "           7       0.85      0.88      0.87       154\n",
      "           8       0.66      0.57      0.61       182\n",
      "           9       0.75      0.76      0.76       169\n",
      "\n",
      "    accuracy                           0.78      1797\n",
      "   macro avg       0.78      0.78      0.78      1797\n",
      "weighted avg       0.78      0.78      0.78      1797\n",
      "\n",
      "\n"
     ]
    }
   ],
   "source": [
    "# Evaluation\n",
    "\n",
    "Y_pred = rbm_features_classifier.predict(X_test)\n",
    "print(\"Logistic regression using RBM features:\\n%s\\n\" % (\n",
    "    metrics.classification_report(Y_test, Y_pred)))\n",
    "\n",
    "Y_pred = raw_pixel_classifier.predict(X_test)\n",
    "print(\"Logistic regression using raw pixel features:\\n%s\\n\" % (\n",
    "    metrics.classification_report(Y_test, Y_pred)))"
   ]
  },
  {
   "cell_type": "code",
   "execution_count": 8,
   "metadata": {},
   "outputs": [
    {
     "data": {
      "image/png": "[encoded data removed]",
      "text/plain": [
       "<Figure size 576x576 with 100 Axes>"
      ]
     },
     "metadata": {},
     "output_type": "display_data"
    }
   ],
   "source": [
    "plt.figure(figsize=(8,8))\n",
    "for i, comp in enumerate(rbm.components_):\n",
    "    plt.subplot(10, 10, i + 1)\n",
    "    plt.imshow(comp.reshape((8, 8)), cmap=plt.cm.gray_r,\n",
    "               interpolation='nearest')\n",
    "    plt.xticks(())\n",
    "    plt.yticks(())\n",
    "plt.suptitle('100 components extracted by RBM', fontsize=16)\n",
    "plt.subplots_adjust(0.08, 0.02, 0.92, 0.85, 0.08, 0.23)"
   ]
  },
  {
   "cell_type": "code",
   "execution_count": null,
   "metadata": {},
   "outputs": [],
   "source": []
  }
 ],
 "metadata": {
  "kernelspec": {
   "display_name": "Python [conda env:working] *",
   "language": "python",
   "name": "conda-env-working-py"
  },
  "language_info": {
   "codemirror_mode": {
    "name": "ipython",
    "version": 3
   },
   "file_extension": ".py",
   "mimetype": "text/x-python",
   "name": "python",
   "nbconvert_exporter": "python",
   "pygments_lexer": "ipython3",
   "version": "3.8.2"
  }
 },
 "nbformat": 4,
 "nbformat_minor": 4
}
